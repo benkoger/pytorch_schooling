{
 "cells": [
  {
   "cell_type": "code",
   "execution_count": 1,
   "metadata": {
    "collapsed": true
   },
   "outputs": [],
   "source": [
    "import torch"
   ]
  },
  {
   "cell_type": "code",
   "execution_count": 38,
   "metadata": {},
   "outputs": [
    {
     "name": "stdout",
     "output_type": "stream",
     "text": [
      "\n",
      " -5 -14   7  14  10\n",
      "-12  -7  19  -6  -8\n",
      " -9   3  12  -7 -16\n",
      " -8  17 -19   5  -4\n",
      " 11  26 -16   8 -11\n",
      "[torch.FloatTensor of size 5x5]\n",
      "\n"
     ]
    }
   ],
   "source": [
    "inner_r = torch.FloatTensor([10.0])\n",
    "outer_r = torch.FloatTensor([20.0])\n",
    "r = torch.randn(5, 5) * 15\n",
    "r = torch.floor(r)\n",
    "print(r)"
   ]
  },
  {
   "cell_type": "code",
   "execution_count": 65,
   "metadata": {},
   "outputs": [
    {
     "name": "stdout",
     "output_type": "stream",
     "text": [
      "\n",
      " 1  1  1  0  1\n",
      " 1  1  0  1  1\n",
      " 1  1  0  1  1\n",
      " 1  0  1  1  1\n",
      " 0  1  1  1  1\n",
      "[torch.FloatTensor of size 5x5]\n",
      "\n"
     ]
    }
   ],
   "source": [
    "mask = ((r > inner_r) * (r < outer_r)) * -1 + 1\n",
    "print(mask.type(torch.FloatTensor))\n",
    "#mask = torch.unsqueeze(mask, 2)\n",
    "#mask = mask.repeat(1,1,2)"
   ]
  },
  {
   "cell_type": "code",
   "execution_count": 56,
   "metadata": {},
   "outputs": [
    {
     "data": {
      "text/plain": [
       "\n",
       "  0   0   0  28   0\n",
       "  0   0  38   0   0\n",
       "  0   0  24   0   0\n",
       "  0  34   0   0   0\n",
       " 22   0   0   0   0\n",
       "[torch.FloatTensor of size 5x5]"
      ]
     },
     "execution_count": 56,
     "metadata": {},
     "output_type": "execute_result"
    }
   ],
   "source": [
    "r_2 = torch.unsqueeze(r,2)\n",
    "r_2 = r_2.repeat(1,1,2)\n",
    "r_2 = torch.sum(r_2, 2)\n",
    "r_2.masked_fill_(mask, 0)"
   ]
  },
  {
   "cell_type": "code",
   "execution_count": 57,
   "metadata": {},
   "outputs": [],
   "source": [
    "r_sum = torch.sum(r_2, 0)"
   ]
  },
  {
   "cell_type": "code",
   "execution_count": 58,
   "metadata": {},
   "outputs": [
    {
     "data": {
      "text/plain": [
       "\n",
       " 22\n",
       " 34\n",
       " 62\n",
       " 28\n",
       "  0\n",
       "[torch.FloatTensor of size 5]"
      ]
     },
     "execution_count": 58,
     "metadata": {},
     "output_type": "execute_result"
    }
   ],
   "source": [
    "r_sum"
   ]
  },
  {
   "cell_type": "code",
   "execution_count": 61,
   "metadata": {},
   "outputs": [
    {
     "data": {
      "text/plain": [
       "\n",
       "  5  14   7  14  10\n",
       " 12   7  19   6   8\n",
       "  9   3  12   7  16\n",
       "  8  17  19   5   4\n",
       " 11  26  16   8  11\n",
       "[torch.FloatTensor of size 5x5]"
      ]
     },
     "execution_count": 61,
     "metadata": {},
     "output_type": "execute_result"
    }
   ],
   "source": [
    "torch.abs(r)"
   ]
  },
  {
   "cell_type": "code",
   "execution_count": null,
   "metadata": {
    "collapsed": true
   },
   "outputs": [],
   "source": []
  }
 ],
 "metadata": {
  "kernelspec": {
   "display_name": "Python 3",
   "language": "python",
   "name": "python3"
  },
  "language_info": {
   "codemirror_mode": {
    "name": "ipython",
    "version": 3
   },
   "file_extension": ".py",
   "mimetype": "text/x-python",
   "name": "python",
   "nbconvert_exporter": "python",
   "pygments_lexer": "ipython3",
   "version": "3.5.3"
  }
 },
 "nbformat": 4,
 "nbformat_minor": 2
}
