{
 "cells": [
  {
   "cell_type": "code",
   "execution_count": 1,
   "metadata": {
    "collapsed": true,
    "deletable": true,
    "editable": true
   },
   "outputs": [],
   "source": [
    "import numpy as np\n",
    "\n",
    "class Colors():\n",
    "\n",
    "\tdef _general_color(self, color, dtype):\n",
    "\t\t\n",
    "\t\tif dtype == 'float':\n",
    "\t\t\treturn [float(i) for i in color]\n",
    "\n",
    "\t\telif dtype == 'np.uint8':\n",
    "\t\t\treturn np.array(\n",
    "\t\t\t\t[color[0], color[1], color[2]], np.uint8)\n",
    "\n",
    "\t\telse:\n",
    "\t\t\treturn color\n",
    "\n",
    "\t#BROWNS\n",
    "\n",
    "\tdef chocolate_silk(self, dtype='int'):\n",
    "\n",
    "\t\tcolor = (49,17,4)\n",
    "\t\t\n",
    "\t\treturn self._general_color(color, dtype)\n",
    "\n",
    "\tdef deep_brown(self, dtype='int'):\n",
    "\n",
    "\t\tcolor = (20,8,2)\n",
    "\t\t\n",
    "\t\treturn self._general_color(color, dtype)\n",
    "\n",
    "\t#BLUES\n",
    "\n",
    "\tdef midnight(self, dtype='int'):\n",
    "\n",
    "\t\tcolor = (1,15,23)\n",
    "\t\t\n",
    "\t\treturn self._general_color(color, dtype)\n",
    "\n",
    "\tdef blueberry_slate(self, dtype='int'):\n",
    "\n",
    "\t\tcolor = (6,56,82)\n",
    "\t\t\n",
    "\t\treturn self._general_color(color, dtype)\n",
    "\n",
    "\n",
    "\t#TURQOUISE\n",
    "\n",
    "\tdef turquoise(self, dtype='int'):\n",
    "\t\t\n",
    "\t\tcolor = (120,192,168)\n",
    "\n",
    "\t\treturn self._general_color(color, dtype)\n",
    "\n",
    "\n",
    "\tdef tiffany(self, dtype='int'):\n",
    "\t\t\n",
    "\t\tcolor = (82,183,189)\n",
    "\n",
    "\t\treturn self._general_color(color, dtype)\n",
    "\n",
    "\t\t82, 183, 189\n",
    "\n",
    "\t#OFF-WHITE\n",
    "\n",
    "\tdef bone(self, dtype='int'):\n",
    "\t\t\n",
    "\t\tcolor = (225,235,182)\n",
    "\n",
    "\t\treturn self._general_color(color, dtype)\n",
    "\n",
    "\t#ORANGE\n",
    "\n",
    "\tdef orange_gold(self, dtype='int'):\n",
    "\t\t\n",
    "\t\tcolor = (240,168,48)\n",
    "\n",
    "\t\treturn self._general_color(color, dtype)\n",
    "\n",
    "\tdef tangerine(self, dtype='int'):\n",
    "\t\t\n",
    "\t\tcolor = (240,129,15)\n",
    "\n",
    "\t\treturn self._general_color(color, dtype)\n",
    "\n",
    "\t#YELLOW\n",
    "\n",
    "\tdef sick_yellow(self, dtype='int'):\n",
    "\t\t\n",
    "\t\tcolor = (230,223,68)\n",
    "\n",
    "\t\treturn self._general_color(color, dtype)\n",
    "\n",
    "\t#RED\n",
    "\n",
    "\tdef red(self, dtype='int'):\n",
    "\t\t\n",
    "\t\tcolor = (255,0,0)\n",
    "\n",
    "\t\treturn self._general_color(color, dtype)\n",
    "\n",
    "\n",
    "\t#WHITE\n",
    "\n",
    "\tdef white(self, dtype='int'):\n",
    "\t\t\n",
    "\t\tcolor = (255,255,255)\n",
    "\n",
    "\t\treturn self._general_color(color, dtype)\n",
    "\n",
    "\tdef ivory(self, dtype='int'):\n",
    "\t\t\n",
    "\t\tcolor = (255,255,240)\n",
    "\n",
    "\t\treturn self._general_color(color, dtype)"
   ]
  },
  {
   "cell_type": "code",
   "execution_count": 2,
   "metadata": {
    "collapsed": false,
    "deletable": true,
    "editable": true
   },
   "outputs": [],
   "source": [
    "\n",
    "import time\n",
    "import random\n",
    "import numpy as np\n",
    "import math as m\n",
    "from scipy import ndimage\n",
    "import cv2\n",
    "import itertools\n",
    "import torch\n",
    "\n",
    "import torch.multiprocessing as mp\n",
    "import kogers_colors \n",
    "\n",
    "\n",
    "from individual import Individual\n",
    "from rotate import rotate\n",
    "\n",
    "from __future__ import division\n",
    "\n",
    "\n",
    "#kc = kogers_colors.Colors()\n",
    "kc = Colors()\n",
    "\n",
    "def close_cv2():\n",
    "    for ind in range(10):\n",
    "        cv2.destroyAllWindows()\n",
    "        cv2.waitKey(1)\n",
    "\n",
    "# differentiable equivalent of np.where\n",
    "# cond could be a FloatTensor with zeros and ones\n",
    "\n",
    "def where(cond, x_1, x_2):\n",
    "    ones = cond.clone().zero_() + 1\n",
    "    return (cond * x_1) + ((ones-cond) * x_2)\n",
    " \n",
    "EPSILON = .0000001\n",
    "    \n",
    "class Simulation():\n",
    "    \n",
    "    def __init__(self, num_agents=400, number_of_states=2, arena_size=1000,\n",
    "                 max_turning_rate=114.5, body_size=4.0, zoa=12.0,\n",
    "                 zor=2.0, zoo=12.0, speed=10, angular_error_sd=0.0, \n",
    "                 ko=0.25, ka=0.25, periodic_boundary=True,\n",
    "                 draw_sim=True, state_threshold=0.5, num_active=.5,\n",
    "                 omega=.5, video=False, video_file='testvid.avi',\n",
    "                 social_weight=0.85, number_of_cells=2, cuda=False,\n",
    "                 noise_sd=.1, movement='schooling', record_states=False):\n",
    "        \n",
    "        \n",
    "        self.FloatTensor = torch.FloatTensor\n",
    "        self.IntTensor = torch.IntTensor\n",
    "        \n",
    "        self.cuda = cuda\n",
    "        if self.cuda:\n",
    "            self.FloatTensor = torch.cuda.FloatTensor \n",
    "            self.IntTensor = torch.cuda.IntTensor \n",
    "            \n",
    "        self.movement = movement\n",
    "        \n",
    "        self.num_agents = int(num_agents)\n",
    "        self.number_of_states = int(number_of_states)\n",
    "        self.arena_size = int(arena_size)\n",
    "        self.max_turning_rate = max_turning_rate\n",
    "        self.body_size = body_size\n",
    "        self.zoa = zoa * body_size\n",
    "        self.zor = zor * body_size\n",
    "        self.zoo = zoo * body_size\n",
    "        self.speed = speed\n",
    "        self.angular_error_sd = angular_error_sd\n",
    "        self.ko = ko\n",
    "        self.ka = ka\n",
    "        self.noise_sd = noise_sd\n",
    "        \n",
    "        self.top_left = np.zeros(2)\n",
    "        self.bottom_right = np.ones(2) * arena_size\n",
    "        self.number_of_cells = int(number_of_cells)\n",
    "        self.next_number_of_cells = int(number_of_cells)\n",
    "        self.cell_size = arena_size / self.number_of_cells\n",
    "        self.total_cells = self.number_of_cells ** 2\n",
    "        \n",
    "        self.agents = self.generate_agents()\n",
    "        \n",
    "        self.periodic_boundary = periodic_boundary\n",
    "        \n",
    "        self.draw_sim = draw_sim\n",
    "        self.state_threshold = state_threshold\n",
    "        self.num_active = int(num_agents * num_active)\n",
    "        self.video = video\n",
    "        self.video_file = video_file\n",
    "        if self.video:\n",
    "            print('Video initialized...')\n",
    "            self.out = self.initialize_video()\n",
    "        else:\n",
    "            self.out = None \n",
    "        \n",
    "        self.social_weight = self.FloatTensor([social_weight])\n",
    "        self.omega = self.FloatTensor([omega])\n",
    "            \n",
    "        self.state = None\n",
    "        \n",
    "        self.record_states = record_states\n",
    "        self.all_states = np.ones((1, self.num_agents))\n",
    "        \n",
    "        #output of the video recorder, if enabled\n",
    "        \n",
    "    def initialize_video(self):\n",
    "        fourcc = cv2.VideoWriter_fourcc(*'ffv1')\n",
    "        out = cv2.VideoWriter(filename=self.video_file, fourcc=fourcc, fps=30, \n",
    "                              frameSize=(int(self.arena_size), int(self.arena_size)), isColor=True)\n",
    "        return out\n",
    "\n",
    "    def create_mask(self, r, inner_r, outer_r):\n",
    "        \"\"\"Return a mask that is False if distance is within the specified range\n",
    "\n",
    "        arguments:\n",
    "        r -- matrix containg distances between all individuals: shape() = (n,m)\n",
    "        inner_r -- minimum distance (exclusive)\n",
    "        outer_r -- maximum distance (exclusive)\n",
    "\n",
    "        return matrix shape = (n,m,2)\n",
    "        \"\"\"\n",
    "        mask = (r > inner_r) * (r < outer_r) * -1 + 1\n",
    "        mask = torch.unsqueeze(mask, 2)\n",
    "        mask = mask.repeat(1,1,2)\n",
    "        return(mask)\n",
    "    \n",
    "    def create_state_mask(self, r, inner_r, outer_r):\n",
    "        \"\"\"Return a mask that is False if distance is within the specified range\n",
    "\n",
    "        arguments:\n",
    "        r -- matrix containg distances between all individuals: shape() = (n,m)\n",
    "        inner_r -- minimum distance (exclusive)\n",
    "        outer_r -- maximum distance (exclusive)\n",
    "\n",
    "        return matrix shape = (n,m)\n",
    "        \"\"\"\n",
    "        mask = (r >= inner_r) * (r < outer_r) * -1 + 1\n",
    "        return(mask)\n",
    "\n",
    "    def zone_vec_v(self, expanded_val, mask):\n",
    "        \"\"\"Apply mask to velocities calculate social alignment\n",
    "        \"\"\"\n",
    "        vals = expanded_val.repeat(1, mask.size()[1], 1)\n",
    "        #take term from vals where mask is true and from zeros when false\n",
    "        \n",
    "        vals = vals.masked_fill_(mask, 0.0)\n",
    "        return(torch.sum(vals, 0))\n",
    "\n",
    "    def zone_vec_state(self, expanded_val, mask):\n",
    "        \"\"\"Apply mask to velocities calculate social alignment\n",
    "        \"\"\"\n",
    "        vals = expanded_val.repeat(1, mask.size()[1])\n",
    "        #take term from vals where mask is true and from zeros when false\n",
    "        vals = vals.masked_fill_(mask, 0.0)\n",
    "        return(torch.sum(vals, 0))\n",
    "\n",
    "    def zone_vec_x(self, rel_pos, mask):\n",
    "        #take term from rel_pos where mask is true and from zeros when false\n",
    "        vals = rel_pos.masked_fill_(mask, 0.0)\n",
    "        return(torch.sum(vals, 0))\n",
    "    \n",
    "    def assign_new_values(self,id_individual):\n",
    "        self.agents[id_individual].r_center = self.xnew_cpu[id]\n",
    "        self.agents[id_individual].direction = self.vnew_cpu[id]\n",
    "        self.agents[id_individual].state = self.state_cpu[id]\n",
    "        \n",
    "    def generate_agents(self):\n",
    "\n",
    "        agents = []\n",
    "        \n",
    "        for indx_agents in range(self.num_agents):\n",
    "            # needs to be a unit vector\n",
    "            set_direction = np.array([1.0, 0.0])    \n",
    "            set_direction = rotate(set_direction, random.random()*360.0)\n",
    "            set_r_center = self.random_bounded_point()\n",
    "            state = np.random.choice(np.arange(self.number_of_states)).astype(np.float) + 1.0\n",
    "            \n",
    "            agents.append(\n",
    "                Individual(set_r_center, set_direction, self.max_turning_rate,\n",
    "                           self.speed, self.zoa, self.zoo, self.zor, self.angular_error_sd, \n",
    "                           self.body_size, state, self.ko, self.ka))\n",
    "        return agents\n",
    "    \n",
    "    def random_bounded_point(self):\n",
    "\n",
    "        # Create randomly distributed co-ordinate in the simulated world\n",
    "        range_x = self.bottom_right[0] - self.top_left[0]\n",
    "        range_y = self.bottom_right[1] - self.top_left[1]\n",
    "\n",
    "        random_x = random.random()\n",
    "        random_y = random.random()\n",
    "\n",
    "        random_x *= range_x\n",
    "        random_y *= range_y\n",
    "        random_point = np.array([random_x, random_y])\n",
    "\n",
    "        return random_point\n",
    "        \n",
    "\n",
    "\n",
    "    def segment_individuals(self):\n",
    "\n",
    "        # this implementation assumes equal x and y \n",
    "        \n",
    "        self.cell_to_agents = [[] for x in range(self.total_cells)]\n",
    "        self.cell_to_positions = [[] for x in range(self.total_cells)]\n",
    "        self.cell_to_velocities = [[] for x in range(self.total_cells)]\n",
    "        self.cell_to_states = [[] for x in range(self.total_cells)]\n",
    "        number_agents_in_cell = [0 for x in range(self.total_cells)]\n",
    "        cell_x = 0\n",
    "        cell_y = 0\n",
    "        if self.record_states:\n",
    "            current_state = np.ones((1, self.num_agents))\n",
    "\n",
    "        for agent_id in range(self.num_agents):\n",
    "            \n",
    "            if self.record_states:\n",
    "                current_state[0,agent_id] = self.agents[agent_id].state\n",
    "            # cell_x and cell_y determine which cell agents is in\n",
    "            cell_x = self.agents[agent_id].r_center[0] // self.cell_size\n",
    "            cell_y = self.agents[agent_id].r_center[1] // self.cell_size\n",
    "\n",
    "            #calculate scalar cell id\n",
    "            cell = int(cell_x * self.number_of_cells + cell_y)                      \n",
    "            self.cell_to_agents[cell].append(agent_id) \n",
    "            self.cell_to_positions[cell].append(self.agents[agent_id].r_center)\n",
    "            self.cell_to_velocities[cell].append(self.agents[agent_id].direction)\n",
    "            self.cell_to_states[cell].append(self.agents[agent_id].state)\n",
    "            number_agents_in_cell[cell] += 1\n",
    "\n",
    "        if self.cuda:\n",
    "            if max(number_agents_in_cell) > 600:\n",
    "                self.next_number_of_cells = self.number_of_cells + 1\n",
    "            if max(number_agents_in_cell) < 200:\n",
    "                self.next_number_of_cells = self.number_of_cells - 1\n",
    "            if self.next_number_of_cells < 1:\n",
    "                self.next_number_of_cells = 1 \n",
    "        \n",
    "        self.all_states = np.concatenate((self.all_states, current_state), 0)\n",
    "\n",
    "\n",
    "            \n",
    "    def neighbor_tensor(self, list_names, cell): \n",
    "        \"\"\"list_names should be a list containing the lists of the various particle atributes:\n",
    "        for example [self.cell_to_positions] or [self.cell_to_positions, self.cell_to_velocities]\n",
    "        \n",
    "        returns list where each entry is the neighbor tensor for each atribute in list_names\n",
    "        \"\"\"\n",
    "        cells = [[] for _ in range(len(list_names))]\n",
    "\n",
    "        bottom = (cell % self.number_of_cells == self.number_of_cells - 1)\n",
    "        top = (cell % self.number_of_cells == 0)\n",
    "        left = (cell < self.number_of_cells)\n",
    "        right = (cell >= self.number_of_cells * (self.number_of_cells - 1))\n",
    "\n",
    "        for x in range(-1,2):\n",
    "            for y in range(-1,2):\n",
    "                x_adjusted = x\n",
    "                y_adjusted = y\n",
    "\n",
    "                if bottom and y == 1:\n",
    "                    x_adjusted -= 1\n",
    "                if top and y == -1:\n",
    "                    x_adjusted += 1\n",
    "\n",
    "                neighbor_cell = cell + x_adjusted * self.number_of_cells + y_adjusted\n",
    "                \n",
    "                if right and x == 1:\n",
    "                    neighbor_cell -= self.total_cells\n",
    "                if left and x == -1:\n",
    "                    neighbor_cell += self.total_cells\n",
    "                for list_num, list_name in enumerate(list_names):\n",
    "                    #print('type ', type(neighbor_cell))\n",
    "                    neighbor_cell_values = torch.FloatTensor(list_name[neighbor_cell]) \n",
    "                    #only work on cells that aren't empty\n",
    "                    if neighbor_cell_values.size():\n",
    "                        if list_name is self.cell_to_positions:\n",
    "                            if top and y == -1:\n",
    "                                neighbor_cell_values[:,1] -= self.arena_size\n",
    "                            if bottom and y == 1:\n",
    "                                neighbor_cell_values[:,1] += self.arena_size\n",
    "                            if left and x == -1:\n",
    "                                neighbor_cell_values[:,0] -= self.arena_size\n",
    "                            if right and x == 1:\n",
    "                                neighbor_cell_values[:,0] += self.arena_size\n",
    "\n",
    "                    cells[list_num].append(neighbor_cell_values)\n",
    "\n",
    "        if self.cuda:       \n",
    "            return [torch.cat(cells[list_num]).pin_memory().cuda() for list_num in range(len(list_names))]\n",
    "        else:\n",
    "            return [torch.cat(cells[list_num]) for list_num in range(len(list_names))]\n",
    "\n",
    "    \n",
    "    def resize_cells(self):\n",
    "        if self.number_of_cells != self.next_number_of_cells: \n",
    "            self.number_of_cells = self.next_number_of_cells\n",
    "            self.cell_size = self.arena_size / self.number_of_cells\n",
    "            self.total_cells = self.number_of_cells ** 2\n",
    "            \n",
    "\n",
    "    def get_agents(self):\n",
    "        return self.agents\n",
    "\n",
    "            \n",
    "    def calculate_new_states(self, cell_num, neighbor_distances):\n",
    "\n",
    "        state_neighbors = self.neighbor_tensor([self.cell_to_states], cell_num)[0]\n",
    "        \n",
    "        zos_r = self.FloatTensor([12.0]) * self.FloatTensor([self.agents[0].body_size]) \n",
    "        \n",
    "        neighbor_mask = self.create_state_mask(neighbor_distances, 0.0, zos_r) \n",
    "        neighbor_mask = torch.unsqueeze(neighbor_mask, 2)\n",
    "\n",
    "        #make same dimension as mask\n",
    "        state_neighbors = torch.unsqueeze(state_neighbors, 1)\n",
    "        state_neighbors = torch.unsqueeze(state_neighbors, 2)\n",
    "        state_neighbors = state_neighbors.repeat(1, neighbor_mask.size()[1], 1)\n",
    "        #only keep values within correct distance \n",
    "        state_neighbors = state_neighbors.masked_fill_(neighbor_mask, 0.0)\n",
    "        #replicate so number of states tall\n",
    "        state_neighbors = state_neighbors.repeat(1, 1, self.number_of_states)\n",
    "        \n",
    "        state_list = torch.arange(1, self.number_of_states + 1)\n",
    "\n",
    "        state_count = torch.eq(state_neighbors, state_list)\n",
    "        state_count = torch.sum(state_count, 0)\n",
    "        \n",
    "        state_list = torch.unsqueeze(state_list, 0)\n",
    "        states = state_list.repeat(neighbor_mask.size()[1], 1)\n",
    "\n",
    "        #the most counted state amoung individual's neighbors\n",
    "        max_states, _ = torch.max(state_count, 1)\n",
    "        max_states = torch.unsqueeze(max_states, 1)\n",
    "        max_states = max_states.repeat(1, self.number_of_states)\n",
    "\n",
    "        #Find all the states that have the maximum count (could be multiple because of ties)\n",
    "        max_states_mask = (state_count==max_states).type(torch.FloatTensor)\n",
    "        #Number of states that have the highest count (again could be ties)\n",
    "        num_possible_states = torch.sum(max_states_mask, 1)\n",
    "        cum_possible_states = torch.cumsum(num_possible_states, 0)\n",
    "        rand = torch.rand(neighbor_mask.size()[1])\n",
    "        rand_ind = torch.ceil((num_possible_states * rand).type(torch.FloatTensor))\n",
    "        new_state_ind = cum_possible_states - rand_ind\n",
    "\n",
    "        possible_states_ind = torch.nonzero(max_states_mask * states)\n",
    "        possible_states = states[possible_states_ind[:,0], possible_states_ind[:,1]]\n",
    "        \n",
    "\n",
    "        try:\n",
    "            self.state = possible_states[new_state_ind.type(torch.LongTensor)]\n",
    "        except:\n",
    "            print('issue')\n",
    "            print('max_states_mask: ', max_states_mask)\n",
    "            print('num_possible_states:', num_possible_states)\n",
    "            print('cum_possible_states:', cum_possible_states)\n",
    "            print('rand_ind: ', rand_ind)\n",
    "            print('possible_states_ind: ', possible_states_ind)\n",
    "            print('possible states: ', possible_states )\n",
    "            print('new_state_ind: ', new_state_ind.type(torch.LongTensor))\n",
    "        \n",
    "        state_cpu = self.state.cpu()\n",
    "        \n",
    "        states_converged = True\n",
    "        \n",
    "        for index, agent_id in enumerate(self.id):\n",
    "            if self.agents[agent_id].state == state_cpu[index]:\n",
    "                self.agents[agent_id].same = True\n",
    "            else:\n",
    "                self.agents[agent_id].same = False\n",
    "                states_converged = False\n",
    "\n",
    "            self.agents[agent_id].state = state_cpu[index]\n",
    "        \n",
    "        return states_converged\n",
    "                    \n",
    "\n",
    "       \n",
    "    def move_schooling(self, neighbor_distances, rx, v_neighbors):\n",
    "        expanded_v1 = torch.unsqueeze(self.v, 0)\n",
    "        expanded_v2 = torch.unsqueeze(v_neighbors, 1)\n",
    "        \n",
    "        # To avoid division by zero make min distance\n",
    "        #larger then 0 this add to prevent simulation \n",
    "        #explosion if particles get too close\n",
    "        neighbor_distances = torch.clamp(neighbor_distances, min=0.00002) \n",
    "\n",
    "        body_size = self.FloatTensor([self.agents[0].body_size])\n",
    "\n",
    "        # radius of zone of alignment\n",
    "        zor_r = self.FloatTensor([2.0]) * body_size\n",
    "        # radius of zone of alignment\n",
    "        zoo_r = self.FloatTensor([12.0]) * body_size\n",
    "        # radius of zone of alignment\n",
    "        zoa_r = self.FloatTensor([12.0]) * body_size \n",
    "\n",
    "        #torch.cuda.synchronize()\n",
    "\n",
    "        r_expanded = torch.unsqueeze(neighbor_distances, 2)\n",
    "        r_expanded = r_expanded.repeat(1, 1, 2)\n",
    "        r_unit = rx / r_expanded  \n",
    "\n",
    "        #torch.cuda.synchronize()\n",
    "\n",
    "        zor_mask = self.create_mask(neighbor_distances, 0.0, zor_r) \n",
    "        zor_x = self.zone_vec_x(r_unit, zor_mask)\n",
    "        zor_sum = torch.sum(torch.abs(zor_x), 1)\n",
    "        mask_zor_full = (zor_sum > self.FloatTensor([0.0])).type(self.FloatTensor)\n",
    "        mask_zor_full = torch.unsqueeze(mask_zor_full,1)\n",
    "        mask_zor_full = mask_zor_full.repeat(1, 2)\n",
    "\n",
    "        #torch.cuda.synchronize()\n",
    "\n",
    "        zoo_mask = self.create_mask(neighbor_distances, zor_r, zoo_r)\n",
    "        zoo_v = self.zone_vec_v(expanded_v2, zoo_mask)\n",
    "        #zoo_v = zoo_v * self.FloatTensor([1.0])  #3\n",
    "\n",
    "        #torch.cuda.synchronize()\n",
    "\n",
    "        zoa_mask = self.create_mask(neighbor_distances, zoo_r, zoa_r)\n",
    "        zoa_x = self.zone_vec_x(r_unit, zoa_mask)\n",
    "        zoa_x = zoa_x * self.FloatTensor([-1.0])\n",
    "\n",
    "        #torch.cuda.synchronize()    \n",
    "\n",
    "        zoa_zoo = torch.sum(zoa_x, 1) * torch.sum(zoo_v,1)\n",
    "        mask_both_zones = zoa_zoo > self.FloatTensor([0.0])\n",
    "\n",
    "        #torch.cuda.synchronize()\n",
    "\n",
    "        #should be 0 if only one zone has individuals, 1 if both\n",
    "        both_zones = mask_both_zones.type(self.FloatTensor)\n",
    "        both_zones_expanded = torch.unsqueeze(both_zones, 1)\n",
    "        both_zones_expanded = both_zones_expanded.repeat(1,2)\n",
    "\n",
    "        point_five_vec = both_zones_expanded.clone().zero_() + .5\n",
    "        #.pow was cast to float before in tf\n",
    "        outer_zones_v = torch.pow(point_five_vec, both_zones_expanded) * (zoa_x + zoo_v) \n",
    "\n",
    "        vnew = where(mask_zor_full, zor_x, outer_zones_v)\n",
    "        vnew = torch.clamp(vnew, max=100000.0) #so speed can't blow up\n",
    "        return vnew\n",
    "    \n",
    "    def move_straight(self):\n",
    "        return self.v\n",
    "    \n",
    "#     def move_random(self):\n",
    "#         return \n",
    "\n",
    "        \n",
    "    def main_graph(self):\n",
    "        \n",
    "        states_converged = True\n",
    "\n",
    "        for cell_num in range(self.total_cells):\n",
    "            \n",
    "            if self.cuda:\n",
    "                self.x = torch.FloatTensor(self.cell_to_positions[cell_num]).pin_memory().cuda()\n",
    "                self.v = torch.FloatTensor(self.cell_to_velocities[cell_num]).pin_memory().cuda()\n",
    "                self.id = torch.IntTensor(self.cell_to_agents[cell_num]).pin_memory().cuda()\n",
    "            else:\n",
    "                self.x = self.FloatTensor(self.cell_to_positions[cell_num])\n",
    "                self.v = self.FloatTensor(self.cell_to_velocities[cell_num])\n",
    "                self.id = self.IntTensor(self.cell_to_agents[cell_num])\n",
    "                \n",
    "            #the cell has individuals       \n",
    "            if self.x.size():\n",
    "            \n",
    "                #torch.cuda.synchronize()\n",
    "\n",
    "                expanded_x1 = torch.unsqueeze(self.x, 0)  \n",
    "\n",
    "                x_neighbors, v_neighbors = self.neighbor_tensor(\n",
    "                    [self.cell_to_positions, self.cell_to_velocities], cell_num) \n",
    "\n",
    "                expanded_x2 = torch.unsqueeze(x_neighbors, 1)\n",
    "\n",
    "                #distance based calculations\n",
    "                #Distance between every pair of particles in x in every dimension (dx,dy)\n",
    "                rx = expanded_x1 - expanded_x2 \n",
    "                # square distane for each particle pair in each dimension  (dx^2,dx^2)\n",
    "                rx2 = rx ** 2\n",
    "                # absolute square distance between every pair of particles(dx^2+dx^2)\n",
    "                r2 = torch.sum(rx2, 2)\n",
    "                # absolute distance between every pair of particles\n",
    "                r = torch.sqrt(r2)\n",
    "\n",
    "                #torch.cuda.synchronize()\n",
    "                if self.movement == 'schooling':\n",
    "                    vnew = self.move_schooling(r, rx, v_neighbors) \n",
    "                else:\n",
    "                    vnew = self.move_straight()\n",
    "\n",
    "                personal_weight = self.FloatTensor([1]) - self.social_weight\n",
    "\n",
    "                vnew = self.social_weight*vnew + personal_weight*self.v\n",
    "                \n",
    "                if self.noise_sd > 0.0:\n",
    "                    vnew += torch.normal(vnew*0.0, self.noise_sd)\n",
    "\n",
    "                #vnew = ((1 - self.omega)*vnew + self.omega*self.personal_bias)\n",
    "\n",
    "                #torch.cuda.synchronize()\n",
    "\n",
    "                #vnew = ((1 - self.omega)*vnew + self.omega*self.personal_bias)\n",
    "\n",
    "                vnew_mag = vnew ** 2\n",
    "                vnew_mag = torch.sum(vnew_mag, 1) \n",
    "                vnew_mag = torch.sqrt(vnew_mag)\n",
    "                vnew_mag = torch.clamp(vnew_mag, min=0.0002)\n",
    "                vnew_mag = torch.unsqueeze(vnew_mag, 1)\n",
    "                vnew_mag = vnew_mag.repeat(1, 2) \n",
    "                vnew = vnew / vnew_mag\n",
    "\n",
    "                #vnew = self.v\n",
    "                #here uses global speed, could also be changed to use individuals speed\n",
    "                xnew = self.x + vnew*self.speed\n",
    "\n",
    "                #if repetitive boundary conditions are used make sure particle \n",
    "                #poistion dont exceed cell size\n",
    "                if self.periodic_boundary:\n",
    "                    xnew=torch.fmod(xnew + self.arena_size, self.arena_size)\n",
    "\n",
    "                if not self.calculate_new_states(cell_num, r):\n",
    "                    states_converged = False\n",
    "\n",
    "                xnew_cpu = xnew.cpu().numpy().astype(dtype='float64')\n",
    "                vnew_cpu = vnew.cpu().numpy().astype(dtype='float64')\n",
    "                \n",
    "\n",
    "                for index, agent_id in enumerate(self.id):\n",
    "                    self.agents[agent_id].r_center = xnew_cpu[index]\n",
    "                    self.agents[agent_id].direction = vnew_cpu[index]\n",
    "        \n",
    "        if self.cuda:\n",
    "            self.resize_cells()\n",
    "            \n",
    "        return states_converged\n",
    "\n",
    "\n",
    "#     def run_sim(self):\n",
    "#         WITH_TIMER = False\n",
    "#         arena_size_int = int(self.arena_size)\n",
    "        \n",
    "#         if self.video:\n",
    "#             self.out = self.initialize_video()\n",
    "\n",
    "#         for i in range(100000):   \n",
    "#             [self.positions, self.velocities, self.init_state] = (\n",
    "#                 session.run([self.xnew,self.vnew,self.state_new],feed_dict = {\n",
    "#                     self.x: self.positions, \n",
    "#                     self.v: self.velocities,\n",
    "#                     self.state: self.init_state}))\n",
    "#         #----------------------Plot particles position real time---------------------------------------------       \n",
    "#             if (i%2==0) and (self.draw_sim==True or self.video==True):\n",
    "#                 self.draw(arena_size_int)\n",
    "#                 if cv2.waitKey(1) & 0xFF == 27:\n",
    "#                     break  #time delay\n",
    "#             sum_state = np.sum(self.init_state, 0) / self.num_agents\n",
    "#             if sum_state == 0 or sum_state == 1:\n",
    "#                 break\n",
    "#         if self.video:\n",
    "#             self.out.release()\n",
    "#         session.close() \n",
    "#         cv2.destroyAllWindows() \n",
    "#         return sum_state[0]\n",
    "    \n",
    "            \n",
    "    def graphics(self):\n",
    "\n",
    "        body_scale = .75\n",
    "        colors = [kc.red(), kc.ivory(), kc.sick_yellow(), kc.tiffany(), kc.orange_gold()]\n",
    "        \n",
    "        visualization = (np.ones((self.arena_size, self.arena_size, 3), np.uint8) *\n",
    "                         kc.blueberry_slate('np.uint8'))\n",
    "\n",
    "        for i in range(len(self.agents)):\n",
    "            #-1 because state starts at 1, not zero\n",
    "            color = colors[int(self.agents[i].state) - 1]\n",
    "            position = tuple(self.agents[i].r_center.astype(int))\n",
    "            scaled_body_size = self.agents[i].body_size * body_scale\n",
    "            \n",
    "            cv2.circle(visualization, position, \n",
    "                       int(scaled_body_size), \n",
    "                       color, -1, cv2.LINE_AA)\n",
    "\n",
    "            cv2.line(visualization, position, \n",
    "                     tuple((position - self.agents[i].direction * 3 *\n",
    "                          scaled_body_size).astype(int)), \n",
    "                     color, 1, cv2.LINE_AA)\n",
    "            \n",
    "        visualization = cv2.cvtColor(visualization, cv2.COLOR_BGR2RGB) \n",
    "        \n",
    "        #t = time.time()\n",
    "        cv2.imshow(\"decision_making\", visualization)\n",
    "        #print('imshow: ' , time.time() - t)\n",
    "        if self.video:\n",
    "            visualization = (visualization).astype('u1')\n",
    "            self.out.write(visualization)\n",
    "        \n",
    "        return (cv2.waitKey(1) & 0xFF == 27)\n",
    "    \n",
    "\n",
    "\n",
    "\n"
   ]
  },
  {
   "cell_type": "code",
   "execution_count": 3,
   "metadata": {
    "collapsed": false,
    "deletable": true,
    "editable": true,
    "scrolled": false
   },
   "outputs": [
    {
     "name": "stdout",
     "output_type": "stream",
     "text": [
      "Beginning to run simulations...\n"
     ]
    },
    {
     "data": {
      "application/vnd.jupyter.widget-view+json": {
       "model_id": "d4af16b78b4d404caa8f7761e27ff8e8"
      }
     },
     "metadata": {},
     "output_type": "display_data"
    },
    {
     "name": "stdout",
     "output_type": "stream",
     "text": [
      "\n"
     ]
    }
   ],
   "source": [
    "%matplotlib inline\n",
    "\n",
    "import time\n",
    "import matplotlib.pyplot as plt\n",
    "import pandas as pd\n",
    "import random\n",
    "import numpy as np\n",
    "from tqdm import tnrange, tqdm_notebook\n",
    "from IPython.display import display\n",
    "import datetime\n",
    "\n",
    "\n",
    "random.seed()\n",
    "\n",
    "dataframe_columns = ['Simulation_number', 'Number_of_agents', 'Arena_size', 'Movement',\n",
    "                     'Speed', 'Number_of_states', 'Noise_SD', 'Number_of_cells', \n",
    "                     'Body_size', 'Max_steps', 'Steps', 'Converged', 'Convergence_threshold', \n",
    "                     'State_1', 'State_2', 'State_3', 'State_4', 'State_5', 'Record_states']\n",
    "\n",
    "simulation_results = pd.DataFrame(columns=dataframe_columns)\n",
    "\n",
    "\n",
    "total_number_of_states = 4\n",
    "number_of_replicates = 3\n",
    "number_of_movements = 3\n",
    "record_states = True\n",
    "\n",
    "max_steps = 4000\n",
    "\n",
    "for replicate_number in range(number_of_replicates):\n",
    "    for current_states in range(total_number_of_states):\n",
    "        number_of_states = 2 + current_states\n",
    "        for movement in range(number_of_movements):\n",
    "            simulation_number = (replicate_number * total_number_of_states * number_of_movements +\n",
    "                                 current_states * number_of_movements + movement)\n",
    "            if movement == 0:\n",
    "                movement = 'schooling'\n",
    "                noise_sd = 1.0\n",
    "            elif movement == 1:\n",
    "                movement = 'straight'\n",
    "                noise_sd = 0.0\n",
    "            else:\n",
    "                movement = 'straight'\n",
    "                noise_sd = 10.0\n",
    "             \n",
    "\n",
    "\n",
    "            simulation_results.loc[simulation_number] = {'Simulation_number': simulation_number, \n",
    "                                                        'Number_of_agents': 200, \n",
    "                                                        'Arena_size': 300, \n",
    "                                                        'Movement': movement,\n",
    "                                                        'Speed': 3,\n",
    "                                                        'Number_of_states': number_of_states, \n",
    "                                                        'Noise_SD': noise_sd, \n",
    "                                                        'Number_of_cells': 3, \n",
    "                                                        'Body_size': 3.0,\n",
    "                                                        'Max_steps': max_steps,\n",
    "                                                        'Steps': 'None',\n",
    "                                                        'Converged': 'None',\n",
    "                                                        'Convergence_threshold': 100,\n",
    "                                                        'State_1': 'None',\n",
    "                                                        'State_2': 'None',\n",
    "                                                        'State_3': 'None',\n",
    "                                                        'State_4': 'None',\n",
    "                                                        'State_5': 'None',\n",
    "                                                        'Record_states': record_states}\n",
    "    \n",
    "print('Beginning to run simulations...')\n",
    "\n",
    "draw = False\n",
    "kill = False\n",
    "\n",
    "\n",
    "for sim_number in tnrange(simulation_results.shape[0], desc='All simulations'):\n",
    "\n",
    "    simulation = Simulation(num_agents=simulation_results.at[sim_number, 'Number_of_agents'],\n",
    "                            arena_size=simulation_results.at[sim_number, 'Arena_size'],\n",
    "                            number_of_cells=simulation_results.at[sim_number, 'Number_of_cells'], \n",
    "                            body_size=simulation_results.at[sim_number, 'Body_size'],\n",
    "                            movement=simulation_results.at[sim_number, 'Movement'],\n",
    "                            video=False, \n",
    "                            speed=simulation_results.at[sim_number, 'Speed'], \n",
    "                            number_of_states = simulation_results.at[sim_number, 'Number_of_states'],\n",
    "                            noise_sd = simulation_results.at[sim_number, 'Noise_SD'],\n",
    "                            record_states = simulation_results.at[sim_number, 'Record_states'])\n",
    "    \n",
    "\n",
    "    sim_converged = False\n",
    "    #for step in tnrange(int(simulation_results.at[sim_number, 'Max_steps']), desc='Simulation ' + str(sim_number)):\n",
    "    for step in range(int(simulation_results.at[sim_number, 'Max_steps'])):    \n",
    "        simulation.segment_individuals()\n",
    "        step_converged = simulation.main_graph()\n",
    "        \n",
    "        if step_converged:\n",
    "            convergence_count += 1\n",
    "        else:\n",
    "            convergence_count = 0\n",
    "\n",
    "        if draw and step % 5 == 0:\n",
    "            kill = simulation.graphics()\n",
    "\n",
    "        if kill or convergence_count > int(simulation_results.at[sim_number, 'Convergence_threshold']):\n",
    "            sim_converged = True\n",
    "            close_cv2()\n",
    "            break\n",
    "            \n",
    "        if record_states:\n",
    "            file_name = ('results/states/' + \n",
    "                         'num_states_' + str(simulation_results.at[sim_number, 'Number_of_states']) +\n",
    "                         '_num_agents_' + str(simulation_results.at[sim_number, 'Number_of_agents']) +\n",
    "                         '_movement_' + str(simulation_results.at[sim_number, 'Movement']) +\n",
    "                         '_noiseSD_' + str(simulation_results.at[sim_number, 'Noise_SD']) +\n",
    "                         '_trial_' + str(sim_number // (total_number_of_states *number_of_movements)) + \n",
    "                         '.npy')\n",
    "            np.save(file_name, simulation.all_states)\n",
    "            simulation_results.loc[sim_number, 'Record_states'] = file_name\n",
    "    agents = simulation.get_agents()\n",
    "    agents_states = [a.state for a in agents]\n",
    "    if sim_converged:\n",
    "        sim_converged = agents_states[0]\n",
    "    agents_states, bins = np.histogram(\n",
    "        agents_states, list(range(1, int(simulation_results.at[sim_number, 'Number_of_states'] + 2))))\n",
    "\n",
    "    simulation_results.loc[sim_number, ['Steps', 'Converged']] = [step, sim_converged]\n",
    "    states_list = ['State_'+str(state+1) for state in range(int(simulation_results.at[sim_number, 'Number_of_states']))]\n",
    "    simulation_results.loc[sim_number, states_list] = agents_states\n",
    "    \n",
    "\n",
    "close_cv2()  \n",
    "\n",
    "now = datetime.datetime.now()\n",
    "simulation_results.to_pickle('results/' + str(now.isoformat()) + '.pkl')"
   ]
  },
  {
   "cell_type": "code",
   "execution_count": 4,
   "metadata": {
    "collapsed": false
   },
   "outputs": [
    {
     "data": {
      "text/html": [
       "<div>\n",
       "<table border=\"1\" class=\"dataframe\">\n",
       "  <thead>\n",
       "    <tr style=\"text-align: right;\">\n",
       "      <th></th>\n",
       "      <th>Simulation_number</th>\n",
       "      <th>Number_of_agents</th>\n",
       "      <th>Arena_size</th>\n",
       "      <th>Movement</th>\n",
       "      <th>Speed</th>\n",
       "      <th>Number_of_states</th>\n",
       "      <th>Noise_SD</th>\n",
       "      <th>Number_of_cells</th>\n",
       "      <th>Body_size</th>\n",
       "      <th>Max_steps</th>\n",
       "      <th>Steps</th>\n",
       "      <th>Converged</th>\n",
       "      <th>Convergence_threshold</th>\n",
       "      <th>State_1</th>\n",
       "      <th>State_2</th>\n",
       "      <th>State_3</th>\n",
       "      <th>State_4</th>\n",
       "      <th>State_5</th>\n",
       "      <th>Record_states</th>\n",
       "    </tr>\n",
       "  </thead>\n",
       "  <tbody>\n",
       "    <tr>\n",
       "      <th>0</th>\n",
       "      <td>0.0</td>\n",
       "      <td>200.0</td>\n",
       "      <td>300.0</td>\n",
       "      <td>schooling</td>\n",
       "      <td>3.0</td>\n",
       "      <td>2.0</td>\n",
       "      <td>1.0</td>\n",
       "      <td>3.0</td>\n",
       "      <td>3.0</td>\n",
       "      <td>4000.0</td>\n",
       "      <td>3999</td>\n",
       "      <td>False</td>\n",
       "      <td>100.0</td>\n",
       "      <td>56</td>\n",
       "      <td>144</td>\n",
       "      <td>None</td>\n",
       "      <td>None</td>\n",
       "      <td>None</td>\n",
       "      <td>results/states/num_states_2.0_num_agents_200.0...</td>\n",
       "    </tr>\n",
       "    <tr>\n",
       "      <th>1</th>\n",
       "      <td>1.0</td>\n",
       "      <td>200.0</td>\n",
       "      <td>300.0</td>\n",
       "      <td>straight</td>\n",
       "      <td>3.0</td>\n",
       "      <td>2.0</td>\n",
       "      <td>0.0</td>\n",
       "      <td>3.0</td>\n",
       "      <td>3.0</td>\n",
       "      <td>4000.0</td>\n",
       "      <td>139</td>\n",
       "      <td>2</td>\n",
       "      <td>100.0</td>\n",
       "      <td>0</td>\n",
       "      <td>200</td>\n",
       "      <td>None</td>\n",
       "      <td>None</td>\n",
       "      <td>None</td>\n",
       "      <td>results/states/num_states_2.0_num_agents_200.0...</td>\n",
       "    </tr>\n",
       "    <tr>\n",
       "      <th>2</th>\n",
       "      <td>2.0</td>\n",
       "      <td>200.0</td>\n",
       "      <td>300.0</td>\n",
       "      <td>straight</td>\n",
       "      <td>3.0</td>\n",
       "      <td>2.0</td>\n",
       "      <td>10.0</td>\n",
       "      <td>3.0</td>\n",
       "      <td>3.0</td>\n",
       "      <td>4000.0</td>\n",
       "      <td>2227</td>\n",
       "      <td>2</td>\n",
       "      <td>100.0</td>\n",
       "      <td>0</td>\n",
       "      <td>200</td>\n",
       "      <td>None</td>\n",
       "      <td>None</td>\n",
       "      <td>None</td>\n",
       "      <td>results/states/num_states_2.0_num_agents_200.0...</td>\n",
       "    </tr>\n",
       "    <tr>\n",
       "      <th>3</th>\n",
       "      <td>3.0</td>\n",
       "      <td>200.0</td>\n",
       "      <td>300.0</td>\n",
       "      <td>schooling</td>\n",
       "      <td>3.0</td>\n",
       "      <td>3.0</td>\n",
       "      <td>1.0</td>\n",
       "      <td>3.0</td>\n",
       "      <td>3.0</td>\n",
       "      <td>4000.0</td>\n",
       "      <td>3999</td>\n",
       "      <td>False</td>\n",
       "      <td>100.0</td>\n",
       "      <td>90</td>\n",
       "      <td>33</td>\n",
       "      <td>77</td>\n",
       "      <td>None</td>\n",
       "      <td>None</td>\n",
       "      <td>results/states/num_states_3.0_num_agents_200.0...</td>\n",
       "    </tr>\n",
       "    <tr>\n",
       "      <th>4</th>\n",
       "      <td>4.0</td>\n",
       "      <td>200.0</td>\n",
       "      <td>300.0</td>\n",
       "      <td>straight</td>\n",
       "      <td>3.0</td>\n",
       "      <td>3.0</td>\n",
       "      <td>0.0</td>\n",
       "      <td>3.0</td>\n",
       "      <td>3.0</td>\n",
       "      <td>4000.0</td>\n",
       "      <td>225</td>\n",
       "      <td>2</td>\n",
       "      <td>100.0</td>\n",
       "      <td>0</td>\n",
       "      <td>200</td>\n",
       "      <td>0</td>\n",
       "      <td>None</td>\n",
       "      <td>None</td>\n",
       "      <td>results/states/num_states_3.0_num_agents_200.0...</td>\n",
       "    </tr>\n",
       "    <tr>\n",
       "      <th>5</th>\n",
       "      <td>5.0</td>\n",
       "      <td>200.0</td>\n",
       "      <td>300.0</td>\n",
       "      <td>straight</td>\n",
       "      <td>3.0</td>\n",
       "      <td>3.0</td>\n",
       "      <td>10.0</td>\n",
       "      <td>3.0</td>\n",
       "      <td>3.0</td>\n",
       "      <td>4000.0</td>\n",
       "      <td>1913</td>\n",
       "      <td>1</td>\n",
       "      <td>100.0</td>\n",
       "      <td>200</td>\n",
       "      <td>0</td>\n",
       "      <td>0</td>\n",
       "      <td>None</td>\n",
       "      <td>None</td>\n",
       "      <td>results/states/num_states_3.0_num_agents_200.0...</td>\n",
       "    </tr>\n",
       "    <tr>\n",
       "      <th>6</th>\n",
       "      <td>6.0</td>\n",
       "      <td>200.0</td>\n",
       "      <td>300.0</td>\n",
       "      <td>schooling</td>\n",
       "      <td>3.0</td>\n",
       "      <td>4.0</td>\n",
       "      <td>1.0</td>\n",
       "      <td>3.0</td>\n",
       "      <td>3.0</td>\n",
       "      <td>4000.0</td>\n",
       "      <td>1975</td>\n",
       "      <td>2</td>\n",
       "      <td>100.0</td>\n",
       "      <td>0</td>\n",
       "      <td>200</td>\n",
       "      <td>0</td>\n",
       "      <td>0</td>\n",
       "      <td>None</td>\n",
       "      <td>results/states/num_states_4.0_num_agents_200.0...</td>\n",
       "    </tr>\n",
       "    <tr>\n",
       "      <th>7</th>\n",
       "      <td>7.0</td>\n",
       "      <td>200.0</td>\n",
       "      <td>300.0</td>\n",
       "      <td>straight</td>\n",
       "      <td>3.0</td>\n",
       "      <td>4.0</td>\n",
       "      <td>0.0</td>\n",
       "      <td>3.0</td>\n",
       "      <td>3.0</td>\n",
       "      <td>4000.0</td>\n",
       "      <td>208</td>\n",
       "      <td>4</td>\n",
       "      <td>100.0</td>\n",
       "      <td>0</td>\n",
       "      <td>0</td>\n",
       "      <td>0</td>\n",
       "      <td>200</td>\n",
       "      <td>None</td>\n",
       "      <td>results/states/num_states_4.0_num_agents_200.0...</td>\n",
       "    </tr>\n",
       "    <tr>\n",
       "      <th>8</th>\n",
       "      <td>8.0</td>\n",
       "      <td>200.0</td>\n",
       "      <td>300.0</td>\n",
       "      <td>straight</td>\n",
       "      <td>3.0</td>\n",
       "      <td>4.0</td>\n",
       "      <td>10.0</td>\n",
       "      <td>3.0</td>\n",
       "      <td>3.0</td>\n",
       "      <td>4000.0</td>\n",
       "      <td>1604</td>\n",
       "      <td>3</td>\n",
       "      <td>100.0</td>\n",
       "      <td>0</td>\n",
       "      <td>0</td>\n",
       "      <td>200</td>\n",
       "      <td>0</td>\n",
       "      <td>None</td>\n",
       "      <td>results/states/num_states_4.0_num_agents_200.0...</td>\n",
       "    </tr>\n",
       "    <tr>\n",
       "      <th>9</th>\n",
       "      <td>9.0</td>\n",
       "      <td>200.0</td>\n",
       "      <td>300.0</td>\n",
       "      <td>schooling</td>\n",
       "      <td>3.0</td>\n",
       "      <td>5.0</td>\n",
       "      <td>1.0</td>\n",
       "      <td>3.0</td>\n",
       "      <td>3.0</td>\n",
       "      <td>4000.0</td>\n",
       "      <td>290</td>\n",
       "      <td>5</td>\n",
       "      <td>100.0</td>\n",
       "      <td>0</td>\n",
       "      <td>0</td>\n",
       "      <td>0</td>\n",
       "      <td>0</td>\n",
       "      <td>200</td>\n",
       "      <td>results/states/num_states_5.0_num_agents_200.0...</td>\n",
       "    </tr>\n",
       "    <tr>\n",
       "      <th>10</th>\n",
       "      <td>10.0</td>\n",
       "      <td>200.0</td>\n",
       "      <td>300.0</td>\n",
       "      <td>straight</td>\n",
       "      <td>3.0</td>\n",
       "      <td>5.0</td>\n",
       "      <td>0.0</td>\n",
       "      <td>3.0</td>\n",
       "      <td>3.0</td>\n",
       "      <td>4000.0</td>\n",
       "      <td>163</td>\n",
       "      <td>4</td>\n",
       "      <td>100.0</td>\n",
       "      <td>0</td>\n",
       "      <td>0</td>\n",
       "      <td>0</td>\n",
       "      <td>200</td>\n",
       "      <td>0</td>\n",
       "      <td>results/states/num_states_5.0_num_agents_200.0...</td>\n",
       "    </tr>\n",
       "    <tr>\n",
       "      <th>11</th>\n",
       "      <td>11.0</td>\n",
       "      <td>200.0</td>\n",
       "      <td>300.0</td>\n",
       "      <td>straight</td>\n",
       "      <td>3.0</td>\n",
       "      <td>5.0</td>\n",
       "      <td>10.0</td>\n",
       "      <td>3.0</td>\n",
       "      <td>3.0</td>\n",
       "      <td>4000.0</td>\n",
       "      <td>1013</td>\n",
       "      <td>2</td>\n",
       "      <td>100.0</td>\n",
       "      <td>0</td>\n",
       "      <td>200</td>\n",
       "      <td>0</td>\n",
       "      <td>0</td>\n",
       "      <td>0</td>\n",
       "      <td>results/states/num_states_5.0_num_agents_200.0...</td>\n",
       "    </tr>\n",
       "    <tr>\n",
       "      <th>12</th>\n",
       "      <td>12.0</td>\n",
       "      <td>200.0</td>\n",
       "      <td>300.0</td>\n",
       "      <td>schooling</td>\n",
       "      <td>3.0</td>\n",
       "      <td>2.0</td>\n",
       "      <td>1.0</td>\n",
       "      <td>3.0</td>\n",
       "      <td>3.0</td>\n",
       "      <td>4000.0</td>\n",
       "      <td>1345</td>\n",
       "      <td>1</td>\n",
       "      <td>100.0</td>\n",
       "      <td>178</td>\n",
       "      <td>22</td>\n",
       "      <td>None</td>\n",
       "      <td>None</td>\n",
       "      <td>None</td>\n",
       "      <td>results/states/num_states_2.0_num_agents_200.0...</td>\n",
       "    </tr>\n",
       "    <tr>\n",
       "      <th>13</th>\n",
       "      <td>13.0</td>\n",
       "      <td>200.0</td>\n",
       "      <td>300.0</td>\n",
       "      <td>straight</td>\n",
       "      <td>3.0</td>\n",
       "      <td>2.0</td>\n",
       "      <td>0.0</td>\n",
       "      <td>3.0</td>\n",
       "      <td>3.0</td>\n",
       "      <td>4000.0</td>\n",
       "      <td>166</td>\n",
       "      <td>1</td>\n",
       "      <td>100.0</td>\n",
       "      <td>200</td>\n",
       "      <td>0</td>\n",
       "      <td>None</td>\n",
       "      <td>None</td>\n",
       "      <td>None</td>\n",
       "      <td>results/states/num_states_2.0_num_agents_200.0...</td>\n",
       "    </tr>\n",
       "    <tr>\n",
       "      <th>14</th>\n",
       "      <td>14.0</td>\n",
       "      <td>200.0</td>\n",
       "      <td>300.0</td>\n",
       "      <td>straight</td>\n",
       "      <td>3.0</td>\n",
       "      <td>2.0</td>\n",
       "      <td>10.0</td>\n",
       "      <td>3.0</td>\n",
       "      <td>3.0</td>\n",
       "      <td>4000.0</td>\n",
       "      <td>951</td>\n",
       "      <td>2</td>\n",
       "      <td>100.0</td>\n",
       "      <td>0</td>\n",
       "      <td>200</td>\n",
       "      <td>None</td>\n",
       "      <td>None</td>\n",
       "      <td>None</td>\n",
       "      <td>results/states/num_states_2.0_num_agents_200.0...</td>\n",
       "    </tr>\n",
       "    <tr>\n",
       "      <th>15</th>\n",
       "      <td>15.0</td>\n",
       "      <td>200.0</td>\n",
       "      <td>300.0</td>\n",
       "      <td>schooling</td>\n",
       "      <td>3.0</td>\n",
       "      <td>3.0</td>\n",
       "      <td>1.0</td>\n",
       "      <td>3.0</td>\n",
       "      <td>3.0</td>\n",
       "      <td>4000.0</td>\n",
       "      <td>395</td>\n",
       "      <td>2</td>\n",
       "      <td>100.0</td>\n",
       "      <td>0</td>\n",
       "      <td>200</td>\n",
       "      <td>0</td>\n",
       "      <td>None</td>\n",
       "      <td>None</td>\n",
       "      <td>results/states/num_states_3.0_num_agents_200.0...</td>\n",
       "    </tr>\n",
       "    <tr>\n",
       "      <th>16</th>\n",
       "      <td>16.0</td>\n",
       "      <td>200.0</td>\n",
       "      <td>300.0</td>\n",
       "      <td>straight</td>\n",
       "      <td>3.0</td>\n",
       "      <td>3.0</td>\n",
       "      <td>0.0</td>\n",
       "      <td>3.0</td>\n",
       "      <td>3.0</td>\n",
       "      <td>4000.0</td>\n",
       "      <td>257</td>\n",
       "      <td>1</td>\n",
       "      <td>100.0</td>\n",
       "      <td>200</td>\n",
       "      <td>0</td>\n",
       "      <td>0</td>\n",
       "      <td>None</td>\n",
       "      <td>None</td>\n",
       "      <td>results/states/num_states_3.0_num_agents_200.0...</td>\n",
       "    </tr>\n",
       "    <tr>\n",
       "      <th>17</th>\n",
       "      <td>17.0</td>\n",
       "      <td>200.0</td>\n",
       "      <td>300.0</td>\n",
       "      <td>straight</td>\n",
       "      <td>3.0</td>\n",
       "      <td>3.0</td>\n",
       "      <td>10.0</td>\n",
       "      <td>3.0</td>\n",
       "      <td>3.0</td>\n",
       "      <td>4000.0</td>\n",
       "      <td>512</td>\n",
       "      <td>3</td>\n",
       "      <td>100.0</td>\n",
       "      <td>0</td>\n",
       "      <td>0</td>\n",
       "      <td>200</td>\n",
       "      <td>None</td>\n",
       "      <td>None</td>\n",
       "      <td>results/states/num_states_3.0_num_agents_200.0...</td>\n",
       "    </tr>\n",
       "    <tr>\n",
       "      <th>18</th>\n",
       "      <td>18.0</td>\n",
       "      <td>200.0</td>\n",
       "      <td>300.0</td>\n",
       "      <td>schooling</td>\n",
       "      <td>3.0</td>\n",
       "      <td>4.0</td>\n",
       "      <td>1.0</td>\n",
       "      <td>3.0</td>\n",
       "      <td>3.0</td>\n",
       "      <td>4000.0</td>\n",
       "      <td>414</td>\n",
       "      <td>2</td>\n",
       "      <td>100.0</td>\n",
       "      <td>47</td>\n",
       "      <td>153</td>\n",
       "      <td>0</td>\n",
       "      <td>0</td>\n",
       "      <td>None</td>\n",
       "      <td>results/states/num_states_4.0_num_agents_200.0...</td>\n",
       "    </tr>\n",
       "    <tr>\n",
       "      <th>19</th>\n",
       "      <td>19.0</td>\n",
       "      <td>200.0</td>\n",
       "      <td>300.0</td>\n",
       "      <td>straight</td>\n",
       "      <td>3.0</td>\n",
       "      <td>4.0</td>\n",
       "      <td>0.0</td>\n",
       "      <td>3.0</td>\n",
       "      <td>3.0</td>\n",
       "      <td>4000.0</td>\n",
       "      <td>348</td>\n",
       "      <td>3</td>\n",
       "      <td>100.0</td>\n",
       "      <td>0</td>\n",
       "      <td>0</td>\n",
       "      <td>200</td>\n",
       "      <td>0</td>\n",
       "      <td>None</td>\n",
       "      <td>results/states/num_states_4.0_num_agents_200.0...</td>\n",
       "    </tr>\n",
       "    <tr>\n",
       "      <th>20</th>\n",
       "      <td>20.0</td>\n",
       "      <td>200.0</td>\n",
       "      <td>300.0</td>\n",
       "      <td>straight</td>\n",
       "      <td>3.0</td>\n",
       "      <td>4.0</td>\n",
       "      <td>10.0</td>\n",
       "      <td>3.0</td>\n",
       "      <td>3.0</td>\n",
       "      <td>4000.0</td>\n",
       "      <td>3841</td>\n",
       "      <td>2</td>\n",
       "      <td>100.0</td>\n",
       "      <td>0</td>\n",
       "      <td>200</td>\n",
       "      <td>0</td>\n",
       "      <td>0</td>\n",
       "      <td>None</td>\n",
       "      <td>results/states/num_states_4.0_num_agents_200.0...</td>\n",
       "    </tr>\n",
       "    <tr>\n",
       "      <th>21</th>\n",
       "      <td>21.0</td>\n",
       "      <td>200.0</td>\n",
       "      <td>300.0</td>\n",
       "      <td>schooling</td>\n",
       "      <td>3.0</td>\n",
       "      <td>5.0</td>\n",
       "      <td>1.0</td>\n",
       "      <td>3.0</td>\n",
       "      <td>3.0</td>\n",
       "      <td>4000.0</td>\n",
       "      <td>2613</td>\n",
       "      <td>2</td>\n",
       "      <td>100.0</td>\n",
       "      <td>0</td>\n",
       "      <td>200</td>\n",
       "      <td>0</td>\n",
       "      <td>0</td>\n",
       "      <td>0</td>\n",
       "      <td>results/states/num_states_5.0_num_agents_200.0...</td>\n",
       "    </tr>\n",
       "    <tr>\n",
       "      <th>22</th>\n",
       "      <td>22.0</td>\n",
       "      <td>200.0</td>\n",
       "      <td>300.0</td>\n",
       "      <td>straight</td>\n",
       "      <td>3.0</td>\n",
       "      <td>5.0</td>\n",
       "      <td>0.0</td>\n",
       "      <td>3.0</td>\n",
       "      <td>3.0</td>\n",
       "      <td>4000.0</td>\n",
       "      <td>248</td>\n",
       "      <td>4</td>\n",
       "      <td>100.0</td>\n",
       "      <td>0</td>\n",
       "      <td>0</td>\n",
       "      <td>0</td>\n",
       "      <td>200</td>\n",
       "      <td>0</td>\n",
       "      <td>results/states/num_states_5.0_num_agents_200.0...</td>\n",
       "    </tr>\n",
       "    <tr>\n",
       "      <th>23</th>\n",
       "      <td>23.0</td>\n",
       "      <td>200.0</td>\n",
       "      <td>300.0</td>\n",
       "      <td>straight</td>\n",
       "      <td>3.0</td>\n",
       "      <td>5.0</td>\n",
       "      <td>10.0</td>\n",
       "      <td>3.0</td>\n",
       "      <td>3.0</td>\n",
       "      <td>4000.0</td>\n",
       "      <td>1108</td>\n",
       "      <td>3</td>\n",
       "      <td>100.0</td>\n",
       "      <td>0</td>\n",
       "      <td>0</td>\n",
       "      <td>200</td>\n",
       "      <td>0</td>\n",
       "      <td>0</td>\n",
       "      <td>results/states/num_states_5.0_num_agents_200.0...</td>\n",
       "    </tr>\n",
       "    <tr>\n",
       "      <th>24</th>\n",
       "      <td>24.0</td>\n",
       "      <td>200.0</td>\n",
       "      <td>300.0</td>\n",
       "      <td>schooling</td>\n",
       "      <td>3.0</td>\n",
       "      <td>2.0</td>\n",
       "      <td>1.0</td>\n",
       "      <td>3.0</td>\n",
       "      <td>3.0</td>\n",
       "      <td>4000.0</td>\n",
       "      <td>203</td>\n",
       "      <td>1</td>\n",
       "      <td>100.0</td>\n",
       "      <td>200</td>\n",
       "      <td>0</td>\n",
       "      <td>None</td>\n",
       "      <td>None</td>\n",
       "      <td>None</td>\n",
       "      <td>results/states/num_states_2.0_num_agents_200.0...</td>\n",
       "    </tr>\n",
       "    <tr>\n",
       "      <th>25</th>\n",
       "      <td>25.0</td>\n",
       "      <td>200.0</td>\n",
       "      <td>300.0</td>\n",
       "      <td>straight</td>\n",
       "      <td>3.0</td>\n",
       "      <td>2.0</td>\n",
       "      <td>0.0</td>\n",
       "      <td>3.0</td>\n",
       "      <td>3.0</td>\n",
       "      <td>4000.0</td>\n",
       "      <td>229</td>\n",
       "      <td>2</td>\n",
       "      <td>100.0</td>\n",
       "      <td>0</td>\n",
       "      <td>200</td>\n",
       "      <td>None</td>\n",
       "      <td>None</td>\n",
       "      <td>None</td>\n",
       "      <td>results/states/num_states_2.0_num_agents_200.0...</td>\n",
       "    </tr>\n",
       "    <tr>\n",
       "      <th>26</th>\n",
       "      <td>26.0</td>\n",
       "      <td>200.0</td>\n",
       "      <td>300.0</td>\n",
       "      <td>straight</td>\n",
       "      <td>3.0</td>\n",
       "      <td>2.0</td>\n",
       "      <td>10.0</td>\n",
       "      <td>3.0</td>\n",
       "      <td>3.0</td>\n",
       "      <td>4000.0</td>\n",
       "      <td>485</td>\n",
       "      <td>1</td>\n",
       "      <td>100.0</td>\n",
       "      <td>200</td>\n",
       "      <td>0</td>\n",
       "      <td>None</td>\n",
       "      <td>None</td>\n",
       "      <td>None</td>\n",
       "      <td>results/states/num_states_2.0_num_agents_200.0...</td>\n",
       "    </tr>\n",
       "    <tr>\n",
       "      <th>27</th>\n",
       "      <td>27.0</td>\n",
       "      <td>200.0</td>\n",
       "      <td>300.0</td>\n",
       "      <td>schooling</td>\n",
       "      <td>3.0</td>\n",
       "      <td>3.0</td>\n",
       "      <td>1.0</td>\n",
       "      <td>3.0</td>\n",
       "      <td>3.0</td>\n",
       "      <td>4000.0</td>\n",
       "      <td>1922</td>\n",
       "      <td>3</td>\n",
       "      <td>100.0</td>\n",
       "      <td>8</td>\n",
       "      <td>0</td>\n",
       "      <td>192</td>\n",
       "      <td>None</td>\n",
       "      <td>None</td>\n",
       "      <td>results/states/num_states_3.0_num_agents_200.0...</td>\n",
       "    </tr>\n",
       "    <tr>\n",
       "      <th>28</th>\n",
       "      <td>28.0</td>\n",
       "      <td>200.0</td>\n",
       "      <td>300.0</td>\n",
       "      <td>straight</td>\n",
       "      <td>3.0</td>\n",
       "      <td>3.0</td>\n",
       "      <td>0.0</td>\n",
       "      <td>3.0</td>\n",
       "      <td>3.0</td>\n",
       "      <td>4000.0</td>\n",
       "      <td>175</td>\n",
       "      <td>2</td>\n",
       "      <td>100.0</td>\n",
       "      <td>0</td>\n",
       "      <td>200</td>\n",
       "      <td>0</td>\n",
       "      <td>None</td>\n",
       "      <td>None</td>\n",
       "      <td>results/states/num_states_3.0_num_agents_200.0...</td>\n",
       "    </tr>\n",
       "    <tr>\n",
       "      <th>29</th>\n",
       "      <td>29.0</td>\n",
       "      <td>200.0</td>\n",
       "      <td>300.0</td>\n",
       "      <td>straight</td>\n",
       "      <td>3.0</td>\n",
       "      <td>3.0</td>\n",
       "      <td>10.0</td>\n",
       "      <td>3.0</td>\n",
       "      <td>3.0</td>\n",
       "      <td>4000.0</td>\n",
       "      <td>2306</td>\n",
       "      <td>2</td>\n",
       "      <td>100.0</td>\n",
       "      <td>0</td>\n",
       "      <td>200</td>\n",
       "      <td>0</td>\n",
       "      <td>None</td>\n",
       "      <td>None</td>\n",
       "      <td>results/states/num_states_3.0_num_agents_200.0...</td>\n",
       "    </tr>\n",
       "    <tr>\n",
       "      <th>30</th>\n",
       "      <td>30.0</td>\n",
       "      <td>200.0</td>\n",
       "      <td>300.0</td>\n",
       "      <td>schooling</td>\n",
       "      <td>3.0</td>\n",
       "      <td>4.0</td>\n",
       "      <td>1.0</td>\n",
       "      <td>3.0</td>\n",
       "      <td>3.0</td>\n",
       "      <td>4000.0</td>\n",
       "      <td>3927</td>\n",
       "      <td>2</td>\n",
       "      <td>100.0</td>\n",
       "      <td>0</td>\n",
       "      <td>178</td>\n",
       "      <td>22</td>\n",
       "      <td>0</td>\n",
       "      <td>None</td>\n",
       "      <td>results/states/num_states_4.0_num_agents_200.0...</td>\n",
       "    </tr>\n",
       "    <tr>\n",
       "      <th>31</th>\n",
       "      <td>31.0</td>\n",
       "      <td>200.0</td>\n",
       "      <td>300.0</td>\n",
       "      <td>straight</td>\n",
       "      <td>3.0</td>\n",
       "      <td>4.0</td>\n",
       "      <td>0.0</td>\n",
       "      <td>3.0</td>\n",
       "      <td>3.0</td>\n",
       "      <td>4000.0</td>\n",
       "      <td>332</td>\n",
       "      <td>3</td>\n",
       "      <td>100.0</td>\n",
       "      <td>0</td>\n",
       "      <td>0</td>\n",
       "      <td>200</td>\n",
       "      <td>0</td>\n",
       "      <td>None</td>\n",
       "      <td>results/states/num_states_4.0_num_agents_200.0...</td>\n",
       "    </tr>\n",
       "    <tr>\n",
       "      <th>32</th>\n",
       "      <td>32.0</td>\n",
       "      <td>200.0</td>\n",
       "      <td>300.0</td>\n",
       "      <td>straight</td>\n",
       "      <td>3.0</td>\n",
       "      <td>4.0</td>\n",
       "      <td>10.0</td>\n",
       "      <td>3.0</td>\n",
       "      <td>3.0</td>\n",
       "      <td>4000.0</td>\n",
       "      <td>312</td>\n",
       "      <td>4</td>\n",
       "      <td>100.0</td>\n",
       "      <td>0</td>\n",
       "      <td>0</td>\n",
       "      <td>0</td>\n",
       "      <td>200</td>\n",
       "      <td>None</td>\n",
       "      <td>results/states/num_states_4.0_num_agents_200.0...</td>\n",
       "    </tr>\n",
       "    <tr>\n",
       "      <th>33</th>\n",
       "      <td>33.0</td>\n",
       "      <td>200.0</td>\n",
       "      <td>300.0</td>\n",
       "      <td>schooling</td>\n",
       "      <td>3.0</td>\n",
       "      <td>5.0</td>\n",
       "      <td>1.0</td>\n",
       "      <td>3.0</td>\n",
       "      <td>3.0</td>\n",
       "      <td>4000.0</td>\n",
       "      <td>1380</td>\n",
       "      <td>2</td>\n",
       "      <td>100.0</td>\n",
       "      <td>0</td>\n",
       "      <td>200</td>\n",
       "      <td>0</td>\n",
       "      <td>0</td>\n",
       "      <td>0</td>\n",
       "      <td>results/states/num_states_5.0_num_agents_200.0...</td>\n",
       "    </tr>\n",
       "    <tr>\n",
       "      <th>34</th>\n",
       "      <td>34.0</td>\n",
       "      <td>200.0</td>\n",
       "      <td>300.0</td>\n",
       "      <td>straight</td>\n",
       "      <td>3.0</td>\n",
       "      <td>5.0</td>\n",
       "      <td>0.0</td>\n",
       "      <td>3.0</td>\n",
       "      <td>3.0</td>\n",
       "      <td>4000.0</td>\n",
       "      <td>230</td>\n",
       "      <td>2</td>\n",
       "      <td>100.0</td>\n",
       "      <td>0</td>\n",
       "      <td>200</td>\n",
       "      <td>0</td>\n",
       "      <td>0</td>\n",
       "      <td>0</td>\n",
       "      <td>results/states/num_states_5.0_num_agents_200.0...</td>\n",
       "    </tr>\n",
       "    <tr>\n",
       "      <th>35</th>\n",
       "      <td>35.0</td>\n",
       "      <td>200.0</td>\n",
       "      <td>300.0</td>\n",
       "      <td>straight</td>\n",
       "      <td>3.0</td>\n",
       "      <td>5.0</td>\n",
       "      <td>10.0</td>\n",
       "      <td>3.0</td>\n",
       "      <td>3.0</td>\n",
       "      <td>4000.0</td>\n",
       "      <td>576</td>\n",
       "      <td>3</td>\n",
       "      <td>100.0</td>\n",
       "      <td>0</td>\n",
       "      <td>0</td>\n",
       "      <td>200</td>\n",
       "      <td>0</td>\n",
       "      <td>0</td>\n",
       "      <td>results/states/num_states_5.0_num_agents_200.0...</td>\n",
       "    </tr>\n",
       "  </tbody>\n",
       "</table>\n",
       "</div>"
      ],
      "text/plain": [
       "    Simulation_number  Number_of_agents  Arena_size   Movement  Speed  \\\n",
       "0                 0.0             200.0       300.0  schooling    3.0   \n",
       "1                 1.0             200.0       300.0   straight    3.0   \n",
       "2                 2.0             200.0       300.0   straight    3.0   \n",
       "3                 3.0             200.0       300.0  schooling    3.0   \n",
       "4                 4.0             200.0       300.0   straight    3.0   \n",
       "5                 5.0             200.0       300.0   straight    3.0   \n",
       "6                 6.0             200.0       300.0  schooling    3.0   \n",
       "7                 7.0             200.0       300.0   straight    3.0   \n",
       "8                 8.0             200.0       300.0   straight    3.0   \n",
       "9                 9.0             200.0       300.0  schooling    3.0   \n",
       "10               10.0             200.0       300.0   straight    3.0   \n",
       "11               11.0             200.0       300.0   straight    3.0   \n",
       "12               12.0             200.0       300.0  schooling    3.0   \n",
       "13               13.0             200.0       300.0   straight    3.0   \n",
       "14               14.0             200.0       300.0   straight    3.0   \n",
       "15               15.0             200.0       300.0  schooling    3.0   \n",
       "16               16.0             200.0       300.0   straight    3.0   \n",
       "17               17.0             200.0       300.0   straight    3.0   \n",
       "18               18.0             200.0       300.0  schooling    3.0   \n",
       "19               19.0             200.0       300.0   straight    3.0   \n",
       "20               20.0             200.0       300.0   straight    3.0   \n",
       "21               21.0             200.0       300.0  schooling    3.0   \n",
       "22               22.0             200.0       300.0   straight    3.0   \n",
       "23               23.0             200.0       300.0   straight    3.0   \n",
       "24               24.0             200.0       300.0  schooling    3.0   \n",
       "25               25.0             200.0       300.0   straight    3.0   \n",
       "26               26.0             200.0       300.0   straight    3.0   \n",
       "27               27.0             200.0       300.0  schooling    3.0   \n",
       "28               28.0             200.0       300.0   straight    3.0   \n",
       "29               29.0             200.0       300.0   straight    3.0   \n",
       "30               30.0             200.0       300.0  schooling    3.0   \n",
       "31               31.0             200.0       300.0   straight    3.0   \n",
       "32               32.0             200.0       300.0   straight    3.0   \n",
       "33               33.0             200.0       300.0  schooling    3.0   \n",
       "34               34.0             200.0       300.0   straight    3.0   \n",
       "35               35.0             200.0       300.0   straight    3.0   \n",
       "\n",
       "    Number_of_states  Noise_SD  Number_of_cells  Body_size  Max_steps Steps  \\\n",
       "0                2.0       1.0              3.0        3.0     4000.0  3999   \n",
       "1                2.0       0.0              3.0        3.0     4000.0   139   \n",
       "2                2.0      10.0              3.0        3.0     4000.0  2227   \n",
       "3                3.0       1.0              3.0        3.0     4000.0  3999   \n",
       "4                3.0       0.0              3.0        3.0     4000.0   225   \n",
       "5                3.0      10.0              3.0        3.0     4000.0  1913   \n",
       "6                4.0       1.0              3.0        3.0     4000.0  1975   \n",
       "7                4.0       0.0              3.0        3.0     4000.0   208   \n",
       "8                4.0      10.0              3.0        3.0     4000.0  1604   \n",
       "9                5.0       1.0              3.0        3.0     4000.0   290   \n",
       "10               5.0       0.0              3.0        3.0     4000.0   163   \n",
       "11               5.0      10.0              3.0        3.0     4000.0  1013   \n",
       "12               2.0       1.0              3.0        3.0     4000.0  1345   \n",
       "13               2.0       0.0              3.0        3.0     4000.0   166   \n",
       "14               2.0      10.0              3.0        3.0     4000.0   951   \n",
       "15               3.0       1.0              3.0        3.0     4000.0   395   \n",
       "16               3.0       0.0              3.0        3.0     4000.0   257   \n",
       "17               3.0      10.0              3.0        3.0     4000.0   512   \n",
       "18               4.0       1.0              3.0        3.0     4000.0   414   \n",
       "19               4.0       0.0              3.0        3.0     4000.0   348   \n",
       "20               4.0      10.0              3.0        3.0     4000.0  3841   \n",
       "21               5.0       1.0              3.0        3.0     4000.0  2613   \n",
       "22               5.0       0.0              3.0        3.0     4000.0   248   \n",
       "23               5.0      10.0              3.0        3.0     4000.0  1108   \n",
       "24               2.0       1.0              3.0        3.0     4000.0   203   \n",
       "25               2.0       0.0              3.0        3.0     4000.0   229   \n",
       "26               2.0      10.0              3.0        3.0     4000.0   485   \n",
       "27               3.0       1.0              3.0        3.0     4000.0  1922   \n",
       "28               3.0       0.0              3.0        3.0     4000.0   175   \n",
       "29               3.0      10.0              3.0        3.0     4000.0  2306   \n",
       "30               4.0       1.0              3.0        3.0     4000.0  3927   \n",
       "31               4.0       0.0              3.0        3.0     4000.0   332   \n",
       "32               4.0      10.0              3.0        3.0     4000.0   312   \n",
       "33               5.0       1.0              3.0        3.0     4000.0  1380   \n",
       "34               5.0       0.0              3.0        3.0     4000.0   230   \n",
       "35               5.0      10.0              3.0        3.0     4000.0   576   \n",
       "\n",
       "   Converged  Convergence_threshold State_1 State_2 State_3 State_4 State_5  \\\n",
       "0      False                  100.0      56     144    None    None    None   \n",
       "1          2                  100.0       0     200    None    None    None   \n",
       "2          2                  100.0       0     200    None    None    None   \n",
       "3      False                  100.0      90      33      77    None    None   \n",
       "4          2                  100.0       0     200       0    None    None   \n",
       "5          1                  100.0     200       0       0    None    None   \n",
       "6          2                  100.0       0     200       0       0    None   \n",
       "7          4                  100.0       0       0       0     200    None   \n",
       "8          3                  100.0       0       0     200       0    None   \n",
       "9          5                  100.0       0       0       0       0     200   \n",
       "10         4                  100.0       0       0       0     200       0   \n",
       "11         2                  100.0       0     200       0       0       0   \n",
       "12         1                  100.0     178      22    None    None    None   \n",
       "13         1                  100.0     200       0    None    None    None   \n",
       "14         2                  100.0       0     200    None    None    None   \n",
       "15         2                  100.0       0     200       0    None    None   \n",
       "16         1                  100.0     200       0       0    None    None   \n",
       "17         3                  100.0       0       0     200    None    None   \n",
       "18         2                  100.0      47     153       0       0    None   \n",
       "19         3                  100.0       0       0     200       0    None   \n",
       "20         2                  100.0       0     200       0       0    None   \n",
       "21         2                  100.0       0     200       0       0       0   \n",
       "22         4                  100.0       0       0       0     200       0   \n",
       "23         3                  100.0       0       0     200       0       0   \n",
       "24         1                  100.0     200       0    None    None    None   \n",
       "25         2                  100.0       0     200    None    None    None   \n",
       "26         1                  100.0     200       0    None    None    None   \n",
       "27         3                  100.0       8       0     192    None    None   \n",
       "28         2                  100.0       0     200       0    None    None   \n",
       "29         2                  100.0       0     200       0    None    None   \n",
       "30         2                  100.0       0     178      22       0    None   \n",
       "31         3                  100.0       0       0     200       0    None   \n",
       "32         4                  100.0       0       0       0     200    None   \n",
       "33         2                  100.0       0     200       0       0       0   \n",
       "34         2                  100.0       0     200       0       0       0   \n",
       "35         3                  100.0       0       0     200       0       0   \n",
       "\n",
       "                                        Record_states  \n",
       "0   results/states/num_states_2.0_num_agents_200.0...  \n",
       "1   results/states/num_states_2.0_num_agents_200.0...  \n",
       "2   results/states/num_states_2.0_num_agents_200.0...  \n",
       "3   results/states/num_states_3.0_num_agents_200.0...  \n",
       "4   results/states/num_states_3.0_num_agents_200.0...  \n",
       "5   results/states/num_states_3.0_num_agents_200.0...  \n",
       "6   results/states/num_states_4.0_num_agents_200.0...  \n",
       "7   results/states/num_states_4.0_num_agents_200.0...  \n",
       "8   results/states/num_states_4.0_num_agents_200.0...  \n",
       "9   results/states/num_states_5.0_num_agents_200.0...  \n",
       "10  results/states/num_states_5.0_num_agents_200.0...  \n",
       "11  results/states/num_states_5.0_num_agents_200.0...  \n",
       "12  results/states/num_states_2.0_num_agents_200.0...  \n",
       "13  results/states/num_states_2.0_num_agents_200.0...  \n",
       "14  results/states/num_states_2.0_num_agents_200.0...  \n",
       "15  results/states/num_states_3.0_num_agents_200.0...  \n",
       "16  results/states/num_states_3.0_num_agents_200.0...  \n",
       "17  results/states/num_states_3.0_num_agents_200.0...  \n",
       "18  results/states/num_states_4.0_num_agents_200.0...  \n",
       "19  results/states/num_states_4.0_num_agents_200.0...  \n",
       "20  results/states/num_states_4.0_num_agents_200.0...  \n",
       "21  results/states/num_states_5.0_num_agents_200.0...  \n",
       "22  results/states/num_states_5.0_num_agents_200.0...  \n",
       "23  results/states/num_states_5.0_num_agents_200.0...  \n",
       "24  results/states/num_states_2.0_num_agents_200.0...  \n",
       "25  results/states/num_states_2.0_num_agents_200.0...  \n",
       "26  results/states/num_states_2.0_num_agents_200.0...  \n",
       "27  results/states/num_states_3.0_num_agents_200.0...  \n",
       "28  results/states/num_states_3.0_num_agents_200.0...  \n",
       "29  results/states/num_states_3.0_num_agents_200.0...  \n",
       "30  results/states/num_states_4.0_num_agents_200.0...  \n",
       "31  results/states/num_states_4.0_num_agents_200.0...  \n",
       "32  results/states/num_states_4.0_num_agents_200.0...  \n",
       "33  results/states/num_states_5.0_num_agents_200.0...  \n",
       "34  results/states/num_states_5.0_num_agents_200.0...  \n",
       "35  results/states/num_states_5.0_num_agents_200.0...  "
      ]
     },
     "execution_count": 4,
     "metadata": {},
     "output_type": "execute_result"
    }
   ],
   "source": [
    "simulation_results"
   ]
  },
  {
   "cell_type": "code",
   "execution_count": 24,
   "metadata": {
    "collapsed": false,
    "scrolled": false
   },
   "outputs": [
    {
     "name": "stderr",
     "output_type": "stream",
     "text": [
      "/Users/benkoger/Virtualenvs/coding-py3/lib/python3.5/site-packages/matplotlib/figure.py:402: UserWarning: matplotlib is currently using a non-GUI backend, so cannot show the figure\n",
      "  \"matplotlib is currently using a non-GUI backend, \"\n"
     ]
    },
    {
     "data": {
      "image/png": "[encoded data removed]",
      "text/plain": [
       "<matplotlib.figure.Figure at 0x10e9e3f60>"
      ]
     },
     "metadata": {},
     "output_type": "display_data"
    }
   ],
   "source": [
    "import pandas as pd\n",
    "from IPython.display import display\n",
    "import matplotlib.pyplot as plt\n",
    "\n",
    "df_five = pd.read_pickle('results/whole_sim_arena_size_500.pkl')\n",
    "df_three = pd.read_pickle('results/whole_sim_arena_size_300.pkl')\n",
    "df_state_test = pd.read_pickle('results/35_state_test.pkl')\n",
    "#df = simulation_results\n",
    "#dfs = [df_three, df_five]\n",
    "dfs = [df_state_test]\n",
    "\n",
    "\n",
    "figure = plt.figure()\n",
    "plot_mean = figure.add_subplot(1, 2, 1)\n",
    "plot_mean.set_title('Average Simulation Steps')\n",
    "plot_mean.set_xlabel('Number of States')\n",
    "plot_variance = figure.add_subplot(1, 2, 2)\n",
    "plot_variance.set_title('Variance')\n",
    "plot_variance.set_xlabel('Number of States')\n",
    "\n",
    "\n",
    "for df_ind, df in enumerate(dfs):\n",
    "\n",
    "    df.loc[:, 'Steps'] = df.loc[:, 'Steps'].apply(pd.to_numeric)\n",
    "\n",
    "    steps_variance = df.groupby(['Movement', 'Noise_SD', 'Number_of_states']).var()['Steps']\n",
    "    plot_variance.bar(list(range(len(steps_variance.values))), steps_variance.values, alpha=.5)\n",
    "    steps_mean = df.groupby(['Movement', 'Noise_SD', 'Number_of_states']).mean()['Steps'] \n",
    "    plot_mean.bar(list(range(len(steps_mean.values))), steps_mean.values, alpha=.5)\n",
    "\n",
    "    for sim_number in range(df.shape[0]):\n",
    "        #skip the first one because that is just the init row\n",
    "        states = np.load(simulation_results.at[sim_number, 'Record_states'])[1:,:]\n",
    "        state_changes = np.zeros(states.shape[0] - 1)\n",
    "        for step in range(0, states.shape[0] - 1):\n",
    "            states[step] = states[step + 1] - states[step]\n",
    "        #last state so just record as no change\n",
    "        states[step + 1] *= 0\n",
    "        #see set any state change to true\n",
    "        states = states > 0\n",
    "        state_changes = np.sum(states, 1)\n",
    "        #plt.plot(state_changes)\n",
    "        #plt.show()\n",
    "#         print('Movement: ', simulation_results.at[sim_number, 'Movement'],\n",
    "#               'Noise: ', simulation_results.at[sim_number, 'Noise_SD'],\n",
    "#               'States: ', simulation_results.at[sim_number, 'Number_of_states'])\n",
    "        \n",
    "        df.loc[sim_number, 'Number_of_state_changes'] = np.sum(state_changes)\n",
    "    changes_mean = df.groupby(['Movement', 'Noise_SD', 'Number_of_states']).mean()['Number_of_state_changes']\n",
    "    plot_mean.bar(list(range(len(changes_mean.values))), changes_mean.values, alpha=.5)\n",
    "    changes_variance = df.groupby(['Movement', 'Noise_SD', 'Number_of_states']).var()['Number_of_state_changes']\n",
    "    plot_variance.bar(list(range(len(changes_varaince.values))), changes_variance.values, alpha=.5)\n",
    "\n",
    "figure.show()\n",
    "#print(steps_mean.values)"
   ]
  },
  {
   "cell_type": "code",
   "execution_count": null,
   "metadata": {
    "collapsed": true
   },
   "outputs": [],
   "source": []
  },
  {
   "cell_type": "code",
   "execution_count": 101,
   "metadata": {
    "collapsed": false,
    "deletable": true,
    "editable": true
   },
   "outputs": [
    {
     "name": "stderr",
     "output_type": "stream",
     "text": [
      "/Users/benkoger/Virtualenvs/coding-py3/lib/python3.5/site-packages/pandas/core/indexing.py:561: SettingWithCopyWarning: \n",
      "A value is trying to be set on a copy of a slice from a DataFrame.\n",
      "Try using .loc[row_indexer,col_indexer] = value instead\n",
      "\n",
      "See the caveats in the documentation: http://pandas.pydata.org/pandas-docs/stable/indexing.html#indexing-view-versus-copy\n",
      "  self.obj[item_labels[indexer[info_axis]]] = value\n"
     ]
    },
    {
     "data": {
      "text/html": [
       "<div>\n",
       "<table border=\"1\" class=\"dataframe\">\n",
       "  <thead>\n",
       "    <tr style=\"text-align: right;\">\n",
       "      <th></th>\n",
       "      <th>Steps</th>\n",
       "    </tr>\n",
       "    <tr>\n",
       "      <th>Movement</th>\n",
       "      <th></th>\n",
       "    </tr>\n",
       "  </thead>\n",
       "  <tbody>\n",
       "    <tr>\n",
       "      <th>schooling</th>\n",
       "      <td>1132.795000</td>\n",
       "    </tr>\n",
       "    <tr>\n",
       "      <th>straight</th>\n",
       "      <td>1004.734286</td>\n",
       "    </tr>\n",
       "  </tbody>\n",
       "</table>\n",
       "</div>"
      ],
      "text/plain": [
       "                 Steps\n",
       "Movement              \n",
       "schooling  1132.795000\n",
       "straight   1004.734286"
      ]
     },
     "metadata": {},
     "output_type": "display_data"
    }
   ],
   "source": [
    "\n",
    "import pandas as pd\n",
    "from IPython.display import display\n",
    "# Make the graphs a bit prettier, and bigger\n",
    "\n",
    "is_schooling = simulation_results['Movement'] == 'schooling'\n",
    "is_straight = ((simulation_results['Movement'] == 'straight') & (simulation_results['Noise_SD'] == 0.0))\n",
    "is_random = ((simulation_results['Movement'] == 'straight') & (simulation_results['Noise_SD'] != 0.0))\n",
    "\n",
    "two_states = simulation_results['Number_of_states'] == 2.0\n",
    "three_states = simulation_results['Number_of_states'] == 3.0\n",
    "four_states = simulation_results['Number_of_states'] == 4.0\n",
    "\n",
    "two_states_schooling = simulation_results[is_schooling & two_states]\n",
    "three_states_schooling = simulation_results[is_schooling & three_states]\n",
    "\n",
    "two_states_straight = simulation_results[is_straight & two_states] \n",
    "three_states_straight = simulation_results[is_straight & three_states]\n",
    "four_states_straight = simulation_results[is_straight & four_states]\n",
    "\n",
    "two_states_random = simulation_results[is_random & two_states] \n",
    "three_states_random = simulation_results[is_random & three_states]\n",
    "four_states_random = simulation_results[is_random & four_states]\n",
    "\n",
    "\n",
    "test = simulation_results[['Movement', 'Steps']]\n",
    "test.loc[:, 'Steps'] = test.loc[:, 'Steps'].apply(pd.to_numeric)\n",
    "\n",
    "# print(type(test['Steps']) == int)\n",
    "display(test.groupby(['Movement']).mean())\n",
    "# display(simulation_results.groupby(['Movement']).sum())\n",
    "\n",
    "# for movement in ['two', 'three', 'four']: \n",
    "#     print(simulation_results['Movement'].value_counts())\n",
    "#     print('schooling: ', movement+_states_schooling['Steps'].sum()/two_states_schooling.shape[0])\n",
    "#     print(two_states_schooling[two_states_schooling['Converged']==False].shape[0])\n",
    "#     print('straight:', two_states_straight['Steps'].sum()/two_states_straight.shape[0])\n",
    "#     print(two_states_straight[two_states_straight['Converged']==False].shape[0])\n",
    "#     print('random:', two_states_random['Steps'].sum()/two_states_random.shape[0])\n",
    "#     print(two_states_random[two_states_random['Converged']==False].shape[0])\n",
    "\n",
    "\n",
    "# print(three_states_schooling['Steps'].sum()/three_states_schooling.shape[0])\n",
    "# print(three_states_schooling[three_states_schooling['Converged']==False].shape[0])\n",
    "\n"
   ]
  },
  {
   "cell_type": "code",
   "execution_count": 5,
   "metadata": {
    "collapsed": false
   },
   "outputs": [
    {
     "name": "stdout",
     "output_type": "stream",
     "text": [
      "61834\n",
      "68474\n"
     ]
    }
   ],
   "source": [
    "for state in range(2):\n",
    "    print(simulation_results['State_'+str(state + 1)].sum())"
   ]
  },
  {
   "cell_type": "code",
   "execution_count": 5,
   "metadata": {
    "collapsed": false,
    "deletable": true,
    "editable": true
   },
   "outputs": [
    {
     "name": "stdout",
     "output_type": "stream",
     "text": [
      "5800\n",
      "4200\n"
     ]
    }
   ],
   "source": [
    "for state in range(int(simulation_results.at[0, 'Number_of_states'])):\n",
    "    print(simulation_results['State_'+str(state + 1)].sum())"
   ]
  },
  {
   "cell_type": "code",
   "execution_count": 3,
   "metadata": {
    "collapsed": false,
    "deletable": true,
    "editable": true
   },
   "outputs": [],
   "source": [
    "#%load_ext line_profiler"
   ]
  },
  {
   "cell_type": "code",
   "execution_count": 19,
   "metadata": {
    "collapsed": false,
    "deletable": true,
    "editable": true,
    "scrolled": false
   },
   "outputs": [
    {
     "name": "stdout",
     "output_type": "stream",
     "text": [
      "Number of cells:  3  agents:  200  Frame:  0 . Time to run last frame:  0.0166778564453125\n",
      "Number of cells:  3  agents:  200  Frame:  500 . Time to run last frame:  0.014126062393188477\n",
      "final_state:  1.0\n"
     ]
    },
    {
     "data": {
      "image/png": "[encoded data removed]",
      "text/plain": [
       "<matplotlib.figure.Figure at 0x11f2719e8>"
      ]
     },
     "metadata": {},
     "output_type": "display_data"
    },
    {
     "name": "stdout",
     "output_type": "stream",
     "text": [
      "Number of cells:  3  agents:  200  Frame:  0 . Time to run last frame:  0.016558170318603516\n",
      "Number of cells:  3  agents:  200  Frame:  500 . Time to run last frame:  0.015897035598754883\n",
      "Number of cells:  3  agents:  200  Frame:  1000 . Time to run last frame:  0.016117095947265625\n",
      "Number of cells:  3  agents:  200  Frame:  1500 . Time to run last frame:  0.01470184326171875\n",
      "Number of cells:  3  agents:  200  Frame:  2000 . Time to run last frame:  0.015575885772705078\n",
      "Number of cells:  3  agents:  200  Frame:  2500 . Time to run last frame:  0.014672994613647461\n",
      "final_state:  2.0\n"
     ]
    },
    {
     "data": {
      "image/png": "[encoded data removed]",
      "text/plain": [
       "<matplotlib.figure.Figure at 0x11f2da0f0>"
      ]
     },
     "metadata": {},
     "output_type": "display_data"
    },
    {
     "name": "stdout",
     "output_type": "stream",
     "text": [
      "Number of cells:  3  agents:  200  Frame:  0 . Time to run last frame:  0.016436100006103516\n",
      "Number of cells:  3  agents:  200  Frame:  500 . Time to run last frame:  0.013416051864624023\n",
      "Number of cells:  3  agents:  200  Frame:  1000 . Time to run last frame:  0.014609098434448242\n",
      "final_state:  1.0\n"
     ]
    },
    {
     "data": {
      "image/png": "[encoded data removed]",
      "text/plain": [
       "<matplotlib.figure.Figure at 0x12158af28>"
      ]
     },
     "metadata": {},
     "output_type": "display_data"
    },
    {
     "name": "stdout",
     "output_type": "stream",
     "text": [
      "Number of cells:  3  agents:  200  Frame:  0 . Time to run last frame:  0.01695704460144043\n",
      "Number of cells:  3  agents:  200  Frame:  500 . Time to run last frame:  0.018279075622558594\n",
      "final_state:  2.0\n"
     ]
    },
    {
     "data": {
      "image/png": "[encoded data removed]",
      "text/plain": [
       "<matplotlib.figure.Figure at 0x12141b9e8>"
      ]
     },
     "metadata": {},
     "output_type": "display_data"
    },
    {
     "name": "stdout",
     "output_type": "stream",
     "text": [
      "Number of cells:  3  agents:  200  Frame:  0 . Time to run last frame:  0.01651787757873535\n",
      "Number of cells:  3  agents:  200  Frame:  500 . Time to run last frame:  0.014729022979736328\n",
      "final_state:  1.0\n"
     ]
    },
    {
     "data": {
      "image/png": "[encoded data removed]",
      "text/plain": [
       "<matplotlib.figure.Figure at 0x1220bd4e0>"
      ]
     },
     "metadata": {},
     "output_type": "display_data"
    },
    {
     "name": "stdout",
     "output_type": "stream",
     "text": [
      "Number of cells:  3  agents:  200  Frame:  0 . Time to run last frame:  0.020939111709594727\n",
      "Number of cells:  3  agents:  200  Frame:  500 . Time to run last frame:  0.015674114227294922\n",
      "Number of cells:  3  agents:  200  Frame:  1000 . Time to run last frame:  0.014280080795288086\n",
      "final_state:  1.0\n"
     ]
    },
    {
     "data": {
      "image/png": "[encoded data removed]",
      "text/plain": [
       "<matplotlib.figure.Figure at 0x121d0ecf8>"
      ]
     },
     "metadata": {},
     "output_type": "display_data"
    },
    {
     "name": "stdout",
     "output_type": "stream",
     "text": [
      "Number of cells:  3  agents:  200  Frame:  0 . Time to run last frame:  0.017030954360961914\n",
      "Number of cells:  3  agents:  200  Frame:  500 . Time to run last frame:  0.015556097030639648\n",
      "final_state:  2.0\n"
     ]
    },
    {
     "data": {
      "image/png": "[encoded data removed]",
      "text/plain": [
       "<matplotlib.figure.Figure at 0x121223908>"
      ]
     },
     "metadata": {},
     "output_type": "display_data"
    },
    {
     "name": "stdout",
     "output_type": "stream",
     "text": [
      "Number of cells:  3  agents:  200  Frame:  0 . Time to run last frame:  0.016329050064086914\n",
      "final_state:  1.0\n"
     ]
    },
    {
     "data": {
      "image/png": "[encoded data removed]",
      "text/plain": [
       "<matplotlib.figure.Figure at 0x11f904da0>"
      ]
     },
     "metadata": {},
     "output_type": "display_data"
    },
    {
     "name": "stdout",
     "output_type": "stream",
     "text": [
      "Number of cells:  3  agents:  200  Frame:  0 . Time to run last frame:  0.016893863677978516\n",
      "Number of cells:  3  agents:  200  Frame:  500 . Time to run last frame:  0.01585078239440918\n",
      "Number of cells:  3  agents:  200  Frame:  1000 . Time to run last frame:  0.016000032424926758\n",
      "Number of cells:  3  agents:  200  Frame:  1500 . Time to run last frame:  0.015861988067626953\n",
      "Number of cells:  3  agents:  200  Frame:  2000 . Time to run last frame:  0.018501996994018555\n",
      "Number of cells:  3  agents:  200  Frame:  2500 . Time to run last frame:  0.014522075653076172\n",
      "Number of cells:  3  agents:  200  Frame:  3000 . Time to run last frame:  0.014654874801635742\n",
      "Number of cells:  3  agents:  200  Frame:  3500 . Time to run last frame:  0.015604972839355469\n",
      "Number of cells:  3  agents:  200  Frame:  4000 . Time to run last frame:  0.014806985855102539\n",
      "final_state:  2.0\n"
     ]
    },
    {
     "data": {
      "image/png": "[encoded data removed]",
      "text/plain": [
       "<matplotlib.figure.Figure at 0x11f556d30>"
      ]
     },
     "metadata": {},
     "output_type": "display_data"
    },
    {
     "name": "stdout",
     "output_type": "stream",
     "text": [
      "Number of cells:  3  agents:  200  Frame:  0 . Time to run last frame:  0.016765832901000977\n",
      "Number of cells:  3  agents:  200  Frame:  500 . Time to run last frame:  0.015616893768310547\n",
      "Number of cells:  3  agents:  200  Frame:  1000 . Time to run last frame:  0.013776779174804688\n",
      "final_state:  1.0\n"
     ]
    },
    {
     "data": {
      "image/png": "[encoded data removed]",
      "text/plain": [
       "<matplotlib.figure.Figure at 0x121ce9160>"
      ]
     },
     "metadata": {},
     "output_type": "display_data"
    },
    {
     "name": "stdout",
     "output_type": "stream",
     "text": [
      "Number of cells:  3  agents:  200  Frame:  0 . Time to run last frame:  0.017416000366210938\n",
      "Number of cells:  3  agents:  200  Frame:  500 . Time to run last frame:  0.015970945358276367\n",
      "Number of cells:  3  agents:  200  Frame:  1000 . Time to run last frame:  0.013653039932250977\n",
      "final_state:  2.0\n"
     ]
    },
    {
     "data": {
      "image/png": "[encoded data removed]",
      "text/plain": [
       "<matplotlib.figure.Figure at 0x1214f8f28>"
      ]
     },
     "metadata": {},
     "output_type": "display_data"
    },
    {
     "name": "stdout",
     "output_type": "stream",
     "text": [
      "Number of cells:  3  agents:  200  Frame:  0 . Time to run last frame:  0.016621112823486328\n",
      "final_state:  1.0\n"
     ]
    },
    {
     "data": {
      "image/png": "[encoded data removed]",
      "text/plain": [
       "<matplotlib.figure.Figure at 0x12156c550>"
      ]
     },
     "metadata": {},
     "output_type": "display_data"
    },
    {
     "name": "stdout",
     "output_type": "stream",
     "text": [
      "Number of cells:  3  agents:  200  Frame:  0 . Time to run last frame:  0.01686382293701172\n",
      "final_state:  1.0\n"
     ]
    },
    {
     "data": {
      "image/png": "[encoded data removed]",
      "text/plain": [
       "<matplotlib.figure.Figure at 0x12152de80>"
      ]
     },
     "metadata": {},
     "output_type": "display_data"
    },
    {
     "name": "stdout",
     "output_type": "stream",
     "text": [
      "Number of cells:  3  agents:  200  Frame:  0 . Time to run last frame:  0.0164949893951416\n",
      "Number of cells:  3  agents:  200  Frame:  500 . Time to run last frame:  0.01607799530029297\n",
      "Number of cells:  3  agents:  200  Frame:  1000 . Time to run last frame:  0.015506982803344727\n",
      "final_state:  2.0\n"
     ]
    },
    {
     "data": {
      "image/png": "[encoded data removed]",
      "text/plain": [
       "<matplotlib.figure.Figure at 0x122053c18>"
      ]
     },
     "metadata": {},
     "output_type": "display_data"
    },
    {
     "name": "stdout",
     "output_type": "stream",
     "text": [
      "Number of cells:  3  agents:  200  Frame:  0 . Time to run last frame:  0.018212080001831055\n",
      "final_state:  2.0\n"
     ]
    },
    {
     "data": {
      "image/png": "[encoded data removed]",
      "text/plain": [
       "<matplotlib.figure.Figure at 0x11f268b70>"
      ]
     },
     "metadata": {},
     "output_type": "display_data"
    },
    {
     "name": "stdout",
     "output_type": "stream",
     "text": [
      "Number of cells:  3  agents:  200  Frame:  0 . Time to run last frame:  0.017223834991455078\n",
      "Number of cells:  3  agents:  200  Frame:  500 . Time to run last frame:  0.015690088272094727\n",
      "Number of cells:  3  agents:  200  Frame:  1000 . Time to run last frame:  0.015810012817382812\n",
      "Number of cells:  3  agents:  200  Frame:  1500 . Time to run last frame:  0.014734983444213867\n",
      "Number of cells:  3  agents:  200  Frame:  2000 . Time to run last frame:  0.013827085494995117\n",
      "Number of cells:  3  agents:  200  Frame:  2500 . Time to run last frame:  0.013597965240478516\n",
      "Number of cells:  3  agents:  200  Frame:  3000 . Time to run last frame:  0.014878034591674805\n",
      "Number of cells:  3  agents:  200  Frame:  3500 . Time to run last frame:  0.013792037963867188\n",
      "final_state:  1.0\n"
     ]
    },
    {
     "data": {
      "image/png": "[encoded data removed]",
      "text/plain": [
       "<matplotlib.figure.Figure at 0x11f27b588>"
      ]
     },
     "metadata": {},
     "output_type": "display_data"
    },
    {
     "name": "stdout",
     "output_type": "stream",
     "text": [
      "Number of cells:  3  agents:  200  Frame:  0 . Time to run last frame:  0.016642093658447266\n",
      "Number of cells:  3  agents:  200  Frame:  500 . Time to run last frame:  0.015759944915771484\n",
      "Number of cells:  3  agents:  200  Frame:  1000 . Time to run last frame:  0.01565408706665039\n",
      "Number of cells:  3  agents:  200  Frame:  1500 . Time to run last frame:  0.014505147933959961\n",
      "Number of cells:  3  agents:  200  Frame:  2000 . Time to run last frame:  0.013543844223022461\n",
      "Number of cells:  3  agents:  200  Frame:  2500 . Time to run last frame:  0.011687040328979492\n",
      "final_state:  2.0\n"
     ]
    },
    {
     "data": {
      "image/png": "[encoded data removed]",
      "text/plain": [
       "<matplotlib.figure.Figure at 0x1214bf860>"
      ]
     },
     "metadata": {},
     "output_type": "display_data"
    },
    {
     "name": "stdout",
     "output_type": "stream",
     "text": [
      "Number of cells:  3  agents:  200  Frame:  0 . Time to run last frame:  0.017528057098388672\n",
      "Number of cells:  3  agents:  200  Frame:  500 . Time to run last frame:  0.01514577865600586\n",
      "final_state:  1.0\n"
     ]
    },
    {
     "data": {
      "image/png": "[encoded data removed]",
      "text/plain": [
       "<matplotlib.figure.Figure at 0x11e3fe668>"
      ]
     },
     "metadata": {},
     "output_type": "display_data"
    },
    {
     "name": "stdout",
     "output_type": "stream",
     "text": [
      "Number of cells:  3  agents:  200  Frame:  0 . Time to run last frame:  0.017941951751708984\n",
      "final_state:  1.0\n"
     ]
    },
    {
     "data": {
      "image/png": "[encoded data removed]",
      "text/plain": [
       "<matplotlib.figure.Figure at 0x1203ae3c8>"
      ]
     },
     "metadata": {},
     "output_type": "display_data"
    },
    {
     "name": "stdout",
     "output_type": "stream",
     "text": [
      "Number of cells:  3  agents:  200  Frame:  0 . Time to run last frame:  0.016257047653198242\n",
      "final_state:  1.0\n"
     ]
    },
    {
     "data": {
      "image/png": "[encoded data removed]",
      "text/plain": [
       "<matplotlib.figure.Figure at 0x11e797ba8>"
      ]
     },
     "metadata": {},
     "output_type": "display_data"
    },
    {
     "name": "stdout",
     "output_type": "stream",
     "text": [
      "Number of cells:  3  agents:  200  Frame:  0 . Time to run last frame:  0.016582965850830078\n",
      "Number of cells:  3  agents:  200  Frame:  500 . Time to run last frame:  0.013645172119140625\n",
      "final_state:  2.0\n"
     ]
    },
    {
     "data": {
      "image/png": "[encoded data removed]",
      "text/plain": [
       "<matplotlib.figure.Figure at 0x11fe9c780>"
      ]
     },
     "metadata": {},
     "output_type": "display_data"
    },
    {
     "name": "stdout",
     "output_type": "stream",
     "text": [
      "Number of cells:  3  agents:  200  Frame:  0 . Time to run last frame:  0.01650094985961914\n",
      "Number of cells:  3  agents:  200  Frame:  500 . Time to run last frame:  0.014661073684692383\n",
      "Number of cells:  3  agents:  200  Frame:  1000 . Time to run last frame:  0.013874053955078125\n",
      "Number of cells:  3  agents:  200  Frame:  1500 . Time to run last frame:  0.014698028564453125\n",
      "Number of cells:  3  agents:  200  Frame:  2000 . Time to run last frame:  0.015261173248291016\n",
      "final_state:  1.0\n"
     ]
    },
    {
     "data": {
      "image/png": "[encoded data removed]",
      "text/plain": [
       "<matplotlib.figure.Figure at 0x12039dc50>"
      ]
     },
     "metadata": {},
     "output_type": "display_data"
    },
    {
     "name": "stdout",
     "output_type": "stream",
     "text": [
      "Number of cells:  3  agents:  200  Frame:  0 . Time to run last frame:  0.016525983810424805\n",
      "Number of cells:  3  agents:  200  Frame:  500 . Time to run last frame:  0.015659093856811523\n",
      "Number of cells:  3  agents:  200  Frame:  1000 . Time to run last frame:  0.01581716537475586\n",
      "Number of cells:  3  agents:  200  Frame:  1500 . Time to run last frame:  0.01801896095275879\n",
      "Number of cells:  3  agents:  200  Frame:  2000 . Time to run last frame:  0.015661001205444336\n",
      "Number of cells:  3  agents:  200  Frame:  2500 . Time to run last frame:  0.014717817306518555\n",
      "Number of cells:  3  agents:  200  Frame:  3000 . Time to run last frame:  0.015800952911376953\n",
      "Number of cells:  3  agents:  200  Frame:  3500 . Time to run last frame:  0.014728069305419922\n",
      "Number of cells:  3  agents:  200  Frame:  4000 . Time to run last frame:  0.014550924301147461\n",
      "Number of cells:  3  agents:  200  Frame:  4500 . Time to run last frame:  0.014620780944824219\n",
      "final_state:  1.0\n"
     ]
    },
    {
     "data": {
      "image/png": "[encoded data removed]",
      "text/plain": [
       "<matplotlib.figure.Figure at 0x11deb1e48>"
      ]
     },
     "metadata": {},
     "output_type": "display_data"
    },
    {
     "name": "stdout",
     "output_type": "stream",
     "text": [
      "Number of cells:  3  agents:  200  Frame:  0 . Time to run last frame:  0.018728971481323242\n",
      "Number of cells:  3  agents:  200  Frame:  500 . Time to run last frame:  0.01476597785949707\n",
      "Number of cells:  3  agents:  200  Frame:  1000 . Time to run last frame:  0.01705789566040039\n",
      "final_state:  2.0\n"
     ]
    },
    {
     "data": {
      "image/png": "[encoded data removed]",
      "text/plain": [
       "<matplotlib.figure.Figure at 0x11f2bb860>"
      ]
     },
     "metadata": {},
     "output_type": "display_data"
    },
    {
     "name": "stdout",
     "output_type": "stream",
     "text": [
      "Number of cells:  3  agents:  200  Frame:  0 . Time to run last frame:  0.01665496826171875\n",
      "final_state:  2.0\n"
     ]
    },
    {
     "data": {
      "image/png": "[encoded data removed]",
      "text/plain": [
       "<matplotlib.figure.Figure at 0x122056240>"
      ]
     },
     "metadata": {},
     "output_type": "display_data"
    },
    {
     "name": "stdout",
     "output_type": "stream",
     "text": [
      "Number of cells:  3  agents:  200  Frame:  0 . Time to run last frame:  0.017625093460083008\n",
      "Number of cells:  3  agents:  200  Frame:  500 . Time to run last frame:  0.015905141830444336\n",
      "Number of cells:  3  agents:  200  Frame:  1000 . Time to run last frame:  0.0153961181640625\n",
      "Number of cells:  3  agents:  200  Frame:  1500 . Time to run last frame:  0.016041040420532227\n",
      "Number of cells:  3  agents:  200  Frame:  2000 . Time to run last frame:  0.01483297348022461\n",
      "final_state:  2.0\n"
     ]
    },
    {
     "data": {
      "image/png": "[encoded data removed]",
      "text/plain": [
       "<matplotlib.figure.Figure at 0x12208fa58>"
      ]
     },
     "metadata": {},
     "output_type": "display_data"
    },
    {
     "name": "stdout",
     "output_type": "stream",
     "text": [
      "Number of cells:  3  agents:  200  Frame:  0 . Time to run last frame:  0.016505002975463867\n",
      "Number of cells:  3  agents:  200  Frame:  500 . Time to run last frame:  0.014692068099975586\n",
      "Number of cells:  3  agents:  200  Frame:  1000 . Time to run last frame:  0.015865087509155273\n"
     ]
    },
    {
     "ename": "RuntimeError",
     "evalue": "index out of range at /Users/soumith/code/builder/wheel/pytorch-src/torch/lib/TH/generic/THTensorMath.c:277",
     "output_type": "error",
     "traceback": [
      "\u001b[0;31m----------------------------------------------------------------------\u001b[0m",
      "\u001b[0;31mRuntimeError\u001b[0m                         Traceback (most recent call last)",
      "\u001b[0;32m<ipython-input-19-a15d08756e38>\u001b[0m in \u001b[0;36m<module>\u001b[0;34m()\u001b[0m\n\u001b[1;32m     39\u001b[0m \u001b[0;34m\u001b[0m\u001b[0m\n\u001b[1;32m     40\u001b[0m             \u001b[0mt\u001b[0m \u001b[0;34m=\u001b[0m \u001b[0mtime\u001b[0m\u001b[0;34m.\u001b[0m\u001b[0mtime\u001b[0m\u001b[0;34m(\u001b[0m\u001b[0;34m)\u001b[0m\u001b[0;34m\u001b[0m\u001b[0m\n\u001b[0;32m---> 41\u001b[0;31m             \u001b[0mconverged\u001b[0m \u001b[0;34m=\u001b[0m \u001b[0msimulation\u001b[0m\u001b[0;34m.\u001b[0m\u001b[0mmain_graph\u001b[0m\u001b[0;34m(\u001b[0m\u001b[0;34m)\u001b[0m\u001b[0;34m\u001b[0m\u001b[0m\n\u001b[0m\u001b[1;32m     42\u001b[0m             \u001b[0;32mif\u001b[0m \u001b[0mconverged\u001b[0m\u001b[0;34m:\u001b[0m\u001b[0;34m\u001b[0m\u001b[0m\n\u001b[1;32m     43\u001b[0m                 \u001b[0mconvergence_count\u001b[0m \u001b[0;34m+=\u001b[0m \u001b[0;36m1\u001b[0m\u001b[0;34m\u001b[0m\u001b[0m\n",
      "\u001b[0;32m<ipython-input-2-ecaa80d01d11>\u001b[0m in \u001b[0;36mmain_graph\u001b[0;34m(self)\u001b[0m\n\u001b[1;32m    489\u001b[0m                     \u001b[0mxnew\u001b[0m\u001b[0;34m=\u001b[0m\u001b[0mtorch\u001b[0m\u001b[0;34m.\u001b[0m\u001b[0mfmod\u001b[0m\u001b[0;34m(\u001b[0m\u001b[0mxnew\u001b[0m \u001b[0;34m+\u001b[0m \u001b[0mself\u001b[0m\u001b[0;34m.\u001b[0m\u001b[0marena_size\u001b[0m\u001b[0;34m,\u001b[0m \u001b[0mself\u001b[0m\u001b[0;34m.\u001b[0m\u001b[0marena_size\u001b[0m\u001b[0;34m)\u001b[0m\u001b[0;34m\u001b[0m\u001b[0m\n\u001b[1;32m    490\u001b[0m \u001b[0;34m\u001b[0m\u001b[0m\n\u001b[0;32m--> 491\u001b[0;31m                 \u001b[0;32mif\u001b[0m \u001b[0;32mnot\u001b[0m \u001b[0mself\u001b[0m\u001b[0;34m.\u001b[0m\u001b[0mcalculate_new_states\u001b[0m\u001b[0;34m(\u001b[0m\u001b[0mcell_num\u001b[0m\u001b[0;34m,\u001b[0m \u001b[0mstate_mask\u001b[0m\u001b[0;34m)\u001b[0m\u001b[0;34m:\u001b[0m\u001b[0;34m\u001b[0m\u001b[0m\n\u001b[0m\u001b[1;32m    492\u001b[0m                     \u001b[0mstates_converged\u001b[0m \u001b[0;34m=\u001b[0m \u001b[0;32mFalse\u001b[0m\u001b[0;34m\u001b[0m\u001b[0m\n\u001b[1;32m    493\u001b[0m \u001b[0;34m\u001b[0m\u001b[0m\n",
      "\u001b[0;32m<ipython-input-2-ecaa80d01d11>\u001b[0m in \u001b[0;36mcalculate_new_states\u001b[0;34m(self, cell_num, neighbor_mask)\u001b[0m\n\u001b[1;32m    327\u001b[0m         \u001b[0mnew_state_ind\u001b[0m \u001b[0;34m=\u001b[0m \u001b[0mcum_possible_states\u001b[0m \u001b[0;34m-\u001b[0m \u001b[0mrand_ind\u001b[0m\u001b[0;34m\u001b[0m\u001b[0m\n\u001b[1;32m    328\u001b[0m \u001b[0;34m\u001b[0m\u001b[0m\n\u001b[0;32m--> 329\u001b[0;31m         \u001b[0mself\u001b[0m\u001b[0;34m.\u001b[0m\u001b[0mstate\u001b[0m \u001b[0;34m=\u001b[0m \u001b[0mpossible_states\u001b[0m\u001b[0;34m[\u001b[0m\u001b[0mnew_state_ind\u001b[0m\u001b[0;34m.\u001b[0m\u001b[0mtype\u001b[0m\u001b[0;34m(\u001b[0m\u001b[0mtorch\u001b[0m\u001b[0;34m.\u001b[0m\u001b[0mLongTensor\u001b[0m\u001b[0;34m)\u001b[0m\u001b[0;34m]\u001b[0m\u001b[0;34m\u001b[0m\u001b[0m\n\u001b[0m\u001b[1;32m    330\u001b[0m \u001b[0;34m\u001b[0m\u001b[0m\n\u001b[1;32m    331\u001b[0m         \u001b[0mstate_cpu\u001b[0m \u001b[0;34m=\u001b[0m \u001b[0mself\u001b[0m\u001b[0;34m.\u001b[0m\u001b[0mstate\u001b[0m\u001b[0;34m.\u001b[0m\u001b[0mcpu\u001b[0m\u001b[0;34m(\u001b[0m\u001b[0;34m)\u001b[0m\u001b[0;34m\u001b[0m\u001b[0m\n",
      "\u001b[0;31mRuntimeError\u001b[0m: index out of range at /Users/soumith/code/builder/wheel/pytorch-src/torch/lib/TH/generic/THTensorMath.c:277"
     ]
    }
   ],
   "source": [
    "%matplotlib inline\n",
    "\n",
    "import time\n",
    "import matplotlib.pyplot as plt\n",
    "random.seed()\n",
    "\n",
    "total_frames = 10000\n",
    "\n",
    "# simulation = Simulation(num_agents=100, arena_size=800, number_of_cells=1, \n",
    "#                         body_size=1.0, video=False)\n",
    "\n",
    "time_segment = 0\n",
    "time_main = 0\n",
    "time_draw = 0\n",
    "\n",
    "#fps = []\n",
    "#num_agents_list = list(range(1,3100, 100))\n",
    "\n",
    "num_agents_list = [200]\n",
    "\n",
    "\n",
    "number_cells = 3\n",
    "\n",
    "convergence_threshold = 100\n",
    "convergence_count = 0\n",
    "\n",
    "#Simulation starts HERE\n",
    "for num_agents in num_agents_list:\n",
    "    final_states = []\n",
    "    for trial in range(100):\n",
    "        simulation = Simulation(num_agents=num_agents, arena_size=500, number_of_cells=number_cells, \n",
    "                                body_size=3.0, video=False, speed=3, state_threshold=.5, number_of_states = 2,\n",
    "                                noise_sd = 1.0)\n",
    "        time_start = time.time()\n",
    "        for frame in range(total_frames):\n",
    "            t = time.time()\n",
    "            simulation.segment_individuals()\n",
    "            time_segment += time.time() - t\n",
    "\n",
    "            t = time.time()\n",
    "            converged = simulation.main_graph()\n",
    "            if converged:\n",
    "                convergence_count += 1\n",
    "            else:\n",
    "                convergence_count = 0\n",
    "\n",
    "            if frame % 500 == 0:\n",
    "                print('Number of cells: ', simulation.number_of_cells, ' agents: ' ,num_agents, ' Frame: ', frame, '. Time to run last frame: ', time.time() - t)\n",
    "        #    if frame == 50:\n",
    "        #         %lprun -f simulation.main_graph simulation.main_graph()\n",
    "            time_main += time.time() - t\n",
    "\n",
    "            if frame % 100 == 0:\n",
    "                kill = simulation.graphics()\n",
    "\n",
    "                time_draw += time.time() - t\n",
    "            \n",
    "\n",
    "            if kill or convergence_count > convergence_threshold:\n",
    "                close_cv2()\n",
    "                break\n",
    "        \n",
    "        agents = simulation.get_agents()\n",
    "        agents_states = [a.state for a in agents]\n",
    "        final_states.append(agents_states)\n",
    "        print('final_state: ', agents_states[0])\n",
    "        plt.hist(agents_states)\n",
    "        plt.show()\n",
    "        \n",
    "\n",
    "        total_time = time.time() - time_start \n",
    "        #print('total time: ', total_time)\n",
    "#         print('number of cells: ', number_cells, ' averaged over ', total_frames, 'frames') \n",
    "#         print('frames per second: ', frame / total_time )\n",
    "        #fps.append(frame / total_time)\n",
    "        close_cv2()\n",
    "\n",
    "        \n",
    "#         print('time_segment: ', time_segment/frame )\n",
    "#         print('time_main: ', time_main/frame )\n",
    "#         print('time_draw: ', time_draw/frame )\n",
    "\n",
    "plt.hist(list(itertools.chain(*final_states)))\n",
    "plt.show()"
   ]
  },
  {
   "cell_type": "code",
   "execution_count": 16,
   "metadata": {
    "collapsed": false,
    "deletable": true,
    "editable": true,
    "scrolled": false
   },
   "outputs": [
    {
     "data": {
      "text/plain": [
       "([array([  35.,    0.,    0.,    0.,    0.,    0.,    0.,    0.,    0.,  165.]),\n",
       "  array([   7.,    0.,    0.,    0.,    0.,    0.,    0.,    0.,    0.,  193.]),\n",
       "  array([   0.,    0.,    0.,    0.,    0.,    0.,    0.,    0.,    0.,  200.]),\n",
       "  array([ 197.,    0.,    0.,    0.,    0.,    0.,    0.,    0.,    0.,    3.]),\n",
       "  array([  58.,    0.,    0.,    0.,    0.,    0.,    0.,    0.,    0.,  142.]),\n",
       "  array([ 135.,    0.,    0.,    0.,    0.,    0.,    0.,    0.,    0.,   65.]),\n",
       "  array([  27.,    0.,    0.,    0.,    0.,    0.,    0.,    0.,    0.,  173.]),\n",
       "  array([   0.,    0.,    0.,    0.,    0.,    0.,    0.,    0.,    0.,  200.]),\n",
       "  array([  23.,    0.,    0.,    0.,    0.,    0.,    0.,    0.,    0.,  177.]),\n",
       "  array([ 177.,    0.,    0.,    0.,    0.,    0.,    0.,    0.,    0.,   23.]),\n",
       "  array([  23.,    0.,    0.,    0.,    0.,    0.,    0.,    0.,    0.,  177.]),\n",
       "  array([  65.,    0.,    0.,    0.,    0.,    0.,    0.,    0.,    0.,  135.]),\n",
       "  array([   0.,    0.,    0.,    0.,    0.,    0.,    0.,    0.,    0.,  200.]),\n",
       "  array([   0.,    0.,    0.,    0.,    0.,    0.,    0.,    0.,    0.,  200.]),\n",
       "  array([   0.,    0.,    0.,    0.,    0.,    0.,    0.,    0.,    0.,  200.]),\n",
       "  array([ 1682.,     0.,     0.,     0.,     0.,     0.,     0.,     0.,\n",
       "             0.,  1318.]),\n",
       "  array([ 121.,    0.,    0.,    0.,    0.,    0.,    0.,    0.,    0.,   79.]),\n",
       "  array([  53.,    0.,    0.,    0.,    0.,    0.,    0.,    0.,    0.,  147.]),\n",
       "  array([   0.,    0.,    0.,    0.,    0.,    0.,    0.,    0.,    0.,  200.]),\n",
       "  array([ 183.,    0.,    0.,    0.,    0.,    0.,    0.,    0.,    0.,   17.]),\n",
       "  array([ 195.,    0.,    0.,    0.,    0.,    0.,    0.,    0.,    0.,    5.]),\n",
       "  array([ 130.,    0.,    0.,    0.,    0.,    0.,    0.,    0.,    0.,   70.]),\n",
       "  array([   0.,    0.,    0.,    0.,    0.,    0.,    0.,    0.,    0.,  200.]),\n",
       "  array([ 200.,    0.,    0.,    0.,    0.,    0.,    0.,    0.,    0.,    0.]),\n",
       "  array([  64.,    0.,    0.,    0.,    0.,    0.,    0.,    0.,    0.,  136.]),\n",
       "  array([ 159.,    0.,    0.,    0.,    0.,    0.,    0.,    0.,    0.,   41.]),\n",
       "  array([   0.,    0.,    0.,    0.,    0.,    0.,    0.,    0.,    0.,  200.]),\n",
       "  array([ 179.,    0.,    0.,    0.,    0.,    0.,    0.,    0.,    0.,   21.]),\n",
       "  array([ 198.,    0.,    0.,    0.,    0.,    0.,    0.,    0.,    0.,    2.]),\n",
       "  array([   0.,    0.,    0.,    0.,    0.,    0.,    0.,    0.,    0.,  200.]),\n",
       "  array([ 200.,    0.,    0.,    0.,    0.,    0.,    0.,    0.,    0.,    0.])],\n",
       " array([ 1. ,  1.1,  1.2,  1.3,  1.4,  1.5,  1.6,  1.7,  1.8,  1.9,  2. ]),\n",
       " <a list of 31 Lists of Patches objects>)"
      ]
     },
     "execution_count": 16,
     "metadata": {},
     "output_type": "execute_result"
    },
    {
     "data": {
      "image/png": "[encoded data removed]",
      "text/plain": [
       "<matplotlib.figure.Figure at 0x11e1bc2e8>"
      ]
     },
     "metadata": {},
     "output_type": "display_data"
    }
   ],
   "source": [
    "#final_states_combined = final_states_one.append(final_states)\n",
    "#plt.hist(list(itertools.chain(*final_states_combined)))\n",
    "# for s in final_states:\n",
    "#     final_states_one.append(s)\n",
    "plt.hist(final_states_one)"
   ]
  },
  {
   "cell_type": "markdown",
   "metadata": {
    "deletable": true,
    "editable": true
   },
   "source": [
    "number of cells:  4  averaged over  1000 frames\n",
    "frames per second:  31.73017186519486\n",
    "time_segment:  0.0007815835950849531\n",
    "time_main:  0.015525325043900712\n",
    "time_draw:  0.022788058291445742\n",
    "\n",
    "number of cells:  3  averaged over  1000 frames\n",
    "frames per second:  32.79151068639921\n",
    "time_segment:  0.0007430132444914397\n",
    "time_main:  0.014550500923210197\n",
    "time_draw:  0.022306745355432336\n",
    "\n",
    "frames per second:  29.655879675925917\n",
    "time_segment:  0.0007562055005444898\n",
    "time_main:  0.017742341941780038\n",
    "time_draw:  0.02393502874059362\n",
    "\n",
    "\n",
    "number of cells:  3\n",
    "frames per second:  29.48644422272298\n",
    "time_segment:  0.001037949892743748\n",
    "time_main:  0.02353778316747004\n",
    "time_draw:  0.020952736313019565\n",
    "\n",
    "number of cells:  5\n",
    "frames per second:  24.803366419492477\n",
    "time_segment:  0.0012346465012122844\n",
    "time_main:  0.03040326874831627\n",
    "time_draw:  0.023716416852227574\n",
    "\n",
    "number of cells:  4\n",
    "frames per second:  28.019702163948505\n",
    "time_segment:  0.0012530293957940463\n",
    "time_main:  0.025946830881053005\n",
    "time_draw:  0.02144323546310951\n",
    "\n",
    "number of cells:  3\n",
    "frames per second:  29.022959274977296\n",
    "time_segment:  0.0011627591889480065\n",
    "time_main:  0.02492112948976714\n",
    "time_draw:  0.020720440765907025\n",
    "\n",
    "number of cells:  2\n",
    "frames per second:  20.164164246471493\n",
    "time_segment:  0.0012361016766778354\n",
    "time_main:  0.03989061815985318\n",
    "time_draw:  0.02851389194356984\n",
    "\n",
    "number of cells:  1\n",
    "frames per second:  6.142715544444598\n",
    "time_segment:  0.001108350424930967\n",
    "time_main:  0.15355000824763856\n",
    "time_draw:  0.08545905968238568\n",
    "\n",
    "Number of cells:  20  agents:  300  Frame:  600 . Time to run last frame:  0.17082500457763672\n",
    "frames per second:  5.519612712467084\n",
    "time_segment:  0.0017161795680273927\n",
    "time_main:  0.1711822569114456\n",
    "time_draw:  0.09383378895226126\n",
    "\n",
    "Number of cells:  5  agents:  300  Frame:  600 . Time to run last frame:  0.030102014541625977\n",
    "frames per second:  26.114778797024844\n",
    "time_segment:  0.0011802128967809064\n",
    "time_main:  0.02893639770529642\n",
    "time_draw:  0.022445485656694623\n",
    "\n",
    "Number of cells:  1  agents:  300  Frame:  600 . Time to run last frame:  0.14960217475891113\n",
    "frames per second:  6.272247806402779\n",
    "time_segment:  0.001048481686091389\n",
    "time_main:  0.1501690915043603\n",
    "time_draw:  0.08331451122682323"
   ]
  },
  {
   "cell_type": "code",
   "execution_count": 55,
   "metadata": {
    "collapsed": false,
    "deletable": true,
    "editable": true
   },
   "outputs": [
    {
     "ename": "NameError",
     "evalue": "name 'fps' is not defined",
     "output_type": "error",
     "traceback": [
      "\u001b[0;31m----------------------------------------------------------------------\u001b[0m",
      "\u001b[0;31mNameError\u001b[0m                            Traceback (most recent call last)",
      "\u001b[0;32m<ipython-input-55-c0df849b5867>\u001b[0m in \u001b[0;36m<module>\u001b[0;34m()\u001b[0m\n\u001b[1;32m      1\u001b[0m \u001b[0mget_ipython\u001b[0m\u001b[0;34m(\u001b[0m\u001b[0;34m)\u001b[0m\u001b[0;34m.\u001b[0m\u001b[0mmagic\u001b[0m\u001b[0;34m(\u001b[0m\u001b[0;34m'matplotlib notebook'\u001b[0m\u001b[0;34m)\u001b[0m\u001b[0;34m\u001b[0m\u001b[0m\n\u001b[1;32m      2\u001b[0m \u001b[0;32mimport\u001b[0m \u001b[0mmatplotlib\u001b[0m\u001b[0;34m.\u001b[0m\u001b[0mpyplot\u001b[0m \u001b[0;32mas\u001b[0m \u001b[0mplt\u001b[0m\u001b[0;34m\u001b[0m\u001b[0m\n\u001b[0;32m----> 3\u001b[0;31m \u001b[0mplt\u001b[0m\u001b[0;34m.\u001b[0m\u001b[0mplot\u001b[0m\u001b[0;34m(\u001b[0m\u001b[0mnum_agents_list\u001b[0m\u001b[0;34m,\u001b[0m\u001b[0mfps\u001b[0m\u001b[0;34m[\u001b[0m\u001b[0;36m62\u001b[0m\u001b[0;34m:\u001b[0m\u001b[0;36m124\u001b[0m\u001b[0;34m:\u001b[0m\u001b[0;36m2\u001b[0m\u001b[0;34m]\u001b[0m\u001b[0;34m)\u001b[0m\u001b[0;34m\u001b[0m\u001b[0m\n\u001b[0m\u001b[1;32m      4\u001b[0m \u001b[0mplt\u001b[0m\u001b[0;34m.\u001b[0m\u001b[0mplot\u001b[0m\u001b[0;34m(\u001b[0m\u001b[0mnum_agents_list\u001b[0m\u001b[0;34m,\u001b[0m\u001b[0mone_cell_fps\u001b[0m\u001b[0;34m[\u001b[0m\u001b[0;34m:\u001b[0m\u001b[0;36m62\u001b[0m\u001b[0;34m:\u001b[0m\u001b[0;36m2\u001b[0m\u001b[0;34m]\u001b[0m\u001b[0;34m)\u001b[0m\u001b[0;34m\u001b[0m\u001b[0m\n\u001b[1;32m      5\u001b[0m \u001b[0mplt\u001b[0m\u001b[0;34m.\u001b[0m\u001b[0mplot\u001b[0m\u001b[0;34m(\u001b[0m\u001b[0mnum_agents_list\u001b[0m\u001b[0;34m,\u001b[0m\u001b[0mone_cell_fps\u001b[0m\u001b[0;34m[\u001b[0m\u001b[0;36m124\u001b[0m\u001b[0;34m:\u001b[0m\u001b[0;34m:\u001b[0m\u001b[0;36m2\u001b[0m\u001b[0;34m]\u001b[0m\u001b[0;34m)\u001b[0m\u001b[0;34m\u001b[0m\u001b[0m\n",
      "\u001b[0;31mNameError\u001b[0m: name 'fps' is not defined"
     ]
    }
   ],
   "source": [
    "%matplotlib notebook\n",
    "import matplotlib.pyplot as plt\n",
    "plt.plot(num_agents_list,fps[62:124:2])\n",
    "plt.plot(num_agents_list,one_cell_fps[:62:2])\n",
    "plt.plot(num_agents_list,one_cell_fps[124::2])\n",
    "\n",
    "fps[64]"
   ]
  },
  {
   "cell_type": "code",
   "execution_count": null,
   "metadata": {
    "collapsed": true,
    "deletable": true,
    "editable": true
   },
   "outputs": [],
   "source": []
  },
  {
   "cell_type": "code",
   "execution_count": 3,
   "metadata": {
    "collapsed": false,
    "deletable": true,
    "editable": true
   },
   "outputs": [
    {
     "data": {
      "text/plain": [
       "6889"
      ]
     },
     "execution_count": 3,
     "metadata": {},
     "output_type": "execute_result"
    }
   ],
   "source": [
    "simulation.segment_individuals()\n",
    "len(simulation.cell_to_positions)"
   ]
  },
  {
   "cell_type": "code",
   "execution_count": 3,
   "metadata": {
    "collapsed": false,
    "deletable": true,
    "editable": true
   },
   "outputs": [
    {
     "ename": "NameError",
     "evalue": "name 'random_bounded_point' is not defined",
     "output_type": "error",
     "traceback": [
      "\u001b[0;31m---------------------------------------------------------------------------\u001b[0m",
      "\u001b[0;31mNameError\u001b[0m                                 Traceback (most recent call last)",
      "\u001b[0;32m<ipython-input-3-4dda2148c88e>\u001b[0m in \u001b[0;36m<module>\u001b[0;34m()\u001b[0m\n\u001b[1;32m     43\u001b[0m     \u001b[0mset_direction\u001b[0m \u001b[0;34m=\u001b[0m \u001b[0mnp\u001b[0m\u001b[0;34m.\u001b[0m\u001b[0marray\u001b[0m\u001b[0;34m(\u001b[0m\u001b[0;34m[\u001b[0m\u001b[0;36m1.0\u001b[0m\u001b[0;34m,\u001b[0m \u001b[0;36m0.0\u001b[0m\u001b[0;34m]\u001b[0m\u001b[0;34m)\u001b[0m\u001b[0;34m\u001b[0m\u001b[0m\n\u001b[1;32m     44\u001b[0m     \u001b[0mset_direction\u001b[0m \u001b[0;34m=\u001b[0m \u001b[0mrotate\u001b[0m\u001b[0;34m(\u001b[0m\u001b[0mset_direction\u001b[0m\u001b[0;34m,\u001b[0m \u001b[0mrandom\u001b[0m\u001b[0;34m.\u001b[0m\u001b[0mrandom\u001b[0m\u001b[0;34m(\u001b[0m\u001b[0;34m)\u001b[0m\u001b[0;34m*\u001b[0m\u001b[0;36m360.0\u001b[0m\u001b[0;34m)\u001b[0m\u001b[0;34m\u001b[0m\u001b[0m\n\u001b[0;32m---> 45\u001b[0;31m     \u001b[0mset_r_center\u001b[0m \u001b[0;34m=\u001b[0m \u001b[0mrandom_bounded_point\u001b[0m\u001b[0;34m(\u001b[0m\u001b[0mbottom_right\u001b[0m\u001b[0;34m,\u001b[0m \u001b[0mtop_left\u001b[0m\u001b[0;34m)\u001b[0m\u001b[0;34m\u001b[0m\u001b[0m\n\u001b[0m\u001b[1;32m     46\u001b[0m     \u001b[0mstate\u001b[0m \u001b[0;34m=\u001b[0m \u001b[0mnp\u001b[0m\u001b[0;34m.\u001b[0m\u001b[0mrandom\u001b[0m\u001b[0;34m.\u001b[0m\u001b[0mchoice\u001b[0m\u001b[0;34m(\u001b[0m\u001b[0mnp\u001b[0m\u001b[0;34m.\u001b[0m\u001b[0marange\u001b[0m\u001b[0;34m(\u001b[0m\u001b[0mnumber_of_states\u001b[0m\u001b[0;34m)\u001b[0m\u001b[0;34m)\u001b[0m\u001b[0;34m\u001b[0m\u001b[0m\n\u001b[1;32m     47\u001b[0m \u001b[0;34m\u001b[0m\u001b[0m\n",
      "\u001b[0;31mNameError\u001b[0m: name 'random_bounded_point' is not defined"
     ]
    }
   ],
   "source": [
    "EPSILON = .0000001\n",
    "total_agents = 400\n",
    "number_of_states = 10  \n",
    "\n",
    "#Simulation start time\n",
    "t1 = time.clock()\n",
    "#Random generator engine from a time-based seed\n",
    "random.seed()\n",
    "\n",
    "#Set parameters\n",
    "\n",
    "arena_size = 1000\n",
    "top_left = np.array([0.0,0.0])\n",
    "bottom_right = np.array([arena_size,arena_size])\n",
    "\n",
    "\n",
    "sight_num = 166  #make even\n",
    "\n",
    "\n",
    "max_turning_rate = 114.5\n",
    "body_size = 4.0\n",
    "zoa = 12.0 * body_size\n",
    "zor = 2.0 * body_size\n",
    "zoo = 12.0 * body_size \n",
    "speed = 10\n",
    "color = [255,135,71]\n",
    "\n",
    "angular_error_sd = 0.0\n",
    "\n",
    "ko = 0.25\n",
    "ka = 0.25\n",
    "\n",
    "\n",
    "agents = []\n",
    "\n",
    "\n",
    "#Simulation starts HERE\n",
    "\n",
    "#Set up agents\n",
    "for indx_agents in range(total_agents):\n",
    "    # needs to be a unit vector\n",
    "    set_direction = np.array([1.0, 0.0])    \n",
    "    set_direction = rotate(set_direction, random.random()*360.0)\n",
    "    set_r_center = random_bounded_point(bottom_right, top_left)\n",
    "    state = np.random.choice(np.arange(number_of_states))\n",
    "\n",
    "\n",
    "    agents.append(Individual(set_r_center, set_direction, max_turning_rate,\n",
    "                             speed, zoa, zoo, zor, angular_error_sd, \n",
    "                             body_size, state, ko, ka))\n",
    "\n",
    "for indx_j in itertools.count():\n",
    "\n",
    "    move_agents(arena_size, zoa, agents)\n",
    "\n",
    "\n",
    "    #draw to screen\n",
    "    if indx_j % 1 == 0:\n",
    "        kill = graphics(arena_size, agents, zoa)\n",
    "\n",
    "    if kill:\n",
    "        close_cv2()\n",
    "        break"
   ]
  },
  {
   "cell_type": "code",
   "execution_count": 1,
   "metadata": {
    "collapsed": true,
    "deletable": true,
    "editable": true
   },
   "outputs": [],
   "source": [
    "test = [[] for _ in range(10)]\n",
    "for indx in range(10):\n",
    "    for indy in range(indx):\n",
    "        test[indx].append([indx,indy])\n",
    "        \n",
    "    "
   ]
  },
  {
   "cell_type": "code",
   "execution_count": 2,
   "metadata": {
    "collapsed": false,
    "deletable": true,
    "editable": true
   },
   "outputs": [
    {
     "name": "stdout",
     "output_type": "stream",
     "text": [
      "[[], [[1, 0]], [[2, 0], [2, 1]], [[3, 0], [3, 1], [3, 2]], [[4, 0], [4, 1], [4, 2], [4, 3]], [[5, 0], [5, 1], [5, 2], [5, 3], [5, 4]], [[6, 0], [6, 1], [6, 2], [6, 3], [6, 4], [6, 5]], [[7, 0], [7, 1], [7, 2], [7, 3], [7, 4], [7, 5], [7, 6]], [[8, 0], [8, 1], [8, 2], [8, 3], [8, 4], [8, 5], [8, 6], [8, 7]], [[9, 0], [9, 1], [9, 2], [9, 3], [9, 4], [9, 5], [9, 6], [9, 7], [9, 8]]]\n"
     ]
    }
   ],
   "source": [
    "print(test)"
   ]
  },
  {
   "cell_type": "code",
   "execution_count": 9,
   "metadata": {
    "collapsed": false,
    "deletable": true,
    "editable": true
   },
   "outputs": [
    {
     "ename": "TypeError",
     "evalue": "The first input argument needs to be a sequence",
     "output_type": "error",
     "traceback": [
      "\u001b[0;31m---------------------------------------------------------------------------\u001b[0m",
      "\u001b[0;31mTypeError\u001b[0m                                 Traceback (most recent call last)",
      "\u001b[0;32m<ipython-input-9-a07b08079f9a>\u001b[0m in \u001b[0;36m<module>\u001b[0;34m()\u001b[0m\n\u001b[1;32m      1\u001b[0m \u001b[0;32mimport\u001b[0m \u001b[0mtorch\u001b[0m\u001b[0;34m\u001b[0m\u001b[0m\n\u001b[1;32m      2\u001b[0m \u001b[0;32mimport\u001b[0m \u001b[0mnumpy\u001b[0m \u001b[0;32mas\u001b[0m \u001b[0mnp\u001b[0m\u001b[0;34m\u001b[0m\u001b[0m\n\u001b[0;32m----> 3\u001b[0;31m \u001b[0mnp_array\u001b[0m \u001b[0;34m=\u001b[0m \u001b[0mnp\u001b[0m\u001b[0;34m.\u001b[0m\u001b[0mconcatenate\u001b[0m\u001b[0;34m(\u001b[0m\u001b[0;34m(\u001b[0m\u001b[0mnp\u001b[0m\u001b[0;34m.\u001b[0m\u001b[0marray\u001b[0m\u001b[0;34m(\u001b[0m\u001b[0mt\u001b[0m\u001b[0;34m)\u001b[0m \u001b[0;32mfor\u001b[0m \u001b[0mt\u001b[0m \u001b[0;32min\u001b[0m \u001b[0mtest\u001b[0m\u001b[0;34m)\u001b[0m\u001b[0;34m)\u001b[0m\u001b[0;34m\u001b[0m\u001b[0m\n\u001b[0m\u001b[1;32m      4\u001b[0m \u001b[0mtorch_np_array\u001b[0m \u001b[0;34m=\u001b[0m \u001b[0mtorch\u001b[0m\u001b[0;34m.\u001b[0m\u001b[0mFloatTensor\u001b[0m\u001b[0;34m(\u001b[0m\u001b[0mnp_array\u001b[0m\u001b[0;34m)\u001b[0m\u001b[0;34m\u001b[0m\u001b[0m\n\u001b[1;32m      5\u001b[0m \u001b[0mtest_array\u001b[0m \u001b[0;34m=\u001b[0m \u001b[0mtorch\u001b[0m\u001b[0;34m.\u001b[0m\u001b[0mcat\u001b[0m\u001b[0;34m(\u001b[0m\u001b[0;34m(\u001b[0m\u001b[0mtorch\u001b[0m\u001b[0;34m.\u001b[0m\u001b[0mFloatTensor\u001b[0m\u001b[0;34m(\u001b[0m\u001b[0mt\u001b[0m\u001b[0;34m)\u001b[0m \u001b[0;32mfor\u001b[0m \u001b[0mt\u001b[0m \u001b[0;32min\u001b[0m \u001b[0mtest\u001b[0m\u001b[0;34m)\u001b[0m\u001b[0;34m)\u001b[0m\u001b[0;34m\u001b[0m\u001b[0m\n",
      "\u001b[0;31mTypeError\u001b[0m: The first input argument needs to be a sequence"
     ]
    }
   ],
   "source": [
    "import torch\n",
    "import numpy as np\n",
    "np_array = np.concatenate((np.array(t) for t in test))\n",
    "torch_np_array = torch.FloatTensor(np_array)\n",
    "test_array = torch.cat((torch.FloatTensor(t) for t in test))\n",
    "print(test_array)\n",
    "print(torch_np_array)"
   ]
  },
  {
   "cell_type": "code",
   "execution_count": 1,
   "metadata": {
    "collapsed": false,
    "deletable": true,
    "editable": true
   },
   "outputs": [
    {
     "name": "stdout",
     "output_type": "stream",
     "text": [
      "16.9633686542511\n",
      "15.817723274230957\n",
      "15.796191453933716\n",
      "15.847870588302612\n",
      "15.786517143249512\n",
      "sum:  16.042334222793578\n"
     ]
    }
   ],
   "source": [
    "import torch\n",
    "import numpy as np\n",
    "import time\n",
    "\n",
    "size = 10000\n",
    "test = [[] for _ in range(size)]\n",
    "for indx in range(size):\n",
    "    for indy in range(400):\n",
    "        test[indx].append([indx,indy])\n",
    "\n",
    "first = False\n",
    "runs = 5\n",
    "time_sum = 0\n",
    "for run in range(runs):\n",
    "    t1 = time.time()\n",
    "    for t in test:\n",
    "        if t:\n",
    "            x = torch.cuda.FloatTensor(t)\n",
    "            #x = torch.FloatTensor(t)\n",
    "            #np_array = x.numpy()\n",
    "            #x = np.array(t)\n",
    "            #print(x.shape)\n",
    "    total = time.time() - t1\n",
    "    print(total)\n",
    "    time_sum += total\n",
    "print('sum: ' , time_sum / runs)\n",
    "    \n"
   ]
  },
  {
   "cell_type": "markdown",
   "metadata": {
    "deletable": true,
    "editable": true
   },
   "source": [
    "10000:\n",
    "torch: 1.2947082757949828"
   ]
  },
  {
   "cell_type": "code",
   "execution_count": 9,
   "metadata": {
    "collapsed": false,
    "deletable": true,
    "editable": true
   },
   "outputs": [
    {
     "name": "stdout",
     "output_type": "stream",
     "text": [
      "11.4 µs ± 46.3 ns per loop (mean ± std. dev. of 7 runs, 100000 loops each)\n"
     ]
    }
   ],
   "source": [
    "%timeit torch.FloatTensor(list(range(150))).cuda()"
   ]
  },
  {
   "cell_type": "code",
   "execution_count": 36,
   "metadata": {
    "collapsed": false,
    "deletable": true,
    "editable": true
   },
   "outputs": [
    {
     "name": "stdout",
     "output_type": "stream",
     "text": [
      "<class 'numpy.ndarray'>\n",
      "[array([ 0.,  0.]), array([ 0.2       ,  0.33333333]), array([ 0.4       ,  0.66666667]), array([ 0.6,  1. ]), array([ 0.8       ,  1.33333333]), array([ 1.        ,  1.66666667]), array([ 1.2,  2. ]), array([ 1.4       ,  2.33333333]), array([ 1.6       ,  2.66666667]), array([ 1.8,  3. ])]\n",
      "\n",
      " 0.0000  0.0000\n",
      " 1.0000  0.5000\n",
      " 2.0000  1.0000\n",
      " 3.0000  1.5000\n",
      " 4.0000  2.0000\n",
      " 5.0000  2.5000\n",
      " 6.0000  3.0000\n",
      " 7.0000  3.5000\n",
      " 8.0000  4.0000\n",
      " 9.0000  4.5000\n",
      " 0.0000  0.0000\n",
      " 0.2000  0.3333\n",
      " 0.4000  0.6667\n",
      " 0.6000  1.0000\n",
      " 0.8000  1.3333\n",
      " 1.0000  1.6667\n",
      " 1.2000  2.0000\n",
      " 1.4000  2.3333\n",
      " 1.6000  2.6667\n",
      " 1.8000  3.0000\n",
      "[torch.FloatTensor of size 20x2]\n",
      "\n",
      "[array([ 0.,  0.]), array([ 0.2       ,  0.33333334]), array([ 0.40000001,  0.66666669]), array([ 0.60000002,  1.        ]), array([ 0.80000001,  1.33333337]), array([ 1.        ,  1.66666663]), array([ 1.20000005,  2.        ]), array([ 1.39999998,  2.33333325]), array([ 1.60000002,  2.66666675]), array([ 1.79999995,  3.        ])]\n"
     ]
    }
   ],
   "source": [
    "import torch\n",
    "\n",
    "original_list_1 = []\n",
    "for i in range(10):\n",
    "    original_list_1.append(np.array([i,i/2]))\n",
    "print(type(original_list_1[0]))\n",
    "original_list_2 = []\n",
    "for i in range(10):\n",
    "    original_list_2.append(np.array([i/5,i/3]))\n",
    "print(original_list_2)\n",
    "tensor = torch.cat([torch.FloatTensor(original_list_1), torch.FloatTensor(original_list_2)])\n",
    "print(tensor)\n",
    "\n",
    "second_list_1 = []\n",
    "for i in range(10):\n",
    "    second_list_1.append(tensor[i].numpy())\n",
    "    \n",
    "second_list_2 = []\n",
    "for i in range(10):\n",
    "    second_list_2.append(tensor[i+10].numpy().astype(dtype='float64'))\n",
    "    \n",
    "    \n",
    "print(second_list_2)"
   ]
  },
  {
   "cell_type": "code",
   "execution_count": 24,
   "metadata": {
    "collapsed": false,
    "deletable": true,
    "editable": true
   },
   "outputs": [
    {
     "name": "stdout",
     "output_type": "stream",
     "text": [
      "False\n"
     ]
    }
   ],
   "source": [
    "bottom = (10%4 == 1)\n",
    "print(bottom)"
   ]
  },
  {
   "cell_type": "code",
   "execution_count": 62,
   "metadata": {
    "collapsed": false,
    "deletable": true,
    "editable": true
   },
   "outputs": [
    {
     "name": "stdout",
     "output_type": "stream",
     "text": [
      "([1, 2, 3, 4, 5, 6], [1, 2, 3, 4, 5, 6])\n",
      "[[1, 2, 3, 4, 5, 6], [1, 2, 3, 4, 5, 6]]\n"
     ]
    }
   ],
   "source": [
    "from operator import itemgetter\n",
    "print(itemgetter(2,5)(test_list))\n",
    "print(test_list[1:3])\n",
    "\n",
    "import torch\n",
    "test = torch.FloatTensor([1,2,3,4,5])\n",
    "test = test.cuda()"
   ]
  },
  {
   "cell_type": "code",
   "execution_count": 59,
   "metadata": {
    "collapsed": false,
    "deletable": true,
    "editable": true
   },
   "outputs": [
    {
     "name": "stdout",
     "output_type": "stream",
     "text": [
      "False True False True\n",
      "[10, 11, 8, 14, 15, 12, 2, 3, 0]\n"
     ]
    }
   ],
   "source": [
    "\n",
    "\n",
    "number_of_cells = 4\n",
    "\n",
    "center_cell = 15\n",
    "\n",
    "total_cells = number_of_cells * (number_of_cells) \n",
    "\n",
    "bottom = (center_cell % number_of_cells == number_of_cells - 1)\n",
    "top = (center_cell % number_of_cells == 0)\n",
    "left = (center_cell < number_of_cells)\n",
    "right = (center_cell >= number_of_cells * (number_of_cells - 1))\n",
    "\n",
    "print(top, bottom, left, right)\n",
    "\n",
    "cells = []\n",
    "\n",
    "for x in range(-1,2):\n",
    "    for y in range(-1,2):\n",
    "        x_adjusted = x\n",
    "        y_adjusted = y\n",
    "        \n",
    "        if bottom and y == 1:\n",
    "            x_adjusted -= 1\n",
    "        if top and y == -1:\n",
    "            x_adjusted += 1\n",
    "            \n",
    "        cell = center_cell + x_adjusted * number_of_cells + y_adjusted\n",
    "        \n",
    "        if right and x == 1:\n",
    "            cell -= total_cells\n",
    "        if left and x == -1:\n",
    "            cell += total_cells\n",
    "        cells.append(cell)\n",
    "print(cells)"
   ]
  },
  {
   "cell_type": "code",
   "execution_count": null,
   "metadata": {
    "collapsed": true,
    "deletable": true,
    "editable": true
   },
   "outputs": [],
   "source": [
    "    # Part 2: Compute interactions\n",
    "    for cell_x  in range(number_of_cells):\n",
    "        for cell_y in range(number_of_cells):\n",
    "           \n",
    "            cell_id = cell_x * number_of_cells + cell_y\n",
    "            if cell_to_agents_list[cell_id] != -1:\n",
    "\n",
    "                for neighbor_x in range(cell_x - 1, cell_x + 2):\n",
    "                    for neighbor_y in range(cell_y - 1, cell_y + 2):\n",
    "                    \n",
    "                        periodic_adjusted_x = neighbor_x;\n",
    "                        periodic_adjusted_y = neighbor_y;\n",
    "                        \n",
    "                        if neighbor_x < 0:\n",
    "                            periodic_adjusted_x += number_of_cells \n",
    "                        elif neighbor_x >= number_of_cells:\n",
    "                            periodic_adjusted_x -= number_of_cells\n",
    "                        \n",
    "                        if neighbor_y < 0:\n",
    "                            periodic_adjusted_y += number_of_cells\n",
    "                        elif neighbor_y >=number_of_cells:\n",
    "                            periodic_adjusted_y -= number_of_cells\n",
    "                        \n",
    "                        neighbor_cell_id = periodic_adjusted_x * number_of_cells + periodic_adjusted_y\n",
    "                        \n",
    "                        focal_agent_id = cell_to_agents_list[cell_id]\n",
    "                        \n",
    "                        while focal_agent_id != -1:\n",
    "                            neighbor_agent_id = cell_to_agents_list[neighbor_cell_id]\n",
    "                            \n",
    "                            while neighbor_agent_id != -1:\n",
    "                                if focal_agent_id != neighbor_agent_id:\n",
    "                                    compute_social_forces(\n",
    "                                        int(focal_agent_id), int(neighbor_agent_id), agents, arena_size)     \n",
    "                                neighbor_agent_id = agents_to_agents_list[neighbor_agent_id]\n",
    "                            focal_agent_id = agents_to_agents_list[focal_agent_id];"
   ]
  },
  {
   "cell_type": "code",
   "execution_count": 43,
   "metadata": {
    "collapsed": true,
    "deletable": true,
    "editable": true
   },
   "outputs": [],
   "source": [
    "test = torch.cuda.FloatTensor()"
   ]
  },
  {
   "cell_type": "code",
   "execution_count": 44,
   "metadata": {
    "collapsed": false,
    "deletable": true,
    "editable": true
   },
   "outputs": [
    {
     "data": {
      "text/plain": [
       "[torch.cuda.FloatTensor with no dimension]"
      ]
     },
     "execution_count": 44,
     "metadata": {},
     "output_type": "execute_result"
    }
   ],
   "source": [
    "test"
   ]
  },
  {
   "cell_type": "code",
   "execution_count": 45,
   "metadata": {
    "collapsed": false,
    "deletable": true,
    "editable": true
   },
   "outputs": [
    {
     "data": {
      "text/plain": [
       "torch.Size([])"
      ]
     },
     "execution_count": 45,
     "metadata": {},
     "output_type": "execute_result"
    }
   ],
   "source": [
    "test.size()"
   ]
  },
  {
   "cell_type": "code",
   "execution_count": 46,
   "metadata": {
    "collapsed": false,
    "deletable": true,
    "editable": true
   },
   "outputs": [
    {
     "name": "stdout",
     "output_type": "stream",
     "text": [
      "Herer\n"
     ]
    }
   ],
   "source": [
    "if test.size():\n",
    "    print('here')\n",
    "else:\n",
    "    print('Herer')"
   ]
  },
  {
   "cell_type": "code",
   "execution_count": 20,
   "metadata": {
    "collapsed": false,
    "deletable": true,
    "editable": true
   },
   "outputs": [
    {
     "data": {
      "text/plain": [
       "[1,\n",
       " 101,\n",
       " 201,\n",
       " 301,\n",
       " 401,\n",
       " 501,\n",
       " 601,\n",
       " 701,\n",
       " 801,\n",
       " 901,\n",
       " 1001,\n",
       " 1101,\n",
       " 1201,\n",
       " 1301,\n",
       " 1401,\n",
       " 1501,\n",
       " 1601,\n",
       " 1701,\n",
       " 1801,\n",
       " 1901]"
      ]
     },
     "execution_count": 20,
     "metadata": {},
     "output_type": "execute_result"
    }
   ],
   "source": [
    "list(range(1,2100, 100))"
   ]
  },
  {
   "cell_type": "code",
   "execution_count": 2,
   "metadata": {
    "collapsed": false,
    "deletable": true,
    "editable": true
   },
   "outputs": [],
   "source": [
    "import kogers_colors"
   ]
  },
  {
   "cell_type": "code",
   "execution_count": 4,
   "metadata": {
    "collapsed": false,
    "deletable": true,
    "editable": true
   },
   "outputs": [
    {
     "ename": "AttributeError",
     "evalue": "module 'kogers_colors' has no attribute 'Colors'",
     "output_type": "error",
     "traceback": [
      "\u001b[0;31m----------------------------------------------------------------------\u001b[0m",
      "\u001b[0;31mAttributeError\u001b[0m                       Traceback (most recent call last)",
      "\u001b[0;32m<ipython-input-4-5370d16cc7a2>\u001b[0m in \u001b[0;36m<module>\u001b[0;34m()\u001b[0m\n\u001b[0;32m----> 1\u001b[0;31m \u001b[0mkogers_colors\u001b[0m\u001b[0;34m.\u001b[0m\u001b[0mColors\u001b[0m\u001b[0;34m(\u001b[0m\u001b[0;34m)\u001b[0m\u001b[0;34m\u001b[0m\u001b[0m\n\u001b[0m",
      "\u001b[0;31mAttributeError\u001b[0m: module 'kogers_colors' has no attribute 'Colors'"
     ]
    }
   ],
   "source": [
    "kogers_colors.Colors()"
   ]
  },
  {
   "cell_type": "code",
   "execution_count": 6,
   "metadata": {
    "collapsed": false,
    "deletable": true,
    "editable": true
   },
   "outputs": [
    {
     "name": "stdout",
     "output_type": "stream",
     "text": [
      "1:  0.015626907348632812\n",
      "2:  0.010530948638916016\n",
      "1:  0.008996009826660156\n",
      "2:  0.005769014358520508\n",
      "1:  0.011281013488769531\n",
      "2:  0.0070879459381103516\n",
      "1:  0.008906126022338867\n",
      "2:  0.006660938262939453\n",
      "1:  0.008717060089111328\n",
      "2:  0.0064220428466796875\n",
      "1:  0.008951187133789062\n",
      "2:  0.006020069122314453\n",
      "1:  0.008910179138183594\n",
      "2:  0.006112098693847656\n",
      "1:  0.008682966232299805\n",
      "2:  0.007230997085571289\n",
      "1:  0.009557008743286133\n",
      "2:  0.007122993469238281\n",
      "1:  0.009327888488769531\n",
      "2:  0.006536006927490234\n",
      "1:  0.009304046630859375\n",
      "2:  0.0063991546630859375\n",
      "1:  0.009705066680908203\n",
      "2:  0.00633692741394043\n",
      "1:  0.009421110153198242\n",
      "2:  0.006706953048706055\n",
      "1:  0.008504152297973633\n",
      "2:  0.006105899810791016\n",
      "1:  0.008966922760009766\n",
      "2:  0.00613093376159668\n",
      "1:  0.008933782577514648\n",
      "2:  0.006200075149536133\n",
      "1:  0.008679866790771484\n",
      "2:  0.0057599544525146484\n",
      "1:  0.008912086486816406\n",
      "2:  0.006822109222412109\n",
      "1:  0.008798837661743164\n",
      "2:  0.006639003753662109\n",
      "1:  0.009093999862670898\n",
      "2:  0.006999015808105469\n",
      "1:  0.00888681411743164\n",
      "2:  0.006078958511352539\n",
      "1:  0.008857011795043945\n",
      "2:  0.0058441162109375\n",
      "1:  0.009009838104248047\n",
      "2:  0.007460117340087891\n",
      "1:  0.008893966674804688\n",
      "2:  0.0061779022216796875\n",
      "1:  0.008677005767822266\n",
      "2:  0.005951881408691406\n",
      "1:  0.01001119613647461\n",
      "2:  0.0065059661865234375\n",
      "1:  0.009112119674682617\n",
      "2:  0.006158113479614258\n",
      "1:  0.009173870086669922\n",
      "2:  0.007966995239257812\n",
      "1:  0.009267807006835938\n",
      "2:  0.00631403923034668\n",
      "1:  0.008989095687866211\n",
      "2:  0.006040096282958984\n",
      "1:  0.008209943771362305\n",
      "2:  0.0063741207122802734\n",
      "1:  0.010330915451049805\n",
      "2:  0.00716090202331543\n",
      "1:  0.009300947189331055\n",
      "2:  0.006079912185668945\n",
      "1:  0.011487960815429688\n",
      "2:  0.0066068172454833984\n",
      "1:  0.010282039642333984\n",
      "2:  0.006736040115356445\n",
      "1:  0.009116888046264648\n",
      "2:  0.0064029693603515625\n",
      "1:  0.008767127990722656\n",
      "2:  0.006428956985473633\n",
      "1:  0.008805036544799805\n",
      "2:  0.00881814956665039\n",
      "1:  0.008777141571044922\n",
      "2:  0.006576061248779297\n",
      "1:  0.00909113883972168\n",
      "2:  0.006382942199707031\n",
      "1:  0.009758949279785156\n",
      "2:  0.006377220153808594\n",
      "1:  0.010415077209472656\n",
      "2:  0.006269931793212891\n",
      "1:  0.00835108757019043\n",
      "2:  0.00662684440612793\n",
      "1:  0.008774042129516602\n",
      "2:  0.006598949432373047\n",
      "1:  0.00928187370300293\n",
      "2:  0.006150960922241211\n",
      "1:  0.008970022201538086\n",
      "2:  0.006448984146118164\n",
      "1:  0.00945901870727539\n",
      "2:  0.006245851516723633\n",
      "1:  0.009490966796875\n",
      "2:  0.00579380989074707\n",
      "1:  0.010394811630249023\n",
      "2:  0.006491899490356445\n",
      "1:  0.00914907455444336\n",
      "2:  0.007025003433227539\n",
      "1:  0.009321928024291992\n",
      "2:  0.007428884506225586\n",
      "1:  0.009071111679077148\n",
      "2:  0.006549835205078125\n",
      "1:  0.009391069412231445\n",
      "2:  0.005928993225097656\n",
      "1:  0.009084939956665039\n",
      "2:  0.006281137466430664\n",
      "1:  0.009137153625488281\n",
      "2:  0.006360054016113281\n",
      "1:  0.009120941162109375\n",
      "2:  0.006501913070678711\n",
      "1:  0.008768081665039062\n",
      "2:  0.0055730342864990234\n",
      "1:  0.008681058883666992\n",
      "2:  0.006712198257446289\n",
      "1:  0.008891105651855469\n",
      "2:  0.0059299468994140625\n",
      "1:  0.009072065353393555\n",
      "2:  0.006134986877441406\n",
      "1:  0.009490966796875\n",
      "2:  0.006840944290161133\n",
      "1:  0.009566068649291992\n",
      "2:  0.00622105598449707\n",
      "1:  0.009203910827636719\n",
      "2:  0.006075143814086914\n",
      "1:  0.011193990707397461\n",
      "2:  0.00596308708190918\n",
      "1:  0.008980035781860352\n",
      "2:  0.006078004837036133\n",
      "1:  0.008629083633422852\n",
      "2:  0.007441043853759766\n",
      "1:  0.009690046310424805\n",
      "2:  0.006168842315673828\n",
      "1:  0.010087013244628906\n",
      "2:  0.0060999393463134766\n",
      "1:  0.00884103775024414\n",
      "2:  0.0069239139556884766\n",
      "1:  0.00929117202758789\n",
      "2:  0.0062580108642578125\n",
      "1:  0.008712053298950195\n",
      "2:  0.006078958511352539\n",
      "1:  0.009212017059326172\n",
      "2:  0.006148815155029297\n",
      "1:  0.010081052780151367\n",
      "2:  0.006742000579833984\n",
      "1:  0.010473012924194336\n",
      "2:  0.007339000701904297\n",
      "1:  0.010265111923217773\n",
      "2:  0.00722503662109375\n",
      "1:  0.008978843688964844\n",
      "2:  0.0060460567474365234\n",
      "1:  0.008604049682617188\n",
      "2:  0.006439924240112305\n",
      "1:  0.009819984436035156\n",
      "2:  0.006455898284912109\n",
      "1:  0.008362054824829102\n",
      "2:  0.007012844085693359\n",
      "1:  0.010378122329711914\n",
      "2:  0.007630109786987305\n",
      "1:  0.008546113967895508\n",
      "2:  0.005752086639404297\n",
      "1:  0.009076118469238281\n",
      "2:  0.0066890716552734375\n",
      "1:  0.010063886642456055\n",
      "2:  0.0065839290618896484\n",
      "1:  0.009016036987304688\n",
      "2:  0.0062160491943359375\n",
      "1:  0.009059906005859375\n",
      "2:  0.0063250064849853516\n",
      "1:  0.009356021881103516\n",
      "2:  0.006618022918701172\n",
      "1:  0.009166955947875977\n",
      "2:  0.006247997283935547\n",
      "1:  0.00871896743774414\n",
      "2:  0.0063359737396240234\n",
      "1:  0.010483980178833008\n",
      "2:  0.007313966751098633\n",
      "1:  0.009374856948852539\n",
      "2:  0.007050991058349609\n",
      "1:  0.008734941482543945\n",
      "2:  0.0062389373779296875\n",
      "1:  0.011681079864501953\n",
      "2:  0.006844043731689453\n",
      "1:  0.009165048599243164\n",
      "2:  0.006510019302368164\n",
      "1:  0.008781194686889648\n",
      "2:  0.006561994552612305\n",
      "1:  0.009305000305175781\n",
      "2:  0.007025957107543945\n",
      "1:  0.009531974792480469\n",
      "2:  0.006211042404174805\n",
      "1:  0.008812904357910156\n",
      "2:  0.006490945816040039\n",
      "1:  0.008857011795043945\n",
      "2:  0.007019996643066406\n",
      "1:  0.009157896041870117\n",
      "2:  0.00693202018737793\n",
      "1:  0.010138988494873047\n",
      "2:  0.006165981292724609\n",
      "1:  0.011313915252685547\n",
      "2:  0.0066950321197509766\n",
      "1:  0.0089569091796875\n",
      "2:  0.006829023361206055\n",
      "1:  0.008769035339355469\n",
      "2:  0.006351947784423828\n",
      "1:  0.011679887771606445\n",
      "2:  0.006576061248779297\n",
      "1:  0.008683919906616211\n",
      "2:  0.007267951965332031\n",
      "1:  0.009562969207763672\n",
      "2:  0.006990909576416016\n",
      "1:  0.011986017227172852\n",
      "2:  0.006760120391845703\n",
      "1:  0.008652925491333008\n",
      "2:  0.0064890384674072266\n",
      "1:  0.009607076644897461\n",
      "2:  0.006943941116333008\n",
      "1:  0.008919954299926758\n",
      "2:  0.006502866744995117\n",
      "1:  0.009214162826538086\n",
      "2:  0.006448984146118164\n",
      "1:  0.009098052978515625\n",
      "2:  0.006757020950317383\n",
      "1:  0.008586883544921875\n",
      "2:  0.00625300407409668\n",
      "1:  0.009228944778442383\n",
      "2:  0.00620579719543457\n",
      "1:  0.010746955871582031\n",
      "2:  0.007049083709716797\n",
      "1:  0.008688926696777344\n",
      "2:  0.0064830780029296875\n",
      "1:  0.00881505012512207\n",
      "2:  0.0067288875579833984\n",
      "1:  0.008632898330688477\n",
      "2:  0.0061261653900146484\n",
      "1:  0.010083913803100586\n",
      "2:  0.007169008255004883\n",
      "1:  0.009284019470214844\n",
      "2:  0.006342887878417969\n",
      "1:  0.008485078811645508\n",
      "2:  0.006063938140869141\n",
      "1:  0.009042978286743164\n",
      "2:  0.006140947341918945\n",
      "1:  0.009507894515991211\n",
      "2:  0.006297111511230469\n",
      "1:  0.008744001388549805\n",
      "2:  0.006356954574584961\n",
      "1:  0.009241104125976562\n",
      "2:  0.0072841644287109375\n",
      "1:  0.00927114486694336\n",
      "2:  0.006148099899291992\n",
      "1:  0.010716915130615234\n",
      "2:  0.006857872009277344\n",
      "1:  0.009595155715942383\n",
      "2:  0.00659489631652832\n",
      "1:  0.009449958801269531\n",
      "2:  0.006224870681762695\n",
      "1:  0.009353160858154297\n",
      "2:  0.006400108337402344\n",
      "1:  0.009435892105102539\n",
      "2:  0.00609588623046875\n",
      "1:  0.009098052978515625\n",
      "2:  0.006192922592163086\n",
      "1:  0.009443998336791992\n",
      "2:  0.006434917449951172\n",
      "1:  0.009368896484375\n",
      "2:  0.006613016128540039\n",
      "1:  0.00884103775024414\n",
      "2:  0.006356000900268555\n",
      "1:  0.008764982223510742\n",
      "2:  0.006367921829223633\n",
      "1:  0.009572982788085938\n",
      "2:  0.006488800048828125\n",
      "1:  0.009680986404418945\n",
      "2:  0.006082057952880859\n",
      "1:  0.008745908737182617\n",
      "2:  0.00638580322265625\n",
      "1:  0.010543107986450195\n",
      "2:  0.0058858394622802734\n",
      "1:  0.009162187576293945\n",
      "2:  0.006475925445556641\n",
      "1:  0.009773969650268555\n",
      "2:  0.006747007369995117\n",
      "1:  0.009806156158447266\n",
      "2:  0.006900787353515625\n",
      "1:  0.009010076522827148\n",
      "2:  0.006735086441040039\n",
      "1:  0.009679079055786133\n",
      "2:  0.0060808658599853516\n",
      "1:  0.008987188339233398\n",
      "2:  0.006376028060913086\n",
      "1:  0.009266138076782227\n",
      "2:  0.0066869258880615234\n",
      "1:  0.009068965911865234\n",
      "2:  0.006101131439208984\n",
      "1:  0.009413957595825195\n",
      "2:  0.006351947784423828\n",
      "1:  0.010157108306884766\n",
      "2:  0.006390810012817383\n",
      "1:  0.008641958236694336\n",
      "2:  0.006932973861694336\n",
      "1:  0.009270191192626953\n",
      "2:  0.006219148635864258\n",
      "1:  0.009526968002319336\n",
      "2:  0.00633692741394043\n",
      "1:  0.011354923248291016\n",
      "2:  0.006420135498046875\n",
      "1:  0.008931875228881836\n",
      "2:  0.0065460205078125\n",
      "1:  0.008882999420166016\n",
      "2:  0.006803035736083984\n",
      "1:  0.009449005126953125\n",
      "2:  0.0064809322357177734\n",
      "1:  0.008918046951293945\n",
      "2:  0.006281137466430664\n",
      "1:  0.008821964263916016\n",
      "2:  0.006752967834472656\n",
      "1:  0.010421037673950195\n",
      "2:  0.006762027740478516\n",
      "1:  0.010066986083984375\n",
      "2:  0.005987882614135742\n",
      "1:  0.009279966354370117\n",
      "2:  0.005980968475341797\n",
      "1:  0.008722066879272461\n",
      "2:  0.006706953048706055\n",
      "1:  0.008543968200683594\n",
      "2:  0.006161928176879883\n",
      "1:  0.00953984260559082\n",
      "2:  0.006448984146118164\n",
      "1:  0.009951114654541016\n",
      "2:  0.006551027297973633\n",
      "1:  0.00922703742980957\n",
      "2:  0.006287097930908203\n",
      "1:  0.009306192398071289\n",
      "2:  0.006247997283935547\n",
      "1:  0.009185791015625\n",
      "2:  0.00602412223815918\n",
      "1:  0.008745908737182617\n",
      "2:  0.006721973419189453\n",
      "1:  0.00919198989868164\n",
      "2:  0.006299018859863281\n",
      "1:  0.009594202041625977\n",
      "2:  0.005681037902832031\n",
      "1:  0.009629964828491211\n",
      "2:  0.006242990493774414\n",
      "1:  0.009224891662597656\n",
      "2:  0.005795001983642578\n",
      "1:  0.009099960327148438\n",
      "2:  0.006860971450805664\n",
      "1:  0.009409904479980469\n",
      "2:  0.006407022476196289\n",
      "1:  0.009233951568603516\n",
      "2:  0.006240129470825195\n",
      "1:  0.008847951889038086\n",
      "2:  0.006702899932861328\n",
      "1:  0.008845090866088867\n",
      "2:  0.006004810333251953\n",
      "1:  0.00905299186706543\n",
      "2:  0.006700038909912109\n",
      "1:  0.009235858917236328\n",
      "2:  0.006247043609619141\n",
      "1:  0.009208917617797852\n",
      "2:  0.0065000057220458984\n",
      "1:  0.009303092956542969\n",
      "2:  0.006440877914428711\n",
      "1:  0.01028299331665039\n",
      "2:  0.006485939025878906\n",
      "1:  0.010020017623901367\n",
      "2:  0.006612062454223633\n",
      "1:  0.009132862091064453\n",
      "2:  0.006419181823730469\n",
      "1:  0.009760141372680664\n",
      "2:  0.0061419010162353516\n",
      "1:  0.010044097900390625\n",
      "2:  0.005958080291748047\n",
      "1:  0.009211063385009766\n",
      "2:  0.006353139877319336\n",
      "1:  0.010396957397460938\n",
      "2:  0.006600141525268555\n",
      "1:  0.010194778442382812\n",
      "2:  0.005637168884277344\n",
      "1:  0.009766101837158203\n",
      "2:  0.006428956985473633\n",
      "1:  0.008977174758911133\n",
      "2:  0.0065441131591796875\n",
      "1:  0.00902700424194336\n",
      "2:  0.006226062774658203\n",
      "1:  0.00967717170715332\n",
      "2:  0.0066068172454833984\n",
      "1:  0.010269880294799805\n",
      "2:  0.005497932434082031\n",
      "1:  0.009035825729370117\n",
      "2:  0.0058040618896484375\n",
      "1:  0.00884699821472168\n",
      "2:  0.006985902786254883\n",
      "1:  0.008740901947021484\n",
      "2:  0.006251096725463867\n",
      "1:  0.008842945098876953\n",
      "2:  0.0060749053955078125\n"
     ]
    }
   ],
   "source": [
    "body_scale = 3\n",
    "arena_size = 1000\n",
    "num_agents = 500\n",
    "colors = [kc.red(), kc.ivory()]\n",
    "\n",
    "for frame in range(200):\n",
    "    visualization = (np.ones((arena_size, arena_size, 3), np.uint8) *\n",
    "                     kc.blueberry_slate('np.uint8'))\n",
    "\n",
    "    # for i in range(len(self.agents)):\n",
    "    #     color = colors[int(self.agents[i].state)]\n",
    "    #     position = tuple(self.agents[i].r_center.astype(int))\n",
    "    #     scaled_body_size = self.agents[i].body_size * body_scale\n",
    "\n",
    "    #     cv2.circle(visualization, position, \n",
    "    #                int(scaled_body_size), \n",
    "    #                color, -1, cv2.LINE_AA)\n",
    "\n",
    "    #     cv2.line(visualization, position, \n",
    "    #              tuple((position - self.agents[i].direction * 3 *\n",
    "    #                   scaled_body_size).astype(int)), \n",
    "    #              color, 1, cv2.LINE_AA)\n",
    "\n",
    "    t = time.time()\n",
    "    for i in range(num_agents):\n",
    "        color = colors[0]\n",
    "        position = np.random.randint(0, arena_size, 2)\n",
    "        direction = np.random.randint(0, 1, 2)\n",
    "        scaled_body_size = body_scale\n",
    "\n",
    "        #print(position)\n",
    "        cv2.circle(visualization, tuple(position), \n",
    "                   int(scaled_body_size), \n",
    "                   color, -1, cv2.LINE_AA)\n",
    "\n",
    "        cv2.line(visualization, tuple(position), \n",
    "                 tuple((position - direction * 3 *\n",
    "                      scaled_body_size).astype(int)), \n",
    "                 color, 1, cv2.LINE_AA)\n",
    "    \n",
    "    \n",
    "    print('1: ', time.time() - t) \n",
    "    t = time.time()\n",
    "    visualization = cv2.cvtColor(visualization, cv2.COLOR_BGR2RGB)\n",
    "    \n",
    "    cv2.imshow(\"decision_making\", visualization)\n",
    "    print('2: ', time.time() - t)\n",
    "\n",
    "    cv2.waitKey(1)\n",
    "    \n",
    "close_cv2()"
   ]
  },
  {
   "cell_type": "code",
   "execution_count": 89,
   "metadata": {
    "collapsed": false,
    "deletable": true,
    "editable": true
   },
   "outputs": [
    {
     "name": "stdout",
     "output_type": "stream",
     "text": [
      "\n",
      "    0     0     0     0     0     0     0     0     0     0\n",
      "    0     1     2     3     4     5     6     7     8     9\n",
      "    0     2     4     6     8    10    12    14    16    18\n",
      "    0     3     6     9    12    15    18    21    24    27\n",
      "    0     4     8    12    16    20    24    28    32    36\n",
      "    0     5    10    15    20    25    30    35    40    45\n",
      "    0     6    12    18    24    30    36    42    48    54\n",
      "    0     7    14    21    28    35    42    49    56    63\n",
      "    0     8    16    24    32    40    48    56    64    72\n",
      "    0     9    18    27    36    45    54    63    72    81\n",
      "[torch.FloatTensor of size 10x10]\n",
      "\n"
     ]
    }
   ],
   "source": [
    "x = torch.zeros((10,10))\n",
    "for i in range(x.size()[0]):\n",
    "    for j in range(x.size()[1]):\n",
    "        x[i, j] = i*j\n",
    "print(x)"
   ]
  },
  {
   "cell_type": "code",
   "execution_count": 90,
   "metadata": {
    "collapsed": false,
    "deletable": true,
    "editable": true
   },
   "outputs": [],
   "source": [
    "c, x_max = torch.max(x, 1)"
   ]
  },
  {
   "cell_type": "code",
   "execution_count": 91,
   "metadata": {
    "collapsed": false,
    "deletable": true,
    "editable": true
   },
   "outputs": [
    {
     "name": "stdout",
     "output_type": "stream",
     "text": [
      "\n",
      " 0\n",
      " 9\n",
      " 9\n",
      " 9\n",
      " 9\n",
      " 9\n",
      " 9\n",
      " 9\n",
      " 9\n",
      " 9\n",
      "[torch.LongTensor of size 10]\n",
      "\n",
      "\n",
      "  0\n",
      "  9\n",
      " 18\n",
      " 27\n",
      " 36\n",
      " 45\n",
      " 54\n",
      " 63\n",
      " 72\n",
      " 81\n",
      "[torch.FloatTensor of size 10]\n",
      "\n"
     ]
    }
   ],
   "source": [
    "print(x_max)\n",
    "print(c)"
   ]
  },
  {
   "cell_type": "code",
   "execution_count": 25,
   "metadata": {
    "collapsed": false,
    "deletable": true,
    "editable": true
   },
   "outputs": [],
   "source": [
    "num_states = 2\n",
    "x1 = torch.ones(5,3)\n",
    "x1[2,2] = 0\n",
    "x1 = torch.unsqueeze(x1, 2)\n",
    "x1 = x1.repeat(1, 1, num_states)\n",
    "x2 = torch.arange(0,num_states)\n",
    "\n",
    "result = torch.eq(x1, x2)\n"
   ]
  },
  {
   "cell_type": "code",
   "execution_count": 29,
   "metadata": {
    "collapsed": false,
    "deletable": true,
    "editable": true
   },
   "outputs": [
    {
     "name": "stdout",
     "output_type": "stream",
     "text": [
      "\n",
      "(0 ,.,.) = \n",
      "  0  1\n",
      "  0  1\n",
      "  0  1\n",
      "\n",
      "(1 ,.,.) = \n",
      "  0  1\n",
      "  0  1\n",
      "  0  1\n",
      "\n",
      "(2 ,.,.) = \n",
      "  0  1\n",
      "  0  1\n",
      "  1  0\n",
      "\n",
      "(3 ,.,.) = \n",
      "  0  1\n",
      "  0  1\n",
      "  0  1\n",
      "\n",
      "(4 ,.,.) = \n",
      "  0  1\n",
      "  0  1\n",
      "  0  1\n",
      "[torch.ByteTensor of size 5x3x2]\n",
      "\n",
      "\n",
      " 0  5\n",
      " 0  5\n",
      " 1  4\n",
      "[torch.ByteTensor of size 3x2]\n",
      "\n",
      "\n",
      " 1\n",
      " 1\n",
      " 1\n",
      "[torch.LongTensor of size 3]\n",
      "\n"
     ]
    }
   ],
   "source": [
    "print(result)\n",
    "y = torch.sum(result, 0) \n",
    "print(y)\n",
    "_, test = torch.max(y, 1)\n",
    "print(test)"
   ]
  },
  {
   "cell_type": "code",
   "execution_count": 23,
   "metadata": {
    "collapsed": false,
    "deletable": true,
    "editable": true
   },
   "outputs": [
    {
     "name": "stdout",
     "output_type": "stream",
     "text": [
      "torch.Size([5, 3]) torch.Size([5, 3])\n",
      "\n",
      " 0\n",
      " 0\n",
      " 0\n",
      " 1\n",
      " 2\n",
      " 2\n",
      " 2\n",
      " 3\n",
      " 4\n",
      " 4\n",
      " 4\n",
      "[torch.LongTensor of size 11]\n",
      "\n"
     ]
    },
    {
     "ename": "IndexError",
     "evalue": "trying to index 2 dimensions of a 1 dimensional tensor",
     "output_type": "error",
     "traceback": [
      "\u001b[0;31m----------------------------------------------------------------------\u001b[0m",
      "\u001b[0;31mIndexError\u001b[0m                           Traceback (most recent call last)",
      "\u001b[0;32m<ipython-input-23-f791df559c42>\u001b[0m in \u001b[0;36m<module>\u001b[0;34m()\u001b[0m\n\u001b[1;32m     21\u001b[0m \u001b[0mpossible_states\u001b[0m \u001b[0;34m=\u001b[0m \u001b[0mtorch\u001b[0m\u001b[0;34m.\u001b[0m\u001b[0mnonzero\u001b[0m\u001b[0;34m(\u001b[0m\u001b[0mmask\u001b[0m \u001b[0;34m*\u001b[0m \u001b[0mstates\u001b[0m\u001b[0;34m)\u001b[0m\u001b[0;34m\u001b[0m\u001b[0m\n\u001b[1;32m     22\u001b[0m \u001b[0mprint\u001b[0m\u001b[0;34m(\u001b[0m\u001b[0mpossible_states\u001b[0m\u001b[0;34m[\u001b[0m\u001b[0;34m:\u001b[0m\u001b[0;34m,\u001b[0m\u001b[0;36m0\u001b[0m\u001b[0;34m]\u001b[0m\u001b[0;34m)\u001b[0m\u001b[0;34m\u001b[0m\u001b[0m\n\u001b[0;32m---> 23\u001b[0;31m \u001b[0mpossible\u001b[0m \u001b[0;34m=\u001b[0m \u001b[0mstates\u001b[0m\u001b[0;34m[\u001b[0m\u001b[0mpossible_states\u001b[0m\u001b[0;34m[\u001b[0m\u001b[0;34m:\u001b[0m\u001b[0;34m,\u001b[0m\u001b[0;36m0\u001b[0m\u001b[0;34m]\u001b[0m\u001b[0;34m,\u001b[0m \u001b[0mpossible_states\u001b[0m\u001b[0;34m[\u001b[0m\u001b[0;34m:\u001b[0m\u001b[0;34m,\u001b[0m\u001b[0;36m1\u001b[0m\u001b[0;34m]\u001b[0m\u001b[0;34m]\u001b[0m\u001b[0;34m\u001b[0m\u001b[0m\n\u001b[0m\u001b[1;32m     24\u001b[0m \u001b[0mstate_ind\u001b[0m \u001b[0;34m=\u001b[0m \u001b[0mmask_cumsum\u001b[0m \u001b[0;34m-\u001b[0m \u001b[0mrand_ind\u001b[0m\u001b[0;34m\u001b[0m\u001b[0m\n\u001b[1;32m     25\u001b[0m \u001b[0;31m# print(t)\u001b[0m\u001b[0;34m\u001b[0m\u001b[0;34m\u001b[0m\u001b[0m\n",
      "\u001b[0;31mIndexError\u001b[0m: trying to index 2 dimensions of a 1 dimensional tensor"
     ]
    }
   ],
   "source": [
    "t = torch.ones((5,3))\n",
    "t[1,1] = 3\n",
    "t[1,0] = 0\n",
    "t[3,0] = 4\n",
    "\n",
    "\n",
    "states = torch.arange(1, t.size()[1] + 1)\n",
    "# states = torch.unsqueeze(states, 0)\n",
    "# states = states.repeat(t.size()[0], 1)\n",
    "\n",
    "t_max, _ = torch.max(t, 1)\n",
    "t_max = torch.unsqueeze(t_max, 1)\n",
    "t_max = t_max.repeat(1,t.size()[1])\n",
    "print(t.size(), t_max.size())\n",
    "mask = (t==t_max).type(torch.FloatTensor)\n",
    "mask_sum = torch.sum(mask, 1)\n",
    "mask_cumsum = torch.cumsum(mask_sum, 0)\n",
    "rand = torch.rand(t.size()[0])\n",
    "rand_ind = (mask_sum * rand).type(torch.FloatTensor)\n",
    "\n",
    "possible_states = torch.nonzero(mask * states)\n",
    "print(possible_states[:,0])\n",
    "possible = states[possible_states[:,0], possible_states[:,1]]\n",
    "state_ind = mask_cumsum - rand_ind\n",
    "# print(t)\n",
    "# print(t_max)\n",
    "# print(t==t_max)\n",
    "# print(mask * t)\n",
    "print(possible)\n",
    "print(mask_cumsum)\n",
    "print(rand_ind)\n",
    "print(state_ind)\n",
    "print(possible[state_ind.type(torch.LongTensor)])\n"
   ]
  },
  {
   "cell_type": "markdown",
   "metadata": {
    "deletable": true,
    "editable": true
   },
   "source": [
    "#### r = torch.rand(10)"
   ]
  },
  {
   "cell_type": "code",
   "execution_count": 88,
   "metadata": {
    "collapsed": false,
    "deletable": true,
    "editable": true
   },
   "outputs": [
    {
     "data": {
      "text/plain": [
       "\n",
       " 0.5143\n",
       " 0.5374\n",
       " 0.9312\n",
       " 0.9167\n",
       " 0.6380\n",
       " 0.8383\n",
       " 0.9238\n",
       " 0.9369\n",
       " 0.6605\n",
       " 0.8678\n",
       "[torch.FloatTensor of size 10]"
      ]
     },
     "execution_count": 88,
     "metadata": {},
     "output_type": "execute_result"
    }
   ],
   "source": [
    "r"
   ]
  },
  {
   "cell_type": "code",
   "execution_count": 12,
   "metadata": {
    "collapsed": false,
    "deletable": true,
    "editable": true
   },
   "outputs": [],
   "source": [
    "test = [[1,2,3,4,5] for _ in range(10)]"
   ]
  },
  {
   "cell_type": "code",
   "execution_count": 16,
   "metadata": {
    "collapsed": false,
    "deletable": true,
    "editable": true
   },
   "outputs": [
    {
     "data": {
      "image/png": "[encoded data removed]",
      "text/plain": [
       "<matplotlib.figure.Figure at 0x11d39f438>"
      ]
     },
     "metadata": {},
     "output_type": "display_data"
    }
   ],
   "source": [
    "merged = list(itertools.chain(*test))\n",
    "plt.hist(merged)\n",
    "plt.show()"
   ]
  },
  {
   "cell_type": "code",
   "execution_count": 103,
   "metadata": {
    "collapsed": false,
    "deletable": true,
    "editable": true
   },
   "outputs": [],
   "source": [
    "\n",
    "test = pd.DataFrame(columns=['i', 'j', 'k'], dtype=int)\n",
    "test.loc[3] = {'i':int(1), 'j':int(23), 'k':int(12)}\n",
    "test.loc[1] = [4, 3,1]"
   ]
  },
  {
   "cell_type": "code",
   "execution_count": 104,
   "metadata": {
    "collapsed": false,
    "deletable": true,
    "editable": true
   },
   "outputs": [
    {
     "data": {
      "text/html": [
       "<div>\n",
       "<table border=\"1\" class=\"dataframe\">\n",
       "  <thead>\n",
       "    <tr style=\"text-align: right;\">\n",
       "      <th></th>\n",
       "      <th>i</th>\n",
       "      <th>j</th>\n",
       "      <th>k</th>\n",
       "    </tr>\n",
       "  </thead>\n",
       "  <tbody>\n",
       "    <tr>\n",
       "      <th>3</th>\n",
       "      <td>1.0</td>\n",
       "      <td>23.0</td>\n",
       "      <td>12.0</td>\n",
       "    </tr>\n",
       "    <tr>\n",
       "      <th>1</th>\n",
       "      <td>4.0</td>\n",
       "      <td>3.0</td>\n",
       "      <td>1.0</td>\n",
       "    </tr>\n",
       "  </tbody>\n",
       "</table>\n",
       "</div>"
      ],
      "text/plain": [
       "     i     j     k\n",
       "3  1.0  23.0  12.0\n",
       "1  4.0   3.0   1.0"
      ]
     },
     "execution_count": 104,
     "metadata": {},
     "output_type": "execute_result"
    }
   ],
   "source": [
    "test"
   ]
  },
  {
   "cell_type": "code",
   "execution_count": 105,
   "metadata": {
    "collapsed": false,
    "deletable": true,
    "editable": true
   },
   "outputs": [],
   "source": [
    "one = 10\n",
    "two = 234\n",
    "test.loc[3, ['i', 'j']] = [one, two]\n",
    "test.at[1, 'k'] = one"
   ]
  },
  {
   "cell_type": "code",
   "execution_count": 106,
   "metadata": {
    "collapsed": false,
    "deletable": true,
    "editable": true
   },
   "outputs": [
    {
     "data": {
      "text/plain": [
       "4.0"
      ]
     },
     "execution_count": 106,
     "metadata": {},
     "output_type": "execute_result"
    }
   ],
   "source": [
    "test.loc[1]['i']"
   ]
  },
  {
   "cell_type": "code",
   "execution_count": 107,
   "metadata": {
    "collapsed": false,
    "deletable": true,
    "editable": true
   },
   "outputs": [
    {
     "data": {
      "text/html": [
       "<div>\n",
       "<table border=\"1\" class=\"dataframe\">\n",
       "  <thead>\n",
       "    <tr style=\"text-align: right;\">\n",
       "      <th></th>\n",
       "      <th>i</th>\n",
       "      <th>j</th>\n",
       "      <th>k</th>\n",
       "    </tr>\n",
       "  </thead>\n",
       "  <tbody>\n",
       "    <tr>\n",
       "      <th>3</th>\n",
       "      <td>10.0</td>\n",
       "      <td>234.0</td>\n",
       "      <td>12.0</td>\n",
       "    </tr>\n",
       "    <tr>\n",
       "      <th>1</th>\n",
       "      <td>4.0</td>\n",
       "      <td>3.0</td>\n",
       "      <td>10.0</td>\n",
       "    </tr>\n",
       "  </tbody>\n",
       "</table>\n",
       "</div>"
      ],
      "text/plain": [
       "      i      j     k\n",
       "3  10.0  234.0  12.0\n",
       "1   4.0    3.0  10.0"
      ]
     },
     "execution_count": 107,
     "metadata": {},
     "output_type": "execute_result"
    }
   ],
   "source": [
    "test"
   ]
  },
  {
   "cell_type": "code",
   "execution_count": 17,
   "metadata": {
    "collapsed": true,
    "deletable": true,
    "editable": true
   },
   "outputs": [],
   "source": [
    "one = [1,2,3,4,0]\n",
    "two = [7,8,9,10,11]"
   ]
  },
  {
   "cell_type": "code",
   "execution_count": 22,
   "metadata": {
    "collapsed": false
   },
   "outputs": [],
   "source": [
    "test = two[one[0]:]"
   ]
  },
  {
   "cell_type": "code",
   "execution_count": 27,
   "metadata": {
    "collapsed": true
   },
   "outputs": [],
   "source": [
    "import torch\n",
    "test = torch.FloatTensor([1,2,3,4,5])\n",
    "test2 = torch.FloatTensor([1,2,3,4,5])"
   ]
  },
  {
   "cell_type": "code",
   "execution_count": 28,
   "metadata": {
    "collapsed": false
   },
   "outputs": [
    {
     "ename": "RuntimeError",
     "evalue": "index out of range at /Users/soumith/code/builder/wheel/pytorch-src/torch/lib/TH/generic/THTensorMath.c:277",
     "output_type": "error",
     "traceback": [
      "\u001b[0;31m----------------------------------------------------------------------\u001b[0m",
      "\u001b[0;31mRuntimeError\u001b[0m                         Traceback (most recent call last)",
      "\u001b[0;32m<ipython-input-28-06282f6608b9>\u001b[0m in \u001b[0;36m<module>\u001b[0;34m()\u001b[0m\n\u001b[0;32m----> 1\u001b[0;31m \u001b[0mtest\u001b[0m\u001b[0;34m[\u001b[0m\u001b[0mtest2\u001b[0m\u001b[0;34m.\u001b[0m\u001b[0mtype\u001b[0m\u001b[0;34m(\u001b[0m\u001b[0mtorch\u001b[0m\u001b[0;34m.\u001b[0m\u001b[0mLongTensor\u001b[0m\u001b[0;34m)\u001b[0m\u001b[0;34m]\u001b[0m\u001b[0;34m\u001b[0m\u001b[0m\n\u001b[0m",
      "\u001b[0;31mRuntimeError\u001b[0m: index out of range at /Users/soumith/code/builder/wheel/pytorch-src/torch/lib/TH/generic/THTensorMath.c:277"
     ]
    }
   ],
   "source": [
    "test[test2.type(torch.LongTensor)]"
   ]
  },
  {
   "cell_type": "code",
   "execution_count": 4,
   "metadata": {
    "collapsed": false
   },
   "outputs": [
    {
     "data": {
      "text/plain": [
       "0"
      ]
     },
     "execution_count": 4,
     "metadata": {},
     "output_type": "execute_result"
    }
   ],
   "source": [
    "int(.7)"
   ]
  },
  {
   "cell_type": "code",
   "execution_count": 5,
   "metadata": {
    "collapsed": false
   },
   "outputs": [
    {
     "data": {
      "text/plain": [
       "0"
      ]
     },
     "execution_count": 5,
     "metadata": {},
     "output_type": "execute_result"
    }
   ],
   "source": [
    "int(.99999999999999)"
   ]
  },
  {
   "cell_type": "code",
   "execution_count": 6,
   "metadata": {
    "collapsed": false
   },
   "outputs": [
    {
     "data": {
      "text/plain": [
       "1"
      ]
     },
     "execution_count": 6,
     "metadata": {},
     "output_type": "execute_result"
    }
   ],
   "source": [
    "int(1)"
   ]
  },
  {
   "cell_type": "code",
   "execution_count": 7,
   "metadata": {
    "collapsed": false
   },
   "outputs": [
    {
     "data": {
      "text/plain": [
       "1"
      ]
     },
     "execution_count": 7,
     "metadata": {},
     "output_type": "execute_result"
    }
   ],
   "source": [
    "int(.99999999999999999999999999999999999999999999999999999999999)"
   ]
  },
  {
   "cell_type": "code",
   "execution_count": 8,
   "metadata": {
    "collapsed": false
   },
   "outputs": [
    {
     "data": {
      "text/plain": [
       "0"
      ]
     },
     "execution_count": 8,
     "metadata": {},
     "output_type": "execute_result"
    }
   ],
   "source": [
    "int(1-3.6578e-07)"
   ]
  },
  {
   "cell_type": "code",
   "execution_count": 30,
   "metadata": {
    "collapsed": true
   },
   "outputs": [],
   "source": [
    "test = 30-3.6578e-05"
   ]
  },
  {
   "cell_type": "code",
   "execution_count": 11,
   "metadata": {
    "collapsed": false
   },
   "outputs": [
    {
     "ename": "AttributeError",
     "evalue": "'float' object has no attribute 'type'",
     "output_type": "error",
     "traceback": [
      "\u001b[0;31m----------------------------------------------------------------------\u001b[0m",
      "\u001b[0;31mAttributeError\u001b[0m                       Traceback (most recent call last)",
      "\u001b[0;32m<ipython-input-11-8994e7bd6a42>\u001b[0m in \u001b[0;36m<module>\u001b[0;34m()\u001b[0m\n\u001b[0;32m----> 1\u001b[0;31m \u001b[0mtest\u001b[0m\u001b[0;34m.\u001b[0m\u001b[0mtype\u001b[0m\u001b[0;34m(\u001b[0m\u001b[0mtorch\u001b[0m\u001b[0;34m.\u001b[0m\u001b[0mLongTensor\u001b[0m\u001b[0;34m)\u001b[0m\u001b[0;34m\u001b[0m\u001b[0m\n\u001b[0m",
      "\u001b[0;31mAttributeError\u001b[0m: 'float' object has no attribute 'type'"
     ]
    }
   ],
   "source": [
    "test.type(torch.LongTensor)\n"
   ]
  },
  {
   "cell_type": "code",
   "execution_count": 31,
   "metadata": {
    "collapsed": false
   },
   "outputs": [],
   "source": [
    "testone = torch.FloatTensor([test])"
   ]
  },
  {
   "cell_type": "code",
   "execution_count": 32,
   "metadata": {
    "collapsed": false
   },
   "outputs": [
    {
     "data": {
      "text/plain": [
       "\n",
       " 29\n",
       "[torch.LongTensor of size 1]"
      ]
     },
     "execution_count": 32,
     "metadata": {},
     "output_type": "execute_result"
    }
   ],
   "source": [
    "testone.type(torch.LongTensor)"
   ]
  },
  {
   "cell_type": "code",
   "execution_count": 38,
   "metadata": {
    "collapsed": false
   },
   "outputs": [
    {
     "data": {
      "text/plain": [
       "29"
      ]
     },
     "execution_count": 38,
     "metadata": {},
     "output_type": "execute_result"
    }
   ],
   "source": [
    "int(float(30-3.6578e-07)) "
   ]
  },
  {
   "cell_type": "code",
   "execution_count": 37,
   "metadata": {
    "collapsed": false
   },
   "outputs": [
    {
     "data": {
      "text/plain": [
       "\n",
       " 29\n",
       "[torch.LongTensor of size 1]"
      ]
     },
     "execution_count": 37,
     "metadata": {},
     "output_type": "execute_result"
    }
   ],
   "source": [
    "torch.FloatTensor([30-3.6578e-07]).type(torch.LongTensor)"
   ]
  },
  {
   "cell_type": "code",
   "execution_count": 43,
   "metadata": {
    "collapsed": false
   },
   "outputs": [
    {
     "data": {
      "text/plain": [
       "\n",
       " 1\n",
       "[torch.FloatTensor of size 1]"
      ]
     },
     "execution_count": 43,
     "metadata": {},
     "output_type": "execute_result"
    }
   ],
   "source": [
    "torch.ceil(torch.FloatTensor([3.6578e-20]))"
   ]
  },
  {
   "cell_type": "code",
   "execution_count": 49,
   "metadata": {
    "collapsed": true
   },
   "outputs": [],
   "source": [
    "df = pd.DataFrame({'A' : ['foo', 'bar', 'foo', 'bar',\n",
    "   ...:                           'foo', 'bar', 'foo', 'foo'],\n",
    "   ...:                    'B' : ['one', 'one', 'two', 'three',\n",
    "   ...:                           'two', 'two', 'one', 'three'],\n",
    "   ...:                    'C' : list(range(8)),\n",
    "   ...:                    'D' : list(range(8,16))})"
   ]
  },
  {
   "cell_type": "code",
   "execution_count": 55,
   "metadata": {
    "collapsed": false
   },
   "outputs": [
    {
     "name": "stdout",
     "output_type": "stream",
     "text": [
      "     A      B  C   D\n",
      "0  foo    one  0   8\n",
      "1  bar    one  1   9\n",
      "2  foo    two  2  10\n",
      "3  bar  three  3  11\n",
      "4  foo    two  4  12\n",
      "5  bar    two  5  13\n",
      "6  foo    one  6  14\n",
      "7  foo  three  7  15\n"
     ]
    },
    {
     "data": {
      "text/html": [
       "<div>\n",
       "<table border=\"1\" class=\"dataframe\">\n",
       "  <thead>\n",
       "    <tr style=\"text-align: right;\">\n",
       "      <th></th>\n",
       "      <th></th>\n",
       "      <th>C</th>\n",
       "      <th>D</th>\n",
       "    </tr>\n",
       "    <tr>\n",
       "      <th>A</th>\n",
       "      <th>B</th>\n",
       "      <th></th>\n",
       "      <th></th>\n",
       "    </tr>\n",
       "  </thead>\n",
       "  <tbody>\n",
       "    <tr>\n",
       "      <th rowspan=\"3\" valign=\"top\">bar</th>\n",
       "      <th>one</th>\n",
       "      <td>1</td>\n",
       "      <td>9</td>\n",
       "    </tr>\n",
       "    <tr>\n",
       "      <th>three</th>\n",
       "      <td>3</td>\n",
       "      <td>11</td>\n",
       "    </tr>\n",
       "    <tr>\n",
       "      <th>two</th>\n",
       "      <td>5</td>\n",
       "      <td>13</td>\n",
       "    </tr>\n",
       "    <tr>\n",
       "      <th rowspan=\"3\" valign=\"top\">foo</th>\n",
       "      <th>one</th>\n",
       "      <td>3</td>\n",
       "      <td>11</td>\n",
       "    </tr>\n",
       "    <tr>\n",
       "      <th>three</th>\n",
       "      <td>7</td>\n",
       "      <td>15</td>\n",
       "    </tr>\n",
       "    <tr>\n",
       "      <th>two</th>\n",
       "      <td>3</td>\n",
       "      <td>11</td>\n",
       "    </tr>\n",
       "  </tbody>\n",
       "</table>\n",
       "</div>"
      ],
      "text/plain": [
       "           C   D\n",
       "A   B           \n",
       "bar one    1   9\n",
       "    three  3  11\n",
       "    two    5  13\n",
       "foo one    3  11\n",
       "    three  7  15\n",
       "    two    3  11"
      ]
     },
     "execution_count": 55,
     "metadata": {},
     "output_type": "execute_result"
    }
   ],
   "source": [
    "print(df)\n",
    "df.groupby(['A','B']).mean()"
   ]
  },
  {
   "cell_type": "code",
   "execution_count": null,
   "metadata": {
    "collapsed": true
   },
   "outputs": [],
   "source": []
  }
 ],
 "metadata": {
  "kernelspec": {
   "display_name": "Python 3",
   "language": "python",
   "name": "python3"
  },
  "language_info": {
   "codemirror_mode": {
    "name": "ipython",
    "version": 3
   },
   "file_extension": ".py",
   "mimetype": "text/x-python",
   "name": "python",
   "nbconvert_exporter": "python",
   "pygments_lexer": "ipython3",
   "version": "3.5.2"
  }
 },
 "nbformat": 4,
 "nbformat_minor": 1
}
